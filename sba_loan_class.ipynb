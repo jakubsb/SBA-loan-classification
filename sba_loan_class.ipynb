{
  "cells": [
    {
      "cell_type": "code",
      "execution_count": 2,
      "metadata": {
        "id": "WW1u2PgO0B3f"
      },
      "outputs": [],
      "source": [
        "import pandas as pd\n",
        "import numpy as np\n",
        "import matplotlib.pyplot as plt\n",
        "import seaborn as sns\n",
        "from sklearn.preprocessing import StandardScaler\n",
        "from sklearn.linear_model import LogisticRegression\n",
        "from sklearn.model_selection import train_test_split\n",
        "from sklearn.metrics import classification_report\n",
        "from sklearn.metrics import confusion_matrix\n",
        "from sklearn.decomposition import PCA\n",
        "from xgboost import XGBClassifier\n",
        "from sklearn.neighbors import KNeighborsClassifier\n",
        "from sklearn.model_selection import GridSearchCV\n",
        "from sklearn import svm\n",
        "from sklearn.manifold import TSNE"
      ]
    },
    {
      "cell_type": "code",
      "execution_count": 3,
      "metadata": {
        "id": "QwK9l19RTbuR"
      },
      "outputs": [],
      "source": [
        "pd.options.mode.chained_assignment = None"
      ]
    },
    {
      "cell_type": "code",
      "execution_count": 4,
      "metadata": {
        "id": "iCU3Pxy-0M4I"
      },
      "outputs": [],
      "source": [
        "df = pd.read_csv('SBAnational.csv')\n",
        "df_copy = df.copy()"
      ]
    },
    {
      "cell_type": "code",
      "execution_count": 5,
      "metadata": {
        "colab": {
          "base_uri": "https://localhost:8080/",
          "height": 542
        },
        "id": "Zfk6utdY0Ong",
        "outputId": "12f87916-cf4d-4c1f-d165-ebbc84afd5e3"
      },
      "outputs": [
        {
          "output_type": "execute_result",
          "data": {
            "text/plain": [
              "   LoanNr_ChkDgt                           Name          City State      Zip  \\\n",
              "0     1000014003                 ABC HOBBYCRAFT    EVANSVILLE    IN  47711.0   \n",
              "1     1000024006    LANDMARK BAR & GRILLE (THE)     NEW PARIS    IN  46526.0   \n",
              "2     1000034009          WHITLOCK DDS, TODD M.   BLOOMINGTON    IN  47401.0   \n",
              "3     1000044001  BIG BUCKS PAWN & JEWELRY, LLC  BROKEN ARROW    OK  74012.0   \n",
              "4     1000054004    ANASTASIA CONFECTIONS, INC.       ORLANDO    FL  32801.0   \n",
              "\n",
              "                            Bank BankState     NAICS ApprovalDate  ApprovalFY  \\\n",
              "0               FIFTH THIRD BANK        OH  451120.0    28-Feb-97      1997.0   \n",
              "1                1ST SOURCE BANK        IN  722410.0    28-Feb-97      1997.0   \n",
              "2        GRANT COUNTY STATE BANK        IN  621210.0    28-Feb-97      1997.0   \n",
              "3  1ST NATL BK & TR CO OF BROKEN        OK       0.0    28-Feb-97      1997.0   \n",
              "4        FLORIDA BUS. DEVEL CORP        FL       0.0    28-Feb-97      1997.0   \n",
              "\n",
              "   ...  RevLineCr  LowDoc  ChgOffDate  DisbursementDate  DisbursementGross  \\\n",
              "0  ...          N       Y         NaN         28-Feb-99        $60,000.00    \n",
              "1  ...          N       Y         NaN         31-May-97        $40,000.00    \n",
              "2  ...          N       N         NaN         31-Dec-97       $287,000.00    \n",
              "3  ...          N       Y         NaN         30-Jun-97        $35,000.00    \n",
              "4  ...          N       N         NaN         14-May-97       $229,000.00    \n",
              "\n",
              "   BalanceGross  MIS_Status ChgOffPrinGr        GrAppv      SBA_Appv  \n",
              "0        $0.00        P I F       $0.00    $60,000.00    $48,000.00   \n",
              "1        $0.00        P I F       $0.00    $40,000.00    $32,000.00   \n",
              "2        $0.00        P I F       $0.00   $287,000.00   $215,250.00   \n",
              "3        $0.00        P I F       $0.00    $35,000.00    $28,000.00   \n",
              "4        $0.00        P I F       $0.00   $229,000.00   $229,000.00   \n",
              "\n",
              "[5 rows x 27 columns]"
            ],
            "text/html": [
              "\n",
              "  <div id=\"df-68fc5e0c-789e-4c17-895a-54a5d32f6884\">\n",
              "    <div class=\"colab-df-container\">\n",
              "      <div>\n",
              "<style scoped>\n",
              "    .dataframe tbody tr th:only-of-type {\n",
              "        vertical-align: middle;\n",
              "    }\n",
              "\n",
              "    .dataframe tbody tr th {\n",
              "        vertical-align: top;\n",
              "    }\n",
              "\n",
              "    .dataframe thead th {\n",
              "        text-align: right;\n",
              "    }\n",
              "</style>\n",
              "<table border=\"1\" class=\"dataframe\">\n",
              "  <thead>\n",
              "    <tr style=\"text-align: right;\">\n",
              "      <th></th>\n",
              "      <th>LoanNr_ChkDgt</th>\n",
              "      <th>Name</th>\n",
              "      <th>City</th>\n",
              "      <th>State</th>\n",
              "      <th>Zip</th>\n",
              "      <th>Bank</th>\n",
              "      <th>BankState</th>\n",
              "      <th>NAICS</th>\n",
              "      <th>ApprovalDate</th>\n",
              "      <th>ApprovalFY</th>\n",
              "      <th>...</th>\n",
              "      <th>RevLineCr</th>\n",
              "      <th>LowDoc</th>\n",
              "      <th>ChgOffDate</th>\n",
              "      <th>DisbursementDate</th>\n",
              "      <th>DisbursementGross</th>\n",
              "      <th>BalanceGross</th>\n",
              "      <th>MIS_Status</th>\n",
              "      <th>ChgOffPrinGr</th>\n",
              "      <th>GrAppv</th>\n",
              "      <th>SBA_Appv</th>\n",
              "    </tr>\n",
              "  </thead>\n",
              "  <tbody>\n",
              "    <tr>\n",
              "      <th>0</th>\n",
              "      <td>1000014003</td>\n",
              "      <td>ABC HOBBYCRAFT</td>\n",
              "      <td>EVANSVILLE</td>\n",
              "      <td>IN</td>\n",
              "      <td>47711.0</td>\n",
              "      <td>FIFTH THIRD BANK</td>\n",
              "      <td>OH</td>\n",
              "      <td>451120.0</td>\n",
              "      <td>28-Feb-97</td>\n",
              "      <td>1997.0</td>\n",
              "      <td>...</td>\n",
              "      <td>N</td>\n",
              "      <td>Y</td>\n",
              "      <td>NaN</td>\n",
              "      <td>28-Feb-99</td>\n",
              "      <td>$60,000.00</td>\n",
              "      <td>$0.00</td>\n",
              "      <td>P I F</td>\n",
              "      <td>$0.00</td>\n",
              "      <td>$60,000.00</td>\n",
              "      <td>$48,000.00</td>\n",
              "    </tr>\n",
              "    <tr>\n",
              "      <th>1</th>\n",
              "      <td>1000024006</td>\n",
              "      <td>LANDMARK BAR &amp; GRILLE (THE)</td>\n",
              "      <td>NEW PARIS</td>\n",
              "      <td>IN</td>\n",
              "      <td>46526.0</td>\n",
              "      <td>1ST SOURCE BANK</td>\n",
              "      <td>IN</td>\n",
              "      <td>722410.0</td>\n",
              "      <td>28-Feb-97</td>\n",
              "      <td>1997.0</td>\n",
              "      <td>...</td>\n",
              "      <td>N</td>\n",
              "      <td>Y</td>\n",
              "      <td>NaN</td>\n",
              "      <td>31-May-97</td>\n",
              "      <td>$40,000.00</td>\n",
              "      <td>$0.00</td>\n",
              "      <td>P I F</td>\n",
              "      <td>$0.00</td>\n",
              "      <td>$40,000.00</td>\n",
              "      <td>$32,000.00</td>\n",
              "    </tr>\n",
              "    <tr>\n",
              "      <th>2</th>\n",
              "      <td>1000034009</td>\n",
              "      <td>WHITLOCK DDS, TODD M.</td>\n",
              "      <td>BLOOMINGTON</td>\n",
              "      <td>IN</td>\n",
              "      <td>47401.0</td>\n",
              "      <td>GRANT COUNTY STATE BANK</td>\n",
              "      <td>IN</td>\n",
              "      <td>621210.0</td>\n",
              "      <td>28-Feb-97</td>\n",
              "      <td>1997.0</td>\n",
              "      <td>...</td>\n",
              "      <td>N</td>\n",
              "      <td>N</td>\n",
              "      <td>NaN</td>\n",
              "      <td>31-Dec-97</td>\n",
              "      <td>$287,000.00</td>\n",
              "      <td>$0.00</td>\n",
              "      <td>P I F</td>\n",
              "      <td>$0.00</td>\n",
              "      <td>$287,000.00</td>\n",
              "      <td>$215,250.00</td>\n",
              "    </tr>\n",
              "    <tr>\n",
              "      <th>3</th>\n",
              "      <td>1000044001</td>\n",
              "      <td>BIG BUCKS PAWN &amp; JEWELRY, LLC</td>\n",
              "      <td>BROKEN ARROW</td>\n",
              "      <td>OK</td>\n",
              "      <td>74012.0</td>\n",
              "      <td>1ST NATL BK &amp; TR CO OF BROKEN</td>\n",
              "      <td>OK</td>\n",
              "      <td>0.0</td>\n",
              "      <td>28-Feb-97</td>\n",
              "      <td>1997.0</td>\n",
              "      <td>...</td>\n",
              "      <td>N</td>\n",
              "      <td>Y</td>\n",
              "      <td>NaN</td>\n",
              "      <td>30-Jun-97</td>\n",
              "      <td>$35,000.00</td>\n",
              "      <td>$0.00</td>\n",
              "      <td>P I F</td>\n",
              "      <td>$0.00</td>\n",
              "      <td>$35,000.00</td>\n",
              "      <td>$28,000.00</td>\n",
              "    </tr>\n",
              "    <tr>\n",
              "      <th>4</th>\n",
              "      <td>1000054004</td>\n",
              "      <td>ANASTASIA CONFECTIONS, INC.</td>\n",
              "      <td>ORLANDO</td>\n",
              "      <td>FL</td>\n",
              "      <td>32801.0</td>\n",
              "      <td>FLORIDA BUS. DEVEL CORP</td>\n",
              "      <td>FL</td>\n",
              "      <td>0.0</td>\n",
              "      <td>28-Feb-97</td>\n",
              "      <td>1997.0</td>\n",
              "      <td>...</td>\n",
              "      <td>N</td>\n",
              "      <td>N</td>\n",
              "      <td>NaN</td>\n",
              "      <td>14-May-97</td>\n",
              "      <td>$229,000.00</td>\n",
              "      <td>$0.00</td>\n",
              "      <td>P I F</td>\n",
              "      <td>$0.00</td>\n",
              "      <td>$229,000.00</td>\n",
              "      <td>$229,000.00</td>\n",
              "    </tr>\n",
              "  </tbody>\n",
              "</table>\n",
              "<p>5 rows × 27 columns</p>\n",
              "</div>\n",
              "      <button class=\"colab-df-convert\" onclick=\"convertToInteractive('df-68fc5e0c-789e-4c17-895a-54a5d32f6884')\"\n",
              "              title=\"Convert this dataframe to an interactive table.\"\n",
              "              style=\"display:none;\">\n",
              "        \n",
              "  <svg xmlns=\"http://www.w3.org/2000/svg\" height=\"24px\"viewBox=\"0 0 24 24\"\n",
              "       width=\"24px\">\n",
              "    <path d=\"M0 0h24v24H0V0z\" fill=\"none\"/>\n",
              "    <path d=\"M18.56 5.44l.94 2.06.94-2.06 2.06-.94-2.06-.94-.94-2.06-.94 2.06-2.06.94zm-11 1L8.5 8.5l.94-2.06 2.06-.94-2.06-.94L8.5 2.5l-.94 2.06-2.06.94zm10 10l.94 2.06.94-2.06 2.06-.94-2.06-.94-.94-2.06-.94 2.06-2.06.94z\"/><path d=\"M17.41 7.96l-1.37-1.37c-.4-.4-.92-.59-1.43-.59-.52 0-1.04.2-1.43.59L10.3 9.45l-7.72 7.72c-.78.78-.78 2.05 0 2.83L4 21.41c.39.39.9.59 1.41.59.51 0 1.02-.2 1.41-.59l7.78-7.78 2.81-2.81c.8-.78.8-2.07 0-2.86zM5.41 20L4 18.59l7.72-7.72 1.47 1.35L5.41 20z\"/>\n",
              "  </svg>\n",
              "      </button>\n",
              "      \n",
              "  <style>\n",
              "    .colab-df-container {\n",
              "      display:flex;\n",
              "      flex-wrap:wrap;\n",
              "      gap: 12px;\n",
              "    }\n",
              "\n",
              "    .colab-df-convert {\n",
              "      background-color: #E8F0FE;\n",
              "      border: none;\n",
              "      border-radius: 50%;\n",
              "      cursor: pointer;\n",
              "      display: none;\n",
              "      fill: #1967D2;\n",
              "      height: 32px;\n",
              "      padding: 0 0 0 0;\n",
              "      width: 32px;\n",
              "    }\n",
              "\n",
              "    .colab-df-convert:hover {\n",
              "      background-color: #E2EBFA;\n",
              "      box-shadow: 0px 1px 2px rgba(60, 64, 67, 0.3), 0px 1px 3px 1px rgba(60, 64, 67, 0.15);\n",
              "      fill: #174EA6;\n",
              "    }\n",
              "\n",
              "    [theme=dark] .colab-df-convert {\n",
              "      background-color: #3B4455;\n",
              "      fill: #D2E3FC;\n",
              "    }\n",
              "\n",
              "    [theme=dark] .colab-df-convert:hover {\n",
              "      background-color: #434B5C;\n",
              "      box-shadow: 0px 1px 3px 1px rgba(0, 0, 0, 0.15);\n",
              "      filter: drop-shadow(0px 1px 2px rgba(0, 0, 0, 0.3));\n",
              "      fill: #FFFFFF;\n",
              "    }\n",
              "  </style>\n",
              "\n",
              "      <script>\n",
              "        const buttonEl =\n",
              "          document.querySelector('#df-68fc5e0c-789e-4c17-895a-54a5d32f6884 button.colab-df-convert');\n",
              "        buttonEl.style.display =\n",
              "          google.colab.kernel.accessAllowed ? 'block' : 'none';\n",
              "\n",
              "        async function convertToInteractive(key) {\n",
              "          const element = document.querySelector('#df-68fc5e0c-789e-4c17-895a-54a5d32f6884');\n",
              "          const dataTable =\n",
              "            await google.colab.kernel.invokeFunction('convertToInteractive',\n",
              "                                                     [key], {});\n",
              "          if (!dataTable) return;\n",
              "\n",
              "          const docLinkHtml = 'Like what you see? Visit the ' +\n",
              "            '<a target=\"_blank\" href=https://colab.research.google.com/notebooks/data_table.ipynb>data table notebook</a>'\n",
              "            + ' to learn more about interactive tables.';\n",
              "          element.innerHTML = '';\n",
              "          dataTable['output_type'] = 'display_data';\n",
              "          await google.colab.output.renderOutput(dataTable, element);\n",
              "          const docLink = document.createElement('div');\n",
              "          docLink.innerHTML = docLinkHtml;\n",
              "          element.appendChild(docLink);\n",
              "        }\n",
              "      </script>\n",
              "    </div>\n",
              "  </div>\n",
              "  "
            ]
          },
          "metadata": {},
          "execution_count": 5
        }
      ],
      "source": [
        "df.head()"
      ]
    },
    {
      "cell_type": "code",
      "execution_count": 6,
      "metadata": {
        "colab": {
          "base_uri": "https://localhost:8080/"
        },
        "id": "OQDvF4fw0Ol2",
        "outputId": "4f15a62b-53db-4736-d54e-5d379ad4540e"
      },
      "outputs": [
        {
          "output_type": "execute_result",
          "data": {
            "text/plain": [
              "LoanNr_ChkDgt            0\n",
              "Name                     4\n",
              "City                     0\n",
              "State                    1\n",
              "Zip                      1\n",
              "Bank                    12\n",
              "BankState               12\n",
              "NAICS                    1\n",
              "ApprovalDate             1\n",
              "ApprovalFY               1\n",
              "Term                     1\n",
              "NoEmp                    1\n",
              "NewExist                 1\n",
              "CreateJob                1\n",
              "RetainedJob              1\n",
              "FranchiseCode            1\n",
              "UrbanRural               1\n",
              "RevLineCr                3\n",
              "LowDoc                   1\n",
              "ChgOffDate           12388\n",
              "DisbursementDate        26\n",
              "DisbursementGross        1\n",
              "BalanceGross             1\n",
              "MIS_Status              31\n",
              "ChgOffPrinGr             1\n",
              "GrAppv                   1\n",
              "SBA_Appv                 1\n",
              "dtype: int64"
            ]
          },
          "metadata": {},
          "execution_count": 6
        }
      ],
      "source": [
        "df.isnull().sum()"
      ]
    },
    {
      "cell_type": "code",
      "execution_count": 7,
      "metadata": {
        "colab": {
          "base_uri": "https://localhost:8080/"
        },
        "id": "aXO_AFT00Ojc",
        "outputId": "f4471ffb-7565-4a75-ee10-3995f35e4cee"
      },
      "outputs": [
        {
          "output_type": "execute_result",
          "data": {
            "text/plain": [
              "LoanNr_ChkDgt            0\n",
              "Name                     0\n",
              "City                     0\n",
              "State                    0\n",
              "Zip                      0\n",
              "Bank                     0\n",
              "BankState                0\n",
              "NAICS                    0\n",
              "ApprovalDate             0\n",
              "ApprovalFY               0\n",
              "Term                     0\n",
              "NoEmp                    0\n",
              "NewExist                 0\n",
              "CreateJob                0\n",
              "RetainedJob              0\n",
              "FranchiseCode            0\n",
              "UrbanRural               0\n",
              "RevLineCr                0\n",
              "LowDoc                   0\n",
              "ChgOffDate           12351\n",
              "DisbursementDate         0\n",
              "DisbursementGross        0\n",
              "BalanceGross             0\n",
              "MIS_Status               0\n",
              "ChgOffPrinGr             0\n",
              "GrAppv                   0\n",
              "SBA_Appv                 0\n",
              "dtype: int64"
            ]
          },
          "metadata": {},
          "execution_count": 7
        }
      ],
      "source": [
        "df.dropna(subset=['Name', 'City', 'State', 'BankState', 'NewExist','RevLineCr',\n",
        "                  'LowDoc', 'DisbursementDate', 'MIS_Status'], inplace=True)\n",
        "df.isnull().sum()"
      ]
    },
    {
      "cell_type": "code",
      "execution_count": 8,
      "metadata": {
        "id": "7BBo3uJi5iB9"
      },
      "outputs": [],
      "source": [
        "df = df.drop(columns=['ChgOffDate'], axis=1)"
      ]
    },
    {
      "cell_type": "code",
      "execution_count": 9,
      "metadata": {
        "colab": {
          "base_uri": "https://localhost:8080/",
          "height": 206
        },
        "id": "PxYtHkI90Og8",
        "outputId": "ddb54e81-6765-4eff-af56-d40ae5323224"
      },
      "outputs": [
        {
          "output_type": "execute_result",
          "data": {
            "text/plain": [
              "  DisbursementGross BalanceGross ChgOffPrinGr     GrAppv   SBA_Appv\n",
              "0          60000.00         0.00         0.00   60000.00   48000.00\n",
              "1          40000.00         0.00         0.00   40000.00   32000.00\n",
              "2         287000.00         0.00         0.00  287000.00  215250.00\n",
              "3          35000.00         0.00         0.00   35000.00   28000.00\n",
              "4         229000.00         0.00         0.00  229000.00  229000.00"
            ],
            "text/html": [
              "\n",
              "  <div id=\"df-0d25df6a-f71f-4d43-b20c-c8f4dcde77ad\">\n",
              "    <div class=\"colab-df-container\">\n",
              "      <div>\n",
              "<style scoped>\n",
              "    .dataframe tbody tr th:only-of-type {\n",
              "        vertical-align: middle;\n",
              "    }\n",
              "\n",
              "    .dataframe tbody tr th {\n",
              "        vertical-align: top;\n",
              "    }\n",
              "\n",
              "    .dataframe thead th {\n",
              "        text-align: right;\n",
              "    }\n",
              "</style>\n",
              "<table border=\"1\" class=\"dataframe\">\n",
              "  <thead>\n",
              "    <tr style=\"text-align: right;\">\n",
              "      <th></th>\n",
              "      <th>DisbursementGross</th>\n",
              "      <th>BalanceGross</th>\n",
              "      <th>ChgOffPrinGr</th>\n",
              "      <th>GrAppv</th>\n",
              "      <th>SBA_Appv</th>\n",
              "    </tr>\n",
              "  </thead>\n",
              "  <tbody>\n",
              "    <tr>\n",
              "      <th>0</th>\n",
              "      <td>60000.00</td>\n",
              "      <td>0.00</td>\n",
              "      <td>0.00</td>\n",
              "      <td>60000.00</td>\n",
              "      <td>48000.00</td>\n",
              "    </tr>\n",
              "    <tr>\n",
              "      <th>1</th>\n",
              "      <td>40000.00</td>\n",
              "      <td>0.00</td>\n",
              "      <td>0.00</td>\n",
              "      <td>40000.00</td>\n",
              "      <td>32000.00</td>\n",
              "    </tr>\n",
              "    <tr>\n",
              "      <th>2</th>\n",
              "      <td>287000.00</td>\n",
              "      <td>0.00</td>\n",
              "      <td>0.00</td>\n",
              "      <td>287000.00</td>\n",
              "      <td>215250.00</td>\n",
              "    </tr>\n",
              "    <tr>\n",
              "      <th>3</th>\n",
              "      <td>35000.00</td>\n",
              "      <td>0.00</td>\n",
              "      <td>0.00</td>\n",
              "      <td>35000.00</td>\n",
              "      <td>28000.00</td>\n",
              "    </tr>\n",
              "    <tr>\n",
              "      <th>4</th>\n",
              "      <td>229000.00</td>\n",
              "      <td>0.00</td>\n",
              "      <td>0.00</td>\n",
              "      <td>229000.00</td>\n",
              "      <td>229000.00</td>\n",
              "    </tr>\n",
              "  </tbody>\n",
              "</table>\n",
              "</div>\n",
              "      <button class=\"colab-df-convert\" onclick=\"convertToInteractive('df-0d25df6a-f71f-4d43-b20c-c8f4dcde77ad')\"\n",
              "              title=\"Convert this dataframe to an interactive table.\"\n",
              "              style=\"display:none;\">\n",
              "        \n",
              "  <svg xmlns=\"http://www.w3.org/2000/svg\" height=\"24px\"viewBox=\"0 0 24 24\"\n",
              "       width=\"24px\">\n",
              "    <path d=\"M0 0h24v24H0V0z\" fill=\"none\"/>\n",
              "    <path d=\"M18.56 5.44l.94 2.06.94-2.06 2.06-.94-2.06-.94-.94-2.06-.94 2.06-2.06.94zm-11 1L8.5 8.5l.94-2.06 2.06-.94-2.06-.94L8.5 2.5l-.94 2.06-2.06.94zm10 10l.94 2.06.94-2.06 2.06-.94-2.06-.94-.94-2.06-.94 2.06-2.06.94z\"/><path d=\"M17.41 7.96l-1.37-1.37c-.4-.4-.92-.59-1.43-.59-.52 0-1.04.2-1.43.59L10.3 9.45l-7.72 7.72c-.78.78-.78 2.05 0 2.83L4 21.41c.39.39.9.59 1.41.59.51 0 1.02-.2 1.41-.59l7.78-7.78 2.81-2.81c.8-.78.8-2.07 0-2.86zM5.41 20L4 18.59l7.72-7.72 1.47 1.35L5.41 20z\"/>\n",
              "  </svg>\n",
              "      </button>\n",
              "      \n",
              "  <style>\n",
              "    .colab-df-container {\n",
              "      display:flex;\n",
              "      flex-wrap:wrap;\n",
              "      gap: 12px;\n",
              "    }\n",
              "\n",
              "    .colab-df-convert {\n",
              "      background-color: #E8F0FE;\n",
              "      border: none;\n",
              "      border-radius: 50%;\n",
              "      cursor: pointer;\n",
              "      display: none;\n",
              "      fill: #1967D2;\n",
              "      height: 32px;\n",
              "      padding: 0 0 0 0;\n",
              "      width: 32px;\n",
              "    }\n",
              "\n",
              "    .colab-df-convert:hover {\n",
              "      background-color: #E2EBFA;\n",
              "      box-shadow: 0px 1px 2px rgba(60, 64, 67, 0.3), 0px 1px 3px 1px rgba(60, 64, 67, 0.15);\n",
              "      fill: #174EA6;\n",
              "    }\n",
              "\n",
              "    [theme=dark] .colab-df-convert {\n",
              "      background-color: #3B4455;\n",
              "      fill: #D2E3FC;\n",
              "    }\n",
              "\n",
              "    [theme=dark] .colab-df-convert:hover {\n",
              "      background-color: #434B5C;\n",
              "      box-shadow: 0px 1px 3px 1px rgba(0, 0, 0, 0.15);\n",
              "      filter: drop-shadow(0px 1px 2px rgba(0, 0, 0, 0.3));\n",
              "      fill: #FFFFFF;\n",
              "    }\n",
              "  </style>\n",
              "\n",
              "      <script>\n",
              "        const buttonEl =\n",
              "          document.querySelector('#df-0d25df6a-f71f-4d43-b20c-c8f4dcde77ad button.colab-df-convert');\n",
              "        buttonEl.style.display =\n",
              "          google.colab.kernel.accessAllowed ? 'block' : 'none';\n",
              "\n",
              "        async function convertToInteractive(key) {\n",
              "          const element = document.querySelector('#df-0d25df6a-f71f-4d43-b20c-c8f4dcde77ad');\n",
              "          const dataTable =\n",
              "            await google.colab.kernel.invokeFunction('convertToInteractive',\n",
              "                                                     [key], {});\n",
              "          if (!dataTable) return;\n",
              "\n",
              "          const docLinkHtml = 'Like what you see? Visit the ' +\n",
              "            '<a target=\"_blank\" href=https://colab.research.google.com/notebooks/data_table.ipynb>data table notebook</a>'\n",
              "            + ' to learn more about interactive tables.';\n",
              "          element.innerHTML = '';\n",
              "          dataTable['output_type'] = 'display_data';\n",
              "          await google.colab.output.renderOutput(dataTable, element);\n",
              "          const docLink = document.createElement('div');\n",
              "          docLink.innerHTML = docLinkHtml;\n",
              "          element.appendChild(docLink);\n",
              "        }\n",
              "      </script>\n",
              "    </div>\n",
              "  </div>\n",
              "  "
            ]
          },
          "metadata": {},
          "execution_count": 9
        }
      ],
      "source": [
        "c_dollar = ['DisbursementGross', 'BalanceGross', 'ChgOffPrinGr', 'GrAppv', 'SBA_Appv']\n",
        "df[c_dollar] = df[c_dollar].applymap(lambda x: x.strip().replace('$', '').replace(',', ''))\n",
        "df[c_dollar].head()"
      ]
    },
    {
      "cell_type": "code",
      "execution_count": 10,
      "metadata": {
        "colab": {
          "base_uri": "https://localhost:8080/"
        },
        "id": "jzUMvHmn0OeT",
        "outputId": "333f82ed-00fb-490b-c582-fc15285a871e"
      },
      "outputs": [
        {
          "output_type": "execute_result",
          "data": {
            "text/plain": [
              "LoanNr_ChkDgt          int64\n",
              "Name                  object\n",
              "City                  object\n",
              "State                 object\n",
              "Zip                  float64\n",
              "Bank                  object\n",
              "BankState             object\n",
              "NAICS                float64\n",
              "ApprovalDate          object\n",
              "ApprovalFY           float64\n",
              "Term                 float64\n",
              "NoEmp                float64\n",
              "NewExist             float64\n",
              "CreateJob            float64\n",
              "RetainedJob          float64\n",
              "FranchiseCode        float64\n",
              "UrbanRural           float64\n",
              "RevLineCr             object\n",
              "LowDoc                object\n",
              "DisbursementDate      object\n",
              "DisbursementGross     object\n",
              "BalanceGross          object\n",
              "MIS_Status            object\n",
              "ChgOffPrinGr          object\n",
              "GrAppv                object\n",
              "SBA_Appv              object\n",
              "dtype: object"
            ]
          },
          "metadata": {},
          "execution_count": 10
        }
      ],
      "source": [
        "df.dtypes"
      ]
    },
    {
      "cell_type": "code",
      "execution_count": 11,
      "metadata": {
        "colab": {
          "base_uri": "https://localhost:8080/",
          "height": 423
        },
        "id": "ZnRA3BjX0OaO",
        "outputId": "0286a601-a14c-4280-c55e-fcb75201b2f2"
      },
      "outputs": [
        {
          "output_type": "execute_result",
          "data": {
            "text/plain": [
              "       DisbursementGross  BalanceGross  ChgOffPrinGr     GrAppv  SBA_Appv\n",
              "0                60000.0           0.0           0.0    60000.0   48000.0\n",
              "1                40000.0           0.0           0.0    40000.0   32000.0\n",
              "2               287000.0           0.0           0.0   287000.0  215250.0\n",
              "3                35000.0           0.0           0.0    35000.0   28000.0\n",
              "4               229000.0           0.0           0.0   229000.0  229000.0\n",
              "...                  ...           ...           ...        ...       ...\n",
              "15563          1088000.0           0.0           0.0  1088000.0  745280.0\n",
              "15564           323000.0           0.0           0.0   323000.0  242250.0\n",
              "15565            62410.0           0.0           0.0    59000.0   29500.0\n",
              "15566            39960.0           0.0           0.0    35000.0   17500.0\n",
              "15567           235000.0           0.0           0.0   240129.0  180097.0\n",
              "\n",
              "[15515 rows x 5 columns]"
            ],
            "text/html": [
              "\n",
              "  <div id=\"df-3ee77f75-8225-4671-971b-72c6c2387866\">\n",
              "    <div class=\"colab-df-container\">\n",
              "      <div>\n",
              "<style scoped>\n",
              "    .dataframe tbody tr th:only-of-type {\n",
              "        vertical-align: middle;\n",
              "    }\n",
              "\n",
              "    .dataframe tbody tr th {\n",
              "        vertical-align: top;\n",
              "    }\n",
              "\n",
              "    .dataframe thead th {\n",
              "        text-align: right;\n",
              "    }\n",
              "</style>\n",
              "<table border=\"1\" class=\"dataframe\">\n",
              "  <thead>\n",
              "    <tr style=\"text-align: right;\">\n",
              "      <th></th>\n",
              "      <th>DisbursementGross</th>\n",
              "      <th>BalanceGross</th>\n",
              "      <th>ChgOffPrinGr</th>\n",
              "      <th>GrAppv</th>\n",
              "      <th>SBA_Appv</th>\n",
              "    </tr>\n",
              "  </thead>\n",
              "  <tbody>\n",
              "    <tr>\n",
              "      <th>0</th>\n",
              "      <td>60000.0</td>\n",
              "      <td>0.0</td>\n",
              "      <td>0.0</td>\n",
              "      <td>60000.0</td>\n",
              "      <td>48000.0</td>\n",
              "    </tr>\n",
              "    <tr>\n",
              "      <th>1</th>\n",
              "      <td>40000.0</td>\n",
              "      <td>0.0</td>\n",
              "      <td>0.0</td>\n",
              "      <td>40000.0</td>\n",
              "      <td>32000.0</td>\n",
              "    </tr>\n",
              "    <tr>\n",
              "      <th>2</th>\n",
              "      <td>287000.0</td>\n",
              "      <td>0.0</td>\n",
              "      <td>0.0</td>\n",
              "      <td>287000.0</td>\n",
              "      <td>215250.0</td>\n",
              "    </tr>\n",
              "    <tr>\n",
              "      <th>3</th>\n",
              "      <td>35000.0</td>\n",
              "      <td>0.0</td>\n",
              "      <td>0.0</td>\n",
              "      <td>35000.0</td>\n",
              "      <td>28000.0</td>\n",
              "    </tr>\n",
              "    <tr>\n",
              "      <th>4</th>\n",
              "      <td>229000.0</td>\n",
              "      <td>0.0</td>\n",
              "      <td>0.0</td>\n",
              "      <td>229000.0</td>\n",
              "      <td>229000.0</td>\n",
              "    </tr>\n",
              "    <tr>\n",
              "      <th>...</th>\n",
              "      <td>...</td>\n",
              "      <td>...</td>\n",
              "      <td>...</td>\n",
              "      <td>...</td>\n",
              "      <td>...</td>\n",
              "    </tr>\n",
              "    <tr>\n",
              "      <th>15563</th>\n",
              "      <td>1088000.0</td>\n",
              "      <td>0.0</td>\n",
              "      <td>0.0</td>\n",
              "      <td>1088000.0</td>\n",
              "      <td>745280.0</td>\n",
              "    </tr>\n",
              "    <tr>\n",
              "      <th>15564</th>\n",
              "      <td>323000.0</td>\n",
              "      <td>0.0</td>\n",
              "      <td>0.0</td>\n",
              "      <td>323000.0</td>\n",
              "      <td>242250.0</td>\n",
              "    </tr>\n",
              "    <tr>\n",
              "      <th>15565</th>\n",
              "      <td>62410.0</td>\n",
              "      <td>0.0</td>\n",
              "      <td>0.0</td>\n",
              "      <td>59000.0</td>\n",
              "      <td>29500.0</td>\n",
              "    </tr>\n",
              "    <tr>\n",
              "      <th>15566</th>\n",
              "      <td>39960.0</td>\n",
              "      <td>0.0</td>\n",
              "      <td>0.0</td>\n",
              "      <td>35000.0</td>\n",
              "      <td>17500.0</td>\n",
              "    </tr>\n",
              "    <tr>\n",
              "      <th>15567</th>\n",
              "      <td>235000.0</td>\n",
              "      <td>0.0</td>\n",
              "      <td>0.0</td>\n",
              "      <td>240129.0</td>\n",
              "      <td>180097.0</td>\n",
              "    </tr>\n",
              "  </tbody>\n",
              "</table>\n",
              "<p>15515 rows × 5 columns</p>\n",
              "</div>\n",
              "      <button class=\"colab-df-convert\" onclick=\"convertToInteractive('df-3ee77f75-8225-4671-971b-72c6c2387866')\"\n",
              "              title=\"Convert this dataframe to an interactive table.\"\n",
              "              style=\"display:none;\">\n",
              "        \n",
              "  <svg xmlns=\"http://www.w3.org/2000/svg\" height=\"24px\"viewBox=\"0 0 24 24\"\n",
              "       width=\"24px\">\n",
              "    <path d=\"M0 0h24v24H0V0z\" fill=\"none\"/>\n",
              "    <path d=\"M18.56 5.44l.94 2.06.94-2.06 2.06-.94-2.06-.94-.94-2.06-.94 2.06-2.06.94zm-11 1L8.5 8.5l.94-2.06 2.06-.94-2.06-.94L8.5 2.5l-.94 2.06-2.06.94zm10 10l.94 2.06.94-2.06 2.06-.94-2.06-.94-.94-2.06-.94 2.06-2.06.94z\"/><path d=\"M17.41 7.96l-1.37-1.37c-.4-.4-.92-.59-1.43-.59-.52 0-1.04.2-1.43.59L10.3 9.45l-7.72 7.72c-.78.78-.78 2.05 0 2.83L4 21.41c.39.39.9.59 1.41.59.51 0 1.02-.2 1.41-.59l7.78-7.78 2.81-2.81c.8-.78.8-2.07 0-2.86zM5.41 20L4 18.59l7.72-7.72 1.47 1.35L5.41 20z\"/>\n",
              "  </svg>\n",
              "      </button>\n",
              "      \n",
              "  <style>\n",
              "    .colab-df-container {\n",
              "      display:flex;\n",
              "      flex-wrap:wrap;\n",
              "      gap: 12px;\n",
              "    }\n",
              "\n",
              "    .colab-df-convert {\n",
              "      background-color: #E8F0FE;\n",
              "      border: none;\n",
              "      border-radius: 50%;\n",
              "      cursor: pointer;\n",
              "      display: none;\n",
              "      fill: #1967D2;\n",
              "      height: 32px;\n",
              "      padding: 0 0 0 0;\n",
              "      width: 32px;\n",
              "    }\n",
              "\n",
              "    .colab-df-convert:hover {\n",
              "      background-color: #E2EBFA;\n",
              "      box-shadow: 0px 1px 2px rgba(60, 64, 67, 0.3), 0px 1px 3px 1px rgba(60, 64, 67, 0.15);\n",
              "      fill: #174EA6;\n",
              "    }\n",
              "\n",
              "    [theme=dark] .colab-df-convert {\n",
              "      background-color: #3B4455;\n",
              "      fill: #D2E3FC;\n",
              "    }\n",
              "\n",
              "    [theme=dark] .colab-df-convert:hover {\n",
              "      background-color: #434B5C;\n",
              "      box-shadow: 0px 1px 3px 1px rgba(0, 0, 0, 0.15);\n",
              "      filter: drop-shadow(0px 1px 2px rgba(0, 0, 0, 0.3));\n",
              "      fill: #FFFFFF;\n",
              "    }\n",
              "  </style>\n",
              "\n",
              "      <script>\n",
              "        const buttonEl =\n",
              "          document.querySelector('#df-3ee77f75-8225-4671-971b-72c6c2387866 button.colab-df-convert');\n",
              "        buttonEl.style.display =\n",
              "          google.colab.kernel.accessAllowed ? 'block' : 'none';\n",
              "\n",
              "        async function convertToInteractive(key) {\n",
              "          const element = document.querySelector('#df-3ee77f75-8225-4671-971b-72c6c2387866');\n",
              "          const dataTable =\n",
              "            await google.colab.kernel.invokeFunction('convertToInteractive',\n",
              "                                                     [key], {});\n",
              "          if (!dataTable) return;\n",
              "\n",
              "          const docLinkHtml = 'Like what you see? Visit the ' +\n",
              "            '<a target=\"_blank\" href=https://colab.research.google.com/notebooks/data_table.ipynb>data table notebook</a>'\n",
              "            + ' to learn more about interactive tables.';\n",
              "          element.innerHTML = '';\n",
              "          dataTable['output_type'] = 'display_data';\n",
              "          await google.colab.output.renderOutput(dataTable, element);\n",
              "          const docLink = document.createElement('div');\n",
              "          docLink.innerHTML = docLinkHtml;\n",
              "          element.appendChild(docLink);\n",
              "        }\n",
              "      </script>\n",
              "    </div>\n",
              "  </div>\n",
              "  "
            ]
          },
          "metadata": {},
          "execution_count": 11
        }
      ],
      "source": [
        "df[c_dollar].astype('float')"
      ]
    },
    {
      "cell_type": "code",
      "execution_count": 12,
      "metadata": {
        "colab": {
          "base_uri": "https://localhost:8080/",
          "height": 542
        },
        "id": "9ow6a4RY0OXx",
        "outputId": "f14ef9c8-7995-4cf4-bcd6-4605ea15c58b"
      },
      "outputs": [
        {
          "output_type": "execute_result",
          "data": {
            "text/plain": [
              "   LoanNr_ChkDgt                           Name          City State      Zip  \\\n",
              "0     1000014003                 ABC HOBBYCRAFT    EVANSVILLE    IN  47711.0   \n",
              "1     1000024006    LANDMARK BAR & GRILLE (THE)     NEW PARIS    IN  46526.0   \n",
              "2     1000034009          WHITLOCK DDS, TODD M.   BLOOMINGTON    IN  47401.0   \n",
              "3     1000044001  BIG BUCKS PAWN & JEWELRY, LLC  BROKEN ARROW    OK  74012.0   \n",
              "4     1000054004    ANASTASIA CONFECTIONS, INC.       ORLANDO    FL  32801.0   \n",
              "\n",
              "                            Bank BankState     NAICS ApprovalDate  ApprovalFY  \\\n",
              "0               FIFTH THIRD BANK        OH  451120.0    28-Feb-97      1997.0   \n",
              "1                1ST SOURCE BANK        IN  722410.0    28-Feb-97      1997.0   \n",
              "2        GRANT COUNTY STATE BANK        IN  621210.0    28-Feb-97      1997.0   \n",
              "3  1ST NATL BK & TR CO OF BROKEN        OK       0.0    28-Feb-97      1997.0   \n",
              "4        FLORIDA BUS. DEVEL CORP        FL       0.0    28-Feb-97      1997.0   \n",
              "\n",
              "   ...  UrbanRural  RevLineCr  LowDoc  DisbursementDate  DisbursementGross  \\\n",
              "0  ...         0.0          N       Y         28-Feb-99           60000.00   \n",
              "1  ...         0.0          N       Y         31-May-97           40000.00   \n",
              "2  ...         0.0          N       N         31-Dec-97          287000.00   \n",
              "3  ...         0.0          N       Y         30-Jun-97           35000.00   \n",
              "4  ...         0.0          N       N         14-May-97          229000.00   \n",
              "\n",
              "   BalanceGross  MIS_Status ChgOffPrinGr     GrAppv   SBA_Appv  \n",
              "0          0.00       P I F         0.00   60000.00   48000.00  \n",
              "1          0.00       P I F         0.00   40000.00   32000.00  \n",
              "2          0.00       P I F         0.00  287000.00  215250.00  \n",
              "3          0.00       P I F         0.00   35000.00   28000.00  \n",
              "4          0.00       P I F         0.00  229000.00  229000.00  \n",
              "\n",
              "[5 rows x 26 columns]"
            ],
            "text/html": [
              "\n",
              "  <div id=\"df-10288913-3ffe-498c-a704-616aa4203e4e\">\n",
              "    <div class=\"colab-df-container\">\n",
              "      <div>\n",
              "<style scoped>\n",
              "    .dataframe tbody tr th:only-of-type {\n",
              "        vertical-align: middle;\n",
              "    }\n",
              "\n",
              "    .dataframe tbody tr th {\n",
              "        vertical-align: top;\n",
              "    }\n",
              "\n",
              "    .dataframe thead th {\n",
              "        text-align: right;\n",
              "    }\n",
              "</style>\n",
              "<table border=\"1\" class=\"dataframe\">\n",
              "  <thead>\n",
              "    <tr style=\"text-align: right;\">\n",
              "      <th></th>\n",
              "      <th>LoanNr_ChkDgt</th>\n",
              "      <th>Name</th>\n",
              "      <th>City</th>\n",
              "      <th>State</th>\n",
              "      <th>Zip</th>\n",
              "      <th>Bank</th>\n",
              "      <th>BankState</th>\n",
              "      <th>NAICS</th>\n",
              "      <th>ApprovalDate</th>\n",
              "      <th>ApprovalFY</th>\n",
              "      <th>...</th>\n",
              "      <th>UrbanRural</th>\n",
              "      <th>RevLineCr</th>\n",
              "      <th>LowDoc</th>\n",
              "      <th>DisbursementDate</th>\n",
              "      <th>DisbursementGross</th>\n",
              "      <th>BalanceGross</th>\n",
              "      <th>MIS_Status</th>\n",
              "      <th>ChgOffPrinGr</th>\n",
              "      <th>GrAppv</th>\n",
              "      <th>SBA_Appv</th>\n",
              "    </tr>\n",
              "  </thead>\n",
              "  <tbody>\n",
              "    <tr>\n",
              "      <th>0</th>\n",
              "      <td>1000014003</td>\n",
              "      <td>ABC HOBBYCRAFT</td>\n",
              "      <td>EVANSVILLE</td>\n",
              "      <td>IN</td>\n",
              "      <td>47711.0</td>\n",
              "      <td>FIFTH THIRD BANK</td>\n",
              "      <td>OH</td>\n",
              "      <td>451120.0</td>\n",
              "      <td>28-Feb-97</td>\n",
              "      <td>1997.0</td>\n",
              "      <td>...</td>\n",
              "      <td>0.0</td>\n",
              "      <td>N</td>\n",
              "      <td>Y</td>\n",
              "      <td>28-Feb-99</td>\n",
              "      <td>60000.00</td>\n",
              "      <td>0.00</td>\n",
              "      <td>P I F</td>\n",
              "      <td>0.00</td>\n",
              "      <td>60000.00</td>\n",
              "      <td>48000.00</td>\n",
              "    </tr>\n",
              "    <tr>\n",
              "      <th>1</th>\n",
              "      <td>1000024006</td>\n",
              "      <td>LANDMARK BAR &amp; GRILLE (THE)</td>\n",
              "      <td>NEW PARIS</td>\n",
              "      <td>IN</td>\n",
              "      <td>46526.0</td>\n",
              "      <td>1ST SOURCE BANK</td>\n",
              "      <td>IN</td>\n",
              "      <td>722410.0</td>\n",
              "      <td>28-Feb-97</td>\n",
              "      <td>1997.0</td>\n",
              "      <td>...</td>\n",
              "      <td>0.0</td>\n",
              "      <td>N</td>\n",
              "      <td>Y</td>\n",
              "      <td>31-May-97</td>\n",
              "      <td>40000.00</td>\n",
              "      <td>0.00</td>\n",
              "      <td>P I F</td>\n",
              "      <td>0.00</td>\n",
              "      <td>40000.00</td>\n",
              "      <td>32000.00</td>\n",
              "    </tr>\n",
              "    <tr>\n",
              "      <th>2</th>\n",
              "      <td>1000034009</td>\n",
              "      <td>WHITLOCK DDS, TODD M.</td>\n",
              "      <td>BLOOMINGTON</td>\n",
              "      <td>IN</td>\n",
              "      <td>47401.0</td>\n",
              "      <td>GRANT COUNTY STATE BANK</td>\n",
              "      <td>IN</td>\n",
              "      <td>621210.0</td>\n",
              "      <td>28-Feb-97</td>\n",
              "      <td>1997.0</td>\n",
              "      <td>...</td>\n",
              "      <td>0.0</td>\n",
              "      <td>N</td>\n",
              "      <td>N</td>\n",
              "      <td>31-Dec-97</td>\n",
              "      <td>287000.00</td>\n",
              "      <td>0.00</td>\n",
              "      <td>P I F</td>\n",
              "      <td>0.00</td>\n",
              "      <td>287000.00</td>\n",
              "      <td>215250.00</td>\n",
              "    </tr>\n",
              "    <tr>\n",
              "      <th>3</th>\n",
              "      <td>1000044001</td>\n",
              "      <td>BIG BUCKS PAWN &amp; JEWELRY, LLC</td>\n",
              "      <td>BROKEN ARROW</td>\n",
              "      <td>OK</td>\n",
              "      <td>74012.0</td>\n",
              "      <td>1ST NATL BK &amp; TR CO OF BROKEN</td>\n",
              "      <td>OK</td>\n",
              "      <td>0.0</td>\n",
              "      <td>28-Feb-97</td>\n",
              "      <td>1997.0</td>\n",
              "      <td>...</td>\n",
              "      <td>0.0</td>\n",
              "      <td>N</td>\n",
              "      <td>Y</td>\n",
              "      <td>30-Jun-97</td>\n",
              "      <td>35000.00</td>\n",
              "      <td>0.00</td>\n",
              "      <td>P I F</td>\n",
              "      <td>0.00</td>\n",
              "      <td>35000.00</td>\n",
              "      <td>28000.00</td>\n",
              "    </tr>\n",
              "    <tr>\n",
              "      <th>4</th>\n",
              "      <td>1000054004</td>\n",
              "      <td>ANASTASIA CONFECTIONS, INC.</td>\n",
              "      <td>ORLANDO</td>\n",
              "      <td>FL</td>\n",
              "      <td>32801.0</td>\n",
              "      <td>FLORIDA BUS. DEVEL CORP</td>\n",
              "      <td>FL</td>\n",
              "      <td>0.0</td>\n",
              "      <td>28-Feb-97</td>\n",
              "      <td>1997.0</td>\n",
              "      <td>...</td>\n",
              "      <td>0.0</td>\n",
              "      <td>N</td>\n",
              "      <td>N</td>\n",
              "      <td>14-May-97</td>\n",
              "      <td>229000.00</td>\n",
              "      <td>0.00</td>\n",
              "      <td>P I F</td>\n",
              "      <td>0.00</td>\n",
              "      <td>229000.00</td>\n",
              "      <td>229000.00</td>\n",
              "    </tr>\n",
              "  </tbody>\n",
              "</table>\n",
              "<p>5 rows × 26 columns</p>\n",
              "</div>\n",
              "      <button class=\"colab-df-convert\" onclick=\"convertToInteractive('df-10288913-3ffe-498c-a704-616aa4203e4e')\"\n",
              "              title=\"Convert this dataframe to an interactive table.\"\n",
              "              style=\"display:none;\">\n",
              "        \n",
              "  <svg xmlns=\"http://www.w3.org/2000/svg\" height=\"24px\"viewBox=\"0 0 24 24\"\n",
              "       width=\"24px\">\n",
              "    <path d=\"M0 0h24v24H0V0z\" fill=\"none\"/>\n",
              "    <path d=\"M18.56 5.44l.94 2.06.94-2.06 2.06-.94-2.06-.94-.94-2.06-.94 2.06-2.06.94zm-11 1L8.5 8.5l.94-2.06 2.06-.94-2.06-.94L8.5 2.5l-.94 2.06-2.06.94zm10 10l.94 2.06.94-2.06 2.06-.94-2.06-.94-.94-2.06-.94 2.06-2.06.94z\"/><path d=\"M17.41 7.96l-1.37-1.37c-.4-.4-.92-.59-1.43-.59-.52 0-1.04.2-1.43.59L10.3 9.45l-7.72 7.72c-.78.78-.78 2.05 0 2.83L4 21.41c.39.39.9.59 1.41.59.51 0 1.02-.2 1.41-.59l7.78-7.78 2.81-2.81c.8-.78.8-2.07 0-2.86zM5.41 20L4 18.59l7.72-7.72 1.47 1.35L5.41 20z\"/>\n",
              "  </svg>\n",
              "      </button>\n",
              "      \n",
              "  <style>\n",
              "    .colab-df-container {\n",
              "      display:flex;\n",
              "      flex-wrap:wrap;\n",
              "      gap: 12px;\n",
              "    }\n",
              "\n",
              "    .colab-df-convert {\n",
              "      background-color: #E8F0FE;\n",
              "      border: none;\n",
              "      border-radius: 50%;\n",
              "      cursor: pointer;\n",
              "      display: none;\n",
              "      fill: #1967D2;\n",
              "      height: 32px;\n",
              "      padding: 0 0 0 0;\n",
              "      width: 32px;\n",
              "    }\n",
              "\n",
              "    .colab-df-convert:hover {\n",
              "      background-color: #E2EBFA;\n",
              "      box-shadow: 0px 1px 2px rgba(60, 64, 67, 0.3), 0px 1px 3px 1px rgba(60, 64, 67, 0.15);\n",
              "      fill: #174EA6;\n",
              "    }\n",
              "\n",
              "    [theme=dark] .colab-df-convert {\n",
              "      background-color: #3B4455;\n",
              "      fill: #D2E3FC;\n",
              "    }\n",
              "\n",
              "    [theme=dark] .colab-df-convert:hover {\n",
              "      background-color: #434B5C;\n",
              "      box-shadow: 0px 1px 3px 1px rgba(0, 0, 0, 0.15);\n",
              "      filter: drop-shadow(0px 1px 2px rgba(0, 0, 0, 0.3));\n",
              "      fill: #FFFFFF;\n",
              "    }\n",
              "  </style>\n",
              "\n",
              "      <script>\n",
              "        const buttonEl =\n",
              "          document.querySelector('#df-10288913-3ffe-498c-a704-616aa4203e4e button.colab-df-convert');\n",
              "        buttonEl.style.display =\n",
              "          google.colab.kernel.accessAllowed ? 'block' : 'none';\n",
              "\n",
              "        async function convertToInteractive(key) {\n",
              "          const element = document.querySelector('#df-10288913-3ffe-498c-a704-616aa4203e4e');\n",
              "          const dataTable =\n",
              "            await google.colab.kernel.invokeFunction('convertToInteractive',\n",
              "                                                     [key], {});\n",
              "          if (!dataTable) return;\n",
              "\n",
              "          const docLinkHtml = 'Like what you see? Visit the ' +\n",
              "            '<a target=\"_blank\" href=https://colab.research.google.com/notebooks/data_table.ipynb>data table notebook</a>'\n",
              "            + ' to learn more about interactive tables.';\n",
              "          element.innerHTML = '';\n",
              "          dataTable['output_type'] = 'display_data';\n",
              "          await google.colab.output.renderOutput(dataTable, element);\n",
              "          const docLink = document.createElement('div');\n",
              "          docLink.innerHTML = docLinkHtml;\n",
              "          element.appendChild(docLink);\n",
              "        }\n",
              "      </script>\n",
              "    </div>\n",
              "  </div>\n",
              "  "
            ]
          },
          "metadata": {},
          "execution_count": 12
        }
      ],
      "source": [
        "df.head()"
      ]
    },
    {
      "cell_type": "code",
      "execution_count": 13,
      "metadata": {
        "colab": {
          "base_uri": "https://localhost:8080/"
        },
        "id": "VEjJV2-V0OVa",
        "outputId": "d26f7283-b333-4445-9f7b-a22dfe35ccea"
      },
      "outputs": [
        {
          "output_type": "execute_result",
          "data": {
            "text/plain": [
              "array(['28-Feb-97', '2-Jun-80', '7-Feb-06', '11-Jun-80', '4-Oct-96',\n",
              "       '25-Mar-97', '26-Mar-97', '28-Mar-97', '31-Mar-97', '1-Apr-97',\n",
              "       '2-Apr-97', '3-Apr-97', '4-Apr-97', '7-Apr-97', '8-Apr-97',\n",
              "       '10-Apr-97', '11-Apr-97', '14-Apr-97', '15-Apr-97', '21-Apr-97',\n",
              "       '28-Apr-97', '29-Apr-97', '1-May-97', '3-Mar-97', '2-May-97',\n",
              "       '5-May-97', '6-May-97', '9-May-97', '14-May-97', '16-May-97',\n",
              "       '19-May-97', '20-May-97', '21-May-97', '22-May-97', '23-May-97',\n",
              "       '29-May-97', '5-Jun-97', '9-Jun-97', '12-Jun-97', '13-Jun-97',\n",
              "       '16-Jun-97', '18-Jun-80', '17-Jun-97', '18-Jun-97', '19-Jun-97',\n",
              "       '20-Jun-97', '23-Jun-97', '27-Jun-97', '2-Jul-97', '8-Jul-97',\n",
              "       '9-Jul-97', '10-Jul-97', '16-Jul-97', '21-Jul-97', '24-Jul-97',\n",
              "       '25-Jul-97', '26-Aug-97', '27-Aug-97', '28-Aug-97', '29-Aug-97',\n",
              "       '19-Sep-97', '24-Sep-97', '26-Sep-97', '29-Sep-97', '9-Oct-97',\n",
              "       '10-Oct-97', '14-Oct-97', '29-Oct-97', '3-Nov-97', '17-Nov-97',\n",
              "       '19-Jun-80', '28-Nov-97', '1-Dec-97', '4-Dec-97', '8-Dec-97',\n",
              "       '9-Dec-97', '15-Jan-98', '20-Jan-98', '22-Jan-98', '30-Jan-98',\n",
              "       '5-Feb-98', '9-Feb-98', '10-Feb-98', '11-Feb-98', '13-Feb-98',\n",
              "       '23-Feb-98', '24-Feb-98', '25-Feb-98', '2-Mar-98', '5-Mar-98',\n",
              "       '6-Mar-98', '9-Mar-98', '10-Mar-98', '12-Mar-98', '13-Mar-98',\n",
              "       '26-Mar-98', '2-Apr-98', '3-Apr-98', '7-Apr-98', '8-Apr-98',\n",
              "       '10-Apr-98', '13-Apr-98', '15-Apr-98', '17-Apr-98', '28-Apr-98',\n",
              "       '30-Apr-98', '1-May-98', '6-May-98', '8-May-98', '13-May-98',\n",
              "       '15-May-98', '18-May-98', '19-May-98', '20-May-98', '21-May-98',\n",
              "       '26-May-98', '27-May-98', '28-May-98', '29-May-98', '1-Jun-98',\n",
              "       '2-Jun-98', '4-Jun-98', '5-Jun-98', '12-Jun-98', '15-Jun-98',\n",
              "       '17-Jun-98', '18-Jun-98', '19-Jun-98', '23-Jun-98', '24-Jun-98',\n",
              "       '25-Jun-98', '29-Jun-98', '30-Jun-98', '2-Jul-98', '7-Jul-98',\n",
              "       '17-Jul-98', '10-Sep-98', '18-Aug-98', '3-Aug-98', '7-Aug-98',\n",
              "       '25-Aug-98', '26-Aug-98', '27-Aug-98', '2-Sep-98', '15-Sep-98',\n",
              "       '18-Sep-98', '21-Sep-98', '25-Sep-98', '30-Sep-98', '27-Oct-98',\n",
              "       '4-Nov-98', '9-Nov-98', '10-Nov-98', '16-Nov-98', '17-Nov-98',\n",
              "       '25-Nov-98', '3-Dec-98', '11-Dec-98', '1-Jul-80', '16-Dec-98',\n",
              "       '28-Dec-98', '9-Jan-99', '11-Jan-99', '4-Mar-99', '15-Mar-99',\n",
              "       '19-Mar-99', '23-Mar-99', '1-Apr-99', '9-Apr-99', '12-Apr-99',\n",
              "       '14-Apr-99', '15-Apr-99', '14-May-99', '25-Jun-80', '19-May-99',\n",
              "       '21-Jul-99', '27-Jul-99', '3-Aug-99', '30-Jun-80', '7-Sep-99',\n",
              "       '30-Aug-99', '13-Sep-99', '6-Oct-99', '4-Nov-99', '23-Nov-99',\n",
              "       '8-Dec-99', '14-Dec-99', '13-Dec-99', '1-Jan-00', '4-Jan-00',\n",
              "       '31-Jan-00', '1-Feb-00', '4-Feb-00', '16-Feb-00', '22-Feb-00',\n",
              "       '20-Mar-00', '13-Apr-00', '21-Apr-00', '24-Apr-00', '3-May-00',\n",
              "       '9-May-00', '17-May-00', '12-Jun-00', '19-Jun-00', '21-Jun-00',\n",
              "       '5-Jul-00', '11-Jul-00', '14-Aug-00', '15-Aug-00', '16-Aug-00',\n",
              "       '24-Aug-00', '11-Sep-00', '13-Sep-00', '21-Sep-00', '17-Oct-00',\n",
              "       '29-Nov-00', '12-Mar-01', '13-Mar-01', '6-Apr-01', '9-Apr-01',\n",
              "       '12-Apr-01', '30-Apr-01', '22-May-01', '29-May-01', '4-Jun-01',\n",
              "       '19-Jun-01', '22-Jun-01', '25-Jun-01', '28-Jun-01', '29-Jun-01',\n",
              "       '3-Jul-01', '13-Aug-71', '6-Jul-01', '11-Jul-01', '12-Jul-01',\n",
              "       '17-Jul-01', '18-Jul-01', '19-Jul-01', '23-Jul-01', '25-Jul-01',\n",
              "       '26-Jul-01', '30-Jul-01', '31-Jul-01', '1-Aug-01', '2-Aug-01',\n",
              "       '3-Aug-01', '8-Aug-01', '9-Aug-01', '16-Aug-01', '17-Aug-01',\n",
              "       '20-Aug-01', '21-Aug-01', '22-Aug-01', '27-Aug-01', '30-Aug-01',\n",
              "       '4-Sep-01', '7-Sep-01', '12-Sep-01', '14-Sep-01', '6-Nov-02',\n",
              "       '10-Dec-02', '18-Dec-02', '19-Dec-02', '24-Dec-02', '26-Dec-02',\n",
              "       '27-Dec-02', '6-Jan-03', '10-Jan-03', '13-Jan-03', '14-Jan-03',\n",
              "       '16-Jan-03', '3-Jul-80', '8-Feb-06', '23-Jan-03', '28-Jan-03',\n",
              "       '30-Jan-03', '31-Jan-03', '5-Feb-03', '6-Feb-03', '7-Feb-03',\n",
              "       '14-Feb-03', '19-Feb-03', '27-Feb-03', '3-Mar-03', '25-Mar-03',\n",
              "       '26-Mar-03', '27-Mar-03', '28-Mar-03', '31-Mar-03', '1-Apr-03',\n",
              "       '2-Apr-03', '4-Apr-03', '8-Apr-03', '9-Apr-03', '10-Apr-03',\n",
              "       '10-Jul-80', '11-Apr-03', '18-Apr-03', '29-Apr-03', '5-Mar-97',\n",
              "       '7-May-03', '12-May-03', '13-May-03', '14-May-03', '16-May-03',\n",
              "       '20-May-03', '22-May-03', '27-May-03', '28-May-03', '29-May-03',\n",
              "       '2-Jun-03', '3-Jun-03', '4-Jun-03', '5-Jun-03', '6-Jun-03',\n",
              "       '9-Jun-03', '11-Jun-03', '12-Jun-03', '13-Jun-03', '16-Jun-03',\n",
              "       '18-Jun-03', '20-Jun-03', '25-Jun-03', '26-Jun-03', '27-Jun-03',\n",
              "       '1-Jul-03', '2-Jul-03', '3-Jul-03', '7-Jul-03', '14-Jul-80',\n",
              "       '8-Jul-03', '9-Jul-03', '10-Jul-03', '11-Jul-03', '4-Mar-97',\n",
              "       '14-Jul-03', '15-Jul-03', '16-Jul-03', '17-Jul-03', '18-Jul-03',\n",
              "       '21-Jul-03', '22-Jul-03', '23-Jul-03', '25-Jul-03', '28-Jul-03',\n",
              "       '29-Jul-03', '30-Jul-03', '31-Jul-03', '1-Aug-03', '4-Aug-03',\n",
              "       '5-Aug-03', '6-Aug-03', '13-Aug-03', '14-Aug-03', '15-Aug-03',\n",
              "       '20-Aug-03', '21-Aug-03', '22-Aug-03', '26-Aug-03', '27-Aug-03',\n",
              "       '2-Sep-03', '3-Sep-03', '5-Sep-03', '8-Sep-03', '9-Sep-03',\n",
              "       '10-Sep-03', '11-Sep-03', '12-Sep-03', '15-Sep-03', '16-Sep-03',\n",
              "       '17-Sep-03', '18-Sep-03', '19-Sep-03', '24-Sep-03', '26-Sep-03',\n",
              "       '30-Sep-03', '10-Oct-03', '15-Oct-03', '16-Oct-03', '20-Oct-03',\n",
              "       '21-Oct-03', '23-Oct-03', '24-Oct-03', '27-Oct-03', '28-Oct-03',\n",
              "       '29-Oct-03', '30-Oct-03', '31-Oct-03', '3-Nov-03', '4-Nov-03',\n",
              "       '5-Nov-03', '7-Nov-03', '10-Nov-03', '12-Nov-03', '13-Nov-03',\n",
              "       '14-Nov-03', '17-Nov-03', '18-Nov-03', '19-Nov-03', '20-Nov-03',\n",
              "       '21-Nov-03', '24-Nov-03', '25-Nov-03', '26-Nov-03', '28-Nov-03',\n",
              "       '2-Dec-03', '3-Dec-03', '4-Dec-03', '5-Dec-03', '8-Dec-03',\n",
              "       '9-Dec-03', '10-Dec-03', '18-Jul-80', '11-Dec-03', '12-Dec-03',\n",
              "       '15-Dec-03', '16-Dec-03', '6-Mar-97', '17-Dec-03', '18-Dec-03',\n",
              "       '19-Dec-03', '23-Dec-03', '24-Dec-03', '26-Dec-03', '29-Dec-03',\n",
              "       '30-Dec-03', '31-Dec-03', '2-Jan-04', '7-Jan-04', '15-Jan-04',\n",
              "       '16-Jan-04', '20-Jan-04', '21-Jan-04', '22-Jan-04', '27-Jan-04',\n",
              "       '28-Jan-04', '29-Jan-04', '30-Jan-04', '5-Feb-04', '6-Feb-04',\n",
              "       '10-Feb-04', '19-Feb-04', '3-Mar-04', '8-Mar-04', '9-Mar-04',\n",
              "       '11-Mar-04', '12-Mar-04', '15-Mar-04', '16-Mar-04', '17-Mar-04',\n",
              "       '30-Mar-04', '18-Mar-04', '19-Mar-04', '22-Mar-04', '23-Mar-04',\n",
              "       '24-Mar-04', '9-Feb-06', '25-Mar-04', '26-Mar-04', '29-Mar-04',\n",
              "       '31-Mar-04', '1-Apr-04', '2-Apr-04', '5-Apr-04', '6-Apr-04',\n",
              "       '7-Apr-04', '8-Apr-04', '12-Apr-04', '13-Apr-04', '14-Apr-04',\n",
              "       '15-Apr-04', '16-Apr-04', '21-Apr-04', '20-Apr-04', '22-Apr-04',\n",
              "       '23-Apr-04', '26-Apr-04', '27-Apr-04', '28-Apr-04', '30-Apr-04',\n",
              "       '3-May-04', '4-May-04', '5-May-04', '6-May-04', '7-May-04',\n",
              "       '10-May-04', '11-May-04', '12-May-04', '13-May-04', '14-May-04',\n",
              "       '17-May-04', '4-Jun-04', '18-May-04', '19-May-04', '20-May-04',\n",
              "       '21-May-04', '24-May-04', '25-May-04', '3-Jun-04', '7-Jun-04',\n",
              "       '8-Jun-04', '23-Jul-80', '25-Feb-72', '9-Jun-04', '16-Jul-80',\n",
              "       '10-Jun-04', '11-Jun-04', '14-Jun-04', '31-Jul-80', '15-Jun-04',\n",
              "       '16-Jun-04', '17-Jun-04', '28-Jul-80', '18-Jun-04', '21-Jun-04',\n",
              "       '22-Jun-04', '10-Feb-06', '23-Jun-04', '24-Jun-04', '7-Mar-97',\n",
              "       '25-Jun-04', '28-Jun-04', '29-Jun-04', '5-Aug-80', '30-Jun-04',\n",
              "       '1-Jul-04', '10-Mar-97', '2-Jul-04', '8-Jul-04', '6-Aug-80',\n",
              "       '6-Jul-04', '7-Jul-04', '9-Jul-04', '12-Aug-80', '12-Jul-04',\n",
              "       '1-Aug-80', '13-Jul-04', '14-Jul-04', '15-Jul-04', '16-Jul-04',\n",
              "       '11-Aug-80', '11-Mar-97', '19-Jul-04', '15-Aug-80', '20-Jul-04',\n",
              "       '13-Aug-80', '13-Mar-97', '21-Jul-04', '18-Aug-80', '22-Jul-04',\n",
              "       '19-Aug-80', '12-Mar-97', '23-Jul-04', '26-Jul-04', '20-Aug-80',\n",
              "       '27-Jul-04', '22-Aug-80', '28-Jul-04', '13-Feb-06', '29-Jul-04',\n",
              "       '27-Aug-80', '30-Jul-04', '7-Aug-80', '21-Aug-80', '25-Aug-80',\n",
              "       '2-Aug-04', '3-Aug-04', '28-Aug-80', '14-Mar-97', '4-Aug-04',\n",
              "       '14-Feb-06', '5-Aug-04', '6-Aug-04', '6-Apr-78', '3-Sep-80',\n",
              "       '2-Sep-80', '9-Aug-04', '18-Mar-97', '10-Aug-04', '4-Sep-80',\n",
              "       '5-Sep-80', '6-Oct-78', '11-Aug-04', '12-Aug-04', '8-Sep-80',\n",
              "       '15-Mar-97', '13-Aug-04', '17-Mar-97', '15-Feb-06', '19-Aug-04',\n",
              "       '16-Aug-04', '17-Aug-04', '18-Aug-04', '11-Sep-80', '9-Sep-80',\n",
              "       '20-Aug-04', '19-Mar-97', '20-Mar-97', '23-Aug-04', '15-Sep-80',\n",
              "       '16-Feb-06', '24-Aug-04', '25-Aug-04', '26-Aug-04', '27-Aug-04',\n",
              "       '16-Sep-80', '17-Sep-80', '30-Aug-04', '10-Sep-80', '18-Sep-80',\n",
              "       '31-Aug-04', '16-Nov-71', '19-Sep-80', '30-Nov-71', '1-Sep-04',\n",
              "       '17-Feb-06', '2-Sep-04', '3-Sep-04', '23-Sep-80', '7-Sep-04',\n",
              "       '24-Sep-80', '21-Mar-97', '8-Sep-04', '25-Sep-80', '9-Sep-04',\n",
              "       '10-Sep-04', '13-Sep-04', '29-Sep-80', '14-Sep-04', '30-Sep-80',\n",
              "       '24-Mar-97', '15-Sep-04', '7-Oct-80', '16-Sep-04', '17-Sep-04',\n",
              "       '20-Sep-04', '27-Mar-97', '3-Oct-80', '8-Oct-80', '21-Sep-04',\n",
              "       '22-Sep-04', '23-Sep-04', '9-Oct-80', '24-Sep-04', '10-Oct-80',\n",
              "       '27-Sep-04', '28-Sep-04', '14-Oct-80', '15-Oct-80', '29-Sep-04',\n",
              "       '16-Oct-80', '17-Oct-80', '30-Sep-04', '15-Jul-97', '9-Apr-97',\n",
              "       '21-Oct-80', '5-Oct-04', '22-Oct-80', '6-Oct-04', '20-Oct-80',\n",
              "       '7-Oct-04', '24-Oct-80', '8-Oct-04', '23-Oct-80', '12-Oct-04',\n",
              "       '27-Oct-80', '13-Oct-04', '14-Oct-04', '21-Feb-06', '28-Oct-80',\n",
              "       '15-Oct-04', '18-Oct-04', '19-Oct-04', '30-Oct-80', '20-Oct-04',\n",
              "       '31-Oct-80', '21-Oct-04', '22-Oct-04', '25-Oct-04', '4-Nov-80',\n",
              "       '26-Oct-04', '5-Nov-80', '27-Oct-04', '6-Nov-80', '28-Oct-04',\n",
              "       '7-Nov-80', '29-Oct-04', '1-Nov-04', '2-Nov-04', '12-Nov-80',\n",
              "       '3-Nov-04', '4-Nov-04', '13-Nov-80', '5-Nov-04', '14-Nov-80',\n",
              "       '22-Feb-06', '8-Nov-04', '9-Nov-04', '5-Apr-97', '19-Nov-80',\n",
              "       '10-Nov-04', '20-Nov-80', '12-Nov-04', '25-Nov-80', '15-Nov-04',\n",
              "       '21-Nov-80', '26-Nov-80', '16-Nov-04', '17-Nov-04', '24-Nov-80',\n",
              "       '18-Nov-04', '28-Nov-80', '19-Nov-04', '22-Nov-04', '3-Dec-80',\n",
              "       '23-Nov-04', '2-Dec-80', '24-Nov-04', '17-Nov-80'], dtype=object)"
            ]
          },
          "metadata": {},
          "execution_count": 13
        }
      ],
      "source": [
        "df['ApprovalDate'].unique()"
      ]
    },
    {
      "cell_type": "code",
      "execution_count": 14,
      "metadata": {
        "id": "ApkPwDse6qpy"
      },
      "outputs": [],
      "source": [
        "df['ApprovalDate'] = df['ApprovalDate'].astype(str)\n",
        "df['ApprovalDate'] = pd.to_datetime(df['ApprovalDate'])"
      ]
    },
    {
      "cell_type": "code",
      "execution_count": 15,
      "metadata": {
        "colab": {
          "base_uri": "https://localhost:8080/",
          "height": 542
        },
        "id": "g2jftw_O6uN3",
        "outputId": "14fe69d0-6d84-4756-fbb7-0580203f94d3"
      },
      "outputs": [
        {
          "output_type": "execute_result",
          "data": {
            "text/plain": [
              "   LoanNr_ChkDgt                           Name          City State      Zip  \\\n",
              "0     1000014003                 ABC HOBBYCRAFT    EVANSVILLE    IN  47711.0   \n",
              "1     1000024006    LANDMARK BAR & GRILLE (THE)     NEW PARIS    IN  46526.0   \n",
              "2     1000034009          WHITLOCK DDS, TODD M.   BLOOMINGTON    IN  47401.0   \n",
              "3     1000044001  BIG BUCKS PAWN & JEWELRY, LLC  BROKEN ARROW    OK  74012.0   \n",
              "4     1000054004    ANASTASIA CONFECTIONS, INC.       ORLANDO    FL  32801.0   \n",
              "\n",
              "                            Bank BankState     NAICS ApprovalDate  ApprovalFY  \\\n",
              "0               FIFTH THIRD BANK        OH  451120.0   1997-02-28      1997.0   \n",
              "1                1ST SOURCE BANK        IN  722410.0   1997-02-28      1997.0   \n",
              "2        GRANT COUNTY STATE BANK        IN  621210.0   1997-02-28      1997.0   \n",
              "3  1ST NATL BK & TR CO OF BROKEN        OK       0.0   1997-02-28      1997.0   \n",
              "4        FLORIDA BUS. DEVEL CORP        FL       0.0   1997-02-28      1997.0   \n",
              "\n",
              "   ...  UrbanRural  RevLineCr  LowDoc  DisbursementDate  DisbursementGross  \\\n",
              "0  ...         0.0          N       Y         28-Feb-99           60000.00   \n",
              "1  ...         0.0          N       Y         31-May-97           40000.00   \n",
              "2  ...         0.0          N       N         31-Dec-97          287000.00   \n",
              "3  ...         0.0          N       Y         30-Jun-97           35000.00   \n",
              "4  ...         0.0          N       N         14-May-97          229000.00   \n",
              "\n",
              "   BalanceGross  MIS_Status ChgOffPrinGr     GrAppv   SBA_Appv  \n",
              "0          0.00       P I F         0.00   60000.00   48000.00  \n",
              "1          0.00       P I F         0.00   40000.00   32000.00  \n",
              "2          0.00       P I F         0.00  287000.00  215250.00  \n",
              "3          0.00       P I F         0.00   35000.00   28000.00  \n",
              "4          0.00       P I F         0.00  229000.00  229000.00  \n",
              "\n",
              "[5 rows x 26 columns]"
            ],
            "text/html": [
              "\n",
              "  <div id=\"df-c907e096-86f3-4588-982d-586adff4aa43\">\n",
              "    <div class=\"colab-df-container\">\n",
              "      <div>\n",
              "<style scoped>\n",
              "    .dataframe tbody tr th:only-of-type {\n",
              "        vertical-align: middle;\n",
              "    }\n",
              "\n",
              "    .dataframe tbody tr th {\n",
              "        vertical-align: top;\n",
              "    }\n",
              "\n",
              "    .dataframe thead th {\n",
              "        text-align: right;\n",
              "    }\n",
              "</style>\n",
              "<table border=\"1\" class=\"dataframe\">\n",
              "  <thead>\n",
              "    <tr style=\"text-align: right;\">\n",
              "      <th></th>\n",
              "      <th>LoanNr_ChkDgt</th>\n",
              "      <th>Name</th>\n",
              "      <th>City</th>\n",
              "      <th>State</th>\n",
              "      <th>Zip</th>\n",
              "      <th>Bank</th>\n",
              "      <th>BankState</th>\n",
              "      <th>NAICS</th>\n",
              "      <th>ApprovalDate</th>\n",
              "      <th>ApprovalFY</th>\n",
              "      <th>...</th>\n",
              "      <th>UrbanRural</th>\n",
              "      <th>RevLineCr</th>\n",
              "      <th>LowDoc</th>\n",
              "      <th>DisbursementDate</th>\n",
              "      <th>DisbursementGross</th>\n",
              "      <th>BalanceGross</th>\n",
              "      <th>MIS_Status</th>\n",
              "      <th>ChgOffPrinGr</th>\n",
              "      <th>GrAppv</th>\n",
              "      <th>SBA_Appv</th>\n",
              "    </tr>\n",
              "  </thead>\n",
              "  <tbody>\n",
              "    <tr>\n",
              "      <th>0</th>\n",
              "      <td>1000014003</td>\n",
              "      <td>ABC HOBBYCRAFT</td>\n",
              "      <td>EVANSVILLE</td>\n",
              "      <td>IN</td>\n",
              "      <td>47711.0</td>\n",
              "      <td>FIFTH THIRD BANK</td>\n",
              "      <td>OH</td>\n",
              "      <td>451120.0</td>\n",
              "      <td>1997-02-28</td>\n",
              "      <td>1997.0</td>\n",
              "      <td>...</td>\n",
              "      <td>0.0</td>\n",
              "      <td>N</td>\n",
              "      <td>Y</td>\n",
              "      <td>28-Feb-99</td>\n",
              "      <td>60000.00</td>\n",
              "      <td>0.00</td>\n",
              "      <td>P I F</td>\n",
              "      <td>0.00</td>\n",
              "      <td>60000.00</td>\n",
              "      <td>48000.00</td>\n",
              "    </tr>\n",
              "    <tr>\n",
              "      <th>1</th>\n",
              "      <td>1000024006</td>\n",
              "      <td>LANDMARK BAR &amp; GRILLE (THE)</td>\n",
              "      <td>NEW PARIS</td>\n",
              "      <td>IN</td>\n",
              "      <td>46526.0</td>\n",
              "      <td>1ST SOURCE BANK</td>\n",
              "      <td>IN</td>\n",
              "      <td>722410.0</td>\n",
              "      <td>1997-02-28</td>\n",
              "      <td>1997.0</td>\n",
              "      <td>...</td>\n",
              "      <td>0.0</td>\n",
              "      <td>N</td>\n",
              "      <td>Y</td>\n",
              "      <td>31-May-97</td>\n",
              "      <td>40000.00</td>\n",
              "      <td>0.00</td>\n",
              "      <td>P I F</td>\n",
              "      <td>0.00</td>\n",
              "      <td>40000.00</td>\n",
              "      <td>32000.00</td>\n",
              "    </tr>\n",
              "    <tr>\n",
              "      <th>2</th>\n",
              "      <td>1000034009</td>\n",
              "      <td>WHITLOCK DDS, TODD M.</td>\n",
              "      <td>BLOOMINGTON</td>\n",
              "      <td>IN</td>\n",
              "      <td>47401.0</td>\n",
              "      <td>GRANT COUNTY STATE BANK</td>\n",
              "      <td>IN</td>\n",
              "      <td>621210.0</td>\n",
              "      <td>1997-02-28</td>\n",
              "      <td>1997.0</td>\n",
              "      <td>...</td>\n",
              "      <td>0.0</td>\n",
              "      <td>N</td>\n",
              "      <td>N</td>\n",
              "      <td>31-Dec-97</td>\n",
              "      <td>287000.00</td>\n",
              "      <td>0.00</td>\n",
              "      <td>P I F</td>\n",
              "      <td>0.00</td>\n",
              "      <td>287000.00</td>\n",
              "      <td>215250.00</td>\n",
              "    </tr>\n",
              "    <tr>\n",
              "      <th>3</th>\n",
              "      <td>1000044001</td>\n",
              "      <td>BIG BUCKS PAWN &amp; JEWELRY, LLC</td>\n",
              "      <td>BROKEN ARROW</td>\n",
              "      <td>OK</td>\n",
              "      <td>74012.0</td>\n",
              "      <td>1ST NATL BK &amp; TR CO OF BROKEN</td>\n",
              "      <td>OK</td>\n",
              "      <td>0.0</td>\n",
              "      <td>1997-02-28</td>\n",
              "      <td>1997.0</td>\n",
              "      <td>...</td>\n",
              "      <td>0.0</td>\n",
              "      <td>N</td>\n",
              "      <td>Y</td>\n",
              "      <td>30-Jun-97</td>\n",
              "      <td>35000.00</td>\n",
              "      <td>0.00</td>\n",
              "      <td>P I F</td>\n",
              "      <td>0.00</td>\n",
              "      <td>35000.00</td>\n",
              "      <td>28000.00</td>\n",
              "    </tr>\n",
              "    <tr>\n",
              "      <th>4</th>\n",
              "      <td>1000054004</td>\n",
              "      <td>ANASTASIA CONFECTIONS, INC.</td>\n",
              "      <td>ORLANDO</td>\n",
              "      <td>FL</td>\n",
              "      <td>32801.0</td>\n",
              "      <td>FLORIDA BUS. DEVEL CORP</td>\n",
              "      <td>FL</td>\n",
              "      <td>0.0</td>\n",
              "      <td>1997-02-28</td>\n",
              "      <td>1997.0</td>\n",
              "      <td>...</td>\n",
              "      <td>0.0</td>\n",
              "      <td>N</td>\n",
              "      <td>N</td>\n",
              "      <td>14-May-97</td>\n",
              "      <td>229000.00</td>\n",
              "      <td>0.00</td>\n",
              "      <td>P I F</td>\n",
              "      <td>0.00</td>\n",
              "      <td>229000.00</td>\n",
              "      <td>229000.00</td>\n",
              "    </tr>\n",
              "  </tbody>\n",
              "</table>\n",
              "<p>5 rows × 26 columns</p>\n",
              "</div>\n",
              "      <button class=\"colab-df-convert\" onclick=\"convertToInteractive('df-c907e096-86f3-4588-982d-586adff4aa43')\"\n",
              "              title=\"Convert this dataframe to an interactive table.\"\n",
              "              style=\"display:none;\">\n",
              "        \n",
              "  <svg xmlns=\"http://www.w3.org/2000/svg\" height=\"24px\"viewBox=\"0 0 24 24\"\n",
              "       width=\"24px\">\n",
              "    <path d=\"M0 0h24v24H0V0z\" fill=\"none\"/>\n",
              "    <path d=\"M18.56 5.44l.94 2.06.94-2.06 2.06-.94-2.06-.94-.94-2.06-.94 2.06-2.06.94zm-11 1L8.5 8.5l.94-2.06 2.06-.94-2.06-.94L8.5 2.5l-.94 2.06-2.06.94zm10 10l.94 2.06.94-2.06 2.06-.94-2.06-.94-.94-2.06-.94 2.06-2.06.94z\"/><path d=\"M17.41 7.96l-1.37-1.37c-.4-.4-.92-.59-1.43-.59-.52 0-1.04.2-1.43.59L10.3 9.45l-7.72 7.72c-.78.78-.78 2.05 0 2.83L4 21.41c.39.39.9.59 1.41.59.51 0 1.02-.2 1.41-.59l7.78-7.78 2.81-2.81c.8-.78.8-2.07 0-2.86zM5.41 20L4 18.59l7.72-7.72 1.47 1.35L5.41 20z\"/>\n",
              "  </svg>\n",
              "      </button>\n",
              "      \n",
              "  <style>\n",
              "    .colab-df-container {\n",
              "      display:flex;\n",
              "      flex-wrap:wrap;\n",
              "      gap: 12px;\n",
              "    }\n",
              "\n",
              "    .colab-df-convert {\n",
              "      background-color: #E8F0FE;\n",
              "      border: none;\n",
              "      border-radius: 50%;\n",
              "      cursor: pointer;\n",
              "      display: none;\n",
              "      fill: #1967D2;\n",
              "      height: 32px;\n",
              "      padding: 0 0 0 0;\n",
              "      width: 32px;\n",
              "    }\n",
              "\n",
              "    .colab-df-convert:hover {\n",
              "      background-color: #E2EBFA;\n",
              "      box-shadow: 0px 1px 2px rgba(60, 64, 67, 0.3), 0px 1px 3px 1px rgba(60, 64, 67, 0.15);\n",
              "      fill: #174EA6;\n",
              "    }\n",
              "\n",
              "    [theme=dark] .colab-df-convert {\n",
              "      background-color: #3B4455;\n",
              "      fill: #D2E3FC;\n",
              "    }\n",
              "\n",
              "    [theme=dark] .colab-df-convert:hover {\n",
              "      background-color: #434B5C;\n",
              "      box-shadow: 0px 1px 3px 1px rgba(0, 0, 0, 0.15);\n",
              "      filter: drop-shadow(0px 1px 2px rgba(0, 0, 0, 0.3));\n",
              "      fill: #FFFFFF;\n",
              "    }\n",
              "  </style>\n",
              "\n",
              "      <script>\n",
              "        const buttonEl =\n",
              "          document.querySelector('#df-c907e096-86f3-4588-982d-586adff4aa43 button.colab-df-convert');\n",
              "        buttonEl.style.display =\n",
              "          google.colab.kernel.accessAllowed ? 'block' : 'none';\n",
              "\n",
              "        async function convertToInteractive(key) {\n",
              "          const element = document.querySelector('#df-c907e096-86f3-4588-982d-586adff4aa43');\n",
              "          const dataTable =\n",
              "            await google.colab.kernel.invokeFunction('convertToInteractive',\n",
              "                                                     [key], {});\n",
              "          if (!dataTable) return;\n",
              "\n",
              "          const docLinkHtml = 'Like what you see? Visit the ' +\n",
              "            '<a target=\"_blank\" href=https://colab.research.google.com/notebooks/data_table.ipynb>data table notebook</a>'\n",
              "            + ' to learn more about interactive tables.';\n",
              "          element.innerHTML = '';\n",
              "          dataTable['output_type'] = 'display_data';\n",
              "          await google.colab.output.renderOutput(dataTable, element);\n",
              "          const docLink = document.createElement('div');\n",
              "          docLink.innerHTML = docLinkHtml;\n",
              "          element.appendChild(docLink);\n",
              "        }\n",
              "      </script>\n",
              "    </div>\n",
              "  </div>\n",
              "  "
            ]
          },
          "metadata": {},
          "execution_count": 15
        }
      ],
      "source": [
        "df.head()"
      ]
    },
    {
      "cell_type": "code",
      "execution_count": 16,
      "metadata": {
        "colab": {
          "base_uri": "https://localhost:8080/"
        },
        "id": "PjbaxSU9m9sm",
        "outputId": "db17bd83-714e-4b7f-f6e4-ce7acbe2e8b2"
      },
      "outputs": [
        {
          "output_type": "execute_result",
          "data": {
            "text/plain": [
              "array([1997., 1980., 2006., 1998., 1999., 2000., 2001., 1972., 2003.,\n",
              "       2004., 1978., 1979., 1981., 2005.])"
            ]
          },
          "metadata": {},
          "execution_count": 16
        }
      ],
      "source": [
        "df.ApprovalFY.unique()"
      ]
    },
    {
      "cell_type": "code",
      "execution_count": 17,
      "metadata": {
        "id": "aM4w672zm9qU"
      },
      "outputs": [],
      "source": [
        "df.loc[df['ApprovalFY'] == '1976A', 'ApprovalFY'] = '1976'"
      ]
    },
    {
      "cell_type": "code",
      "execution_count": 18,
      "metadata": {
        "id": "MV1r0NNIp8D7"
      },
      "outputs": [],
      "source": [
        "df['ApprovalFY'] = df['ApprovalFY'].astype(int)"
      ]
    },
    {
      "cell_type": "code",
      "execution_count": 19,
      "metadata": {
        "colab": {
          "base_uri": "https://localhost:8080/"
        },
        "id": "qEMeloLYqrSN",
        "outputId": "41ce0a86-acb0-47c5-f436-015ac52c2e4d"
      },
      "outputs": [
        {
          "output_type": "execute_result",
          "data": {
            "text/plain": [
              "LoanNr_ChkDgt                 int64\n",
              "Name                         object\n",
              "City                         object\n",
              "State                        object\n",
              "Zip                         float64\n",
              "Bank                         object\n",
              "BankState                    object\n",
              "NAICS                       float64\n",
              "ApprovalDate         datetime64[ns]\n",
              "ApprovalFY                    int64\n",
              "Term                        float64\n",
              "NoEmp                       float64\n",
              "NewExist                    float64\n",
              "CreateJob                   float64\n",
              "RetainedJob                 float64\n",
              "FranchiseCode               float64\n",
              "UrbanRural                  float64\n",
              "RevLineCr                    object\n",
              "LowDoc                       object\n",
              "DisbursementDate             object\n",
              "DisbursementGross            object\n",
              "BalanceGross                 object\n",
              "MIS_Status                   object\n",
              "ChgOffPrinGr                 object\n",
              "GrAppv                       object\n",
              "SBA_Appv                     object\n",
              "dtype: object"
            ]
          },
          "metadata": {},
          "execution_count": 19
        }
      ],
      "source": [
        "df.dtypes"
      ]
    },
    {
      "cell_type": "code",
      "execution_count": 20,
      "metadata": {
        "id": "tgbznwB_7erf"
      },
      "outputs": [],
      "source": [
        "df.drop(columns=['LoanNr_ChkDgt', 'Name', 'City', 'Zip',\n",
        "                 'SBA_Appv', 'Bank', 'BankState', 'DisbursementGross', \n",
        "                 'BalanceGross','ChgOffPrinGr'], axis=1, inplace=True)"
      ]
    },
    {
      "cell_type": "code",
      "execution_count": 21,
      "metadata": {
        "colab": {
          "base_uri": "https://localhost:8080/",
          "height": 206
        },
        "id": "qVIl75x883VZ",
        "outputId": "cda15273-b0bd-406f-dccb-c07d2b66a616"
      },
      "outputs": [
        {
          "output_type": "execute_result",
          "data": {
            "text/plain": [
              "  State     NAICS ApprovalDate  ApprovalFY   Term  NoEmp  NewExist  CreateJob  \\\n",
              "0    IN  451120.0   1997-02-28        1997   84.0    4.0       2.0        0.0   \n",
              "1    IN  722410.0   1997-02-28        1997   60.0    2.0       2.0        0.0   \n",
              "2    IN  621210.0   1997-02-28        1997  180.0    7.0       1.0        0.0   \n",
              "3    OK       0.0   1997-02-28        1997   60.0    2.0       1.0        0.0   \n",
              "4    FL       0.0   1997-02-28        1997  240.0   14.0       1.0        7.0   \n",
              "\n",
              "   RetainedJob  FranchiseCode  UrbanRural RevLineCr LowDoc DisbursementDate  \\\n",
              "0          0.0            1.0         0.0         N      Y        28-Feb-99   \n",
              "1          0.0            1.0         0.0         N      Y        31-May-97   \n",
              "2          0.0            1.0         0.0         N      N        31-Dec-97   \n",
              "3          0.0            1.0         0.0         N      Y        30-Jun-97   \n",
              "4          7.0            1.0         0.0         N      N        14-May-97   \n",
              "\n",
              "  MIS_Status     GrAppv  \n",
              "0      P I F   60000.00  \n",
              "1      P I F   40000.00  \n",
              "2      P I F  287000.00  \n",
              "3      P I F   35000.00  \n",
              "4      P I F  229000.00  "
            ],
            "text/html": [
              "\n",
              "  <div id=\"df-89c977f6-834a-4751-8acc-200a5eb5941b\">\n",
              "    <div class=\"colab-df-container\">\n",
              "      <div>\n",
              "<style scoped>\n",
              "    .dataframe tbody tr th:only-of-type {\n",
              "        vertical-align: middle;\n",
              "    }\n",
              "\n",
              "    .dataframe tbody tr th {\n",
              "        vertical-align: top;\n",
              "    }\n",
              "\n",
              "    .dataframe thead th {\n",
              "        text-align: right;\n",
              "    }\n",
              "</style>\n",
              "<table border=\"1\" class=\"dataframe\">\n",
              "  <thead>\n",
              "    <tr style=\"text-align: right;\">\n",
              "      <th></th>\n",
              "      <th>State</th>\n",
              "      <th>NAICS</th>\n",
              "      <th>ApprovalDate</th>\n",
              "      <th>ApprovalFY</th>\n",
              "      <th>Term</th>\n",
              "      <th>NoEmp</th>\n",
              "      <th>NewExist</th>\n",
              "      <th>CreateJob</th>\n",
              "      <th>RetainedJob</th>\n",
              "      <th>FranchiseCode</th>\n",
              "      <th>UrbanRural</th>\n",
              "      <th>RevLineCr</th>\n",
              "      <th>LowDoc</th>\n",
              "      <th>DisbursementDate</th>\n",
              "      <th>MIS_Status</th>\n",
              "      <th>GrAppv</th>\n",
              "    </tr>\n",
              "  </thead>\n",
              "  <tbody>\n",
              "    <tr>\n",
              "      <th>0</th>\n",
              "      <td>IN</td>\n",
              "      <td>451120.0</td>\n",
              "      <td>1997-02-28</td>\n",
              "      <td>1997</td>\n",
              "      <td>84.0</td>\n",
              "      <td>4.0</td>\n",
              "      <td>2.0</td>\n",
              "      <td>0.0</td>\n",
              "      <td>0.0</td>\n",
              "      <td>1.0</td>\n",
              "      <td>0.0</td>\n",
              "      <td>N</td>\n",
              "      <td>Y</td>\n",
              "      <td>28-Feb-99</td>\n",
              "      <td>P I F</td>\n",
              "      <td>60000.00</td>\n",
              "    </tr>\n",
              "    <tr>\n",
              "      <th>1</th>\n",
              "      <td>IN</td>\n",
              "      <td>722410.0</td>\n",
              "      <td>1997-02-28</td>\n",
              "      <td>1997</td>\n",
              "      <td>60.0</td>\n",
              "      <td>2.0</td>\n",
              "      <td>2.0</td>\n",
              "      <td>0.0</td>\n",
              "      <td>0.0</td>\n",
              "      <td>1.0</td>\n",
              "      <td>0.0</td>\n",
              "      <td>N</td>\n",
              "      <td>Y</td>\n",
              "      <td>31-May-97</td>\n",
              "      <td>P I F</td>\n",
              "      <td>40000.00</td>\n",
              "    </tr>\n",
              "    <tr>\n",
              "      <th>2</th>\n",
              "      <td>IN</td>\n",
              "      <td>621210.0</td>\n",
              "      <td>1997-02-28</td>\n",
              "      <td>1997</td>\n",
              "      <td>180.0</td>\n",
              "      <td>7.0</td>\n",
              "      <td>1.0</td>\n",
              "      <td>0.0</td>\n",
              "      <td>0.0</td>\n",
              "      <td>1.0</td>\n",
              "      <td>0.0</td>\n",
              "      <td>N</td>\n",
              "      <td>N</td>\n",
              "      <td>31-Dec-97</td>\n",
              "      <td>P I F</td>\n",
              "      <td>287000.00</td>\n",
              "    </tr>\n",
              "    <tr>\n",
              "      <th>3</th>\n",
              "      <td>OK</td>\n",
              "      <td>0.0</td>\n",
              "      <td>1997-02-28</td>\n",
              "      <td>1997</td>\n",
              "      <td>60.0</td>\n",
              "      <td>2.0</td>\n",
              "      <td>1.0</td>\n",
              "      <td>0.0</td>\n",
              "      <td>0.0</td>\n",
              "      <td>1.0</td>\n",
              "      <td>0.0</td>\n",
              "      <td>N</td>\n",
              "      <td>Y</td>\n",
              "      <td>30-Jun-97</td>\n",
              "      <td>P I F</td>\n",
              "      <td>35000.00</td>\n",
              "    </tr>\n",
              "    <tr>\n",
              "      <th>4</th>\n",
              "      <td>FL</td>\n",
              "      <td>0.0</td>\n",
              "      <td>1997-02-28</td>\n",
              "      <td>1997</td>\n",
              "      <td>240.0</td>\n",
              "      <td>14.0</td>\n",
              "      <td>1.0</td>\n",
              "      <td>7.0</td>\n",
              "      <td>7.0</td>\n",
              "      <td>1.0</td>\n",
              "      <td>0.0</td>\n",
              "      <td>N</td>\n",
              "      <td>N</td>\n",
              "      <td>14-May-97</td>\n",
              "      <td>P I F</td>\n",
              "      <td>229000.00</td>\n",
              "    </tr>\n",
              "  </tbody>\n",
              "</table>\n",
              "</div>\n",
              "      <button class=\"colab-df-convert\" onclick=\"convertToInteractive('df-89c977f6-834a-4751-8acc-200a5eb5941b')\"\n",
              "              title=\"Convert this dataframe to an interactive table.\"\n",
              "              style=\"display:none;\">\n",
              "        \n",
              "  <svg xmlns=\"http://www.w3.org/2000/svg\" height=\"24px\"viewBox=\"0 0 24 24\"\n",
              "       width=\"24px\">\n",
              "    <path d=\"M0 0h24v24H0V0z\" fill=\"none\"/>\n",
              "    <path d=\"M18.56 5.44l.94 2.06.94-2.06 2.06-.94-2.06-.94-.94-2.06-.94 2.06-2.06.94zm-11 1L8.5 8.5l.94-2.06 2.06-.94-2.06-.94L8.5 2.5l-.94 2.06-2.06.94zm10 10l.94 2.06.94-2.06 2.06-.94-2.06-.94-.94-2.06-.94 2.06-2.06.94z\"/><path d=\"M17.41 7.96l-1.37-1.37c-.4-.4-.92-.59-1.43-.59-.52 0-1.04.2-1.43.59L10.3 9.45l-7.72 7.72c-.78.78-.78 2.05 0 2.83L4 21.41c.39.39.9.59 1.41.59.51 0 1.02-.2 1.41-.59l7.78-7.78 2.81-2.81c.8-.78.8-2.07 0-2.86zM5.41 20L4 18.59l7.72-7.72 1.47 1.35L5.41 20z\"/>\n",
              "  </svg>\n",
              "      </button>\n",
              "      \n",
              "  <style>\n",
              "    .colab-df-container {\n",
              "      display:flex;\n",
              "      flex-wrap:wrap;\n",
              "      gap: 12px;\n",
              "    }\n",
              "\n",
              "    .colab-df-convert {\n",
              "      background-color: #E8F0FE;\n",
              "      border: none;\n",
              "      border-radius: 50%;\n",
              "      cursor: pointer;\n",
              "      display: none;\n",
              "      fill: #1967D2;\n",
              "      height: 32px;\n",
              "      padding: 0 0 0 0;\n",
              "      width: 32px;\n",
              "    }\n",
              "\n",
              "    .colab-df-convert:hover {\n",
              "      background-color: #E2EBFA;\n",
              "      box-shadow: 0px 1px 2px rgba(60, 64, 67, 0.3), 0px 1px 3px 1px rgba(60, 64, 67, 0.15);\n",
              "      fill: #174EA6;\n",
              "    }\n",
              "\n",
              "    [theme=dark] .colab-df-convert {\n",
              "      background-color: #3B4455;\n",
              "      fill: #D2E3FC;\n",
              "    }\n",
              "\n",
              "    [theme=dark] .colab-df-convert:hover {\n",
              "      background-color: #434B5C;\n",
              "      box-shadow: 0px 1px 3px 1px rgba(0, 0, 0, 0.15);\n",
              "      filter: drop-shadow(0px 1px 2px rgba(0, 0, 0, 0.3));\n",
              "      fill: #FFFFFF;\n",
              "    }\n",
              "  </style>\n",
              "\n",
              "      <script>\n",
              "        const buttonEl =\n",
              "          document.querySelector('#df-89c977f6-834a-4751-8acc-200a5eb5941b button.colab-df-convert');\n",
              "        buttonEl.style.display =\n",
              "          google.colab.kernel.accessAllowed ? 'block' : 'none';\n",
              "\n",
              "        async function convertToInteractive(key) {\n",
              "          const element = document.querySelector('#df-89c977f6-834a-4751-8acc-200a5eb5941b');\n",
              "          const dataTable =\n",
              "            await google.colab.kernel.invokeFunction('convertToInteractive',\n",
              "                                                     [key], {});\n",
              "          if (!dataTable) return;\n",
              "\n",
              "          const docLinkHtml = 'Like what you see? Visit the ' +\n",
              "            '<a target=\"_blank\" href=https://colab.research.google.com/notebooks/data_table.ipynb>data table notebook</a>'\n",
              "            + ' to learn more about interactive tables.';\n",
              "          element.innerHTML = '';\n",
              "          dataTable['output_type'] = 'display_data';\n",
              "          await google.colab.output.renderOutput(dataTable, element);\n",
              "          const docLink = document.createElement('div');\n",
              "          docLink.innerHTML = docLinkHtml;\n",
              "          element.appendChild(docLink);\n",
              "        }\n",
              "      </script>\n",
              "    </div>\n",
              "  </div>\n",
              "  "
            ]
          },
          "metadata": {},
          "execution_count": 21
        }
      ],
      "source": [
        "df.head()"
      ]
    },
    {
      "cell_type": "code",
      "execution_count": 22,
      "metadata": {
        "colab": {
          "base_uri": "https://localhost:8080/"
        },
        "id": "jfTE-0eFmxv9",
        "outputId": "454ff770-ab48-4633-b742-e2a4db01d9c8"
      },
      "outputs": [
        {
          "output_type": "execute_result",
          "data": {
            "text/plain": [
              "array([2., 1., 0.])"
            ]
          },
          "metadata": {},
          "execution_count": 22
        }
      ],
      "source": [
        "df['NewExist'].unique()"
      ]
    },
    {
      "cell_type": "code",
      "execution_count": 23,
      "metadata": {
        "id": "FMHkKS2jkJO8"
      },
      "outputs": [],
      "source": [
        "df = df[~(df['NewExist'] == 0)]"
      ]
    },
    {
      "cell_type": "code",
      "execution_count": 24,
      "metadata": {
        "id": "SHgE_rJsjlCn"
      },
      "outputs": [],
      "source": [
        "df['IsNewBusiness'] = np.where(df['NewExist'] == 2, 1, 0)\n",
        "df.drop(columns=['NewExist'], axis=1, inplace=True)"
      ]
    },
    {
      "cell_type": "code",
      "execution_count": 25,
      "metadata": {
        "colab": {
          "base_uri": "https://localhost:8080/",
          "height": 250
        },
        "id": "sWDHtyPFivmu",
        "outputId": "6313ce81-bc16-46d3-a733-a0e9fac04f21"
      },
      "outputs": [
        {
          "output_type": "execute_result",
          "data": {
            "text/plain": [
              "  State     NAICS ApprovalDate  ApprovalFY   Term  NoEmp  CreateJob  \\\n",
              "0    IN  451120.0   1997-02-28        1997   84.0    4.0        0.0   \n",
              "1    IN  722410.0   1997-02-28        1997   60.0    2.0        0.0   \n",
              "2    IN  621210.0   1997-02-28        1997  180.0    7.0        0.0   \n",
              "3    OK       0.0   1997-02-28        1997   60.0    2.0        0.0   \n",
              "4    FL       0.0   1997-02-28        1997  240.0   14.0        7.0   \n",
              "\n",
              "   RetainedJob  FranchiseCode  UrbanRural RevLineCr LowDoc DisbursementDate  \\\n",
              "0          0.0            1.0         0.0         N      Y        28-Feb-99   \n",
              "1          0.0            1.0         0.0         N      Y        31-May-97   \n",
              "2          0.0            1.0         0.0         N      N        31-Dec-97   \n",
              "3          0.0            1.0         0.0         N      Y        30-Jun-97   \n",
              "4          7.0            1.0         0.0         N      N        14-May-97   \n",
              "\n",
              "  MIS_Status     GrAppv  IsNewBusiness  \n",
              "0      P I F   60000.00              1  \n",
              "1      P I F   40000.00              1  \n",
              "2      P I F  287000.00              0  \n",
              "3      P I F   35000.00              0  \n",
              "4      P I F  229000.00              0  "
            ],
            "text/html": [
              "\n",
              "  <div id=\"df-d47d52bc-1ede-459f-bbb5-bcb3da9704e9\">\n",
              "    <div class=\"colab-df-container\">\n",
              "      <div>\n",
              "<style scoped>\n",
              "    .dataframe tbody tr th:only-of-type {\n",
              "        vertical-align: middle;\n",
              "    }\n",
              "\n",
              "    .dataframe tbody tr th {\n",
              "        vertical-align: top;\n",
              "    }\n",
              "\n",
              "    .dataframe thead th {\n",
              "        text-align: right;\n",
              "    }\n",
              "</style>\n",
              "<table border=\"1\" class=\"dataframe\">\n",
              "  <thead>\n",
              "    <tr style=\"text-align: right;\">\n",
              "      <th></th>\n",
              "      <th>State</th>\n",
              "      <th>NAICS</th>\n",
              "      <th>ApprovalDate</th>\n",
              "      <th>ApprovalFY</th>\n",
              "      <th>Term</th>\n",
              "      <th>NoEmp</th>\n",
              "      <th>CreateJob</th>\n",
              "      <th>RetainedJob</th>\n",
              "      <th>FranchiseCode</th>\n",
              "      <th>UrbanRural</th>\n",
              "      <th>RevLineCr</th>\n",
              "      <th>LowDoc</th>\n",
              "      <th>DisbursementDate</th>\n",
              "      <th>MIS_Status</th>\n",
              "      <th>GrAppv</th>\n",
              "      <th>IsNewBusiness</th>\n",
              "    </tr>\n",
              "  </thead>\n",
              "  <tbody>\n",
              "    <tr>\n",
              "      <th>0</th>\n",
              "      <td>IN</td>\n",
              "      <td>451120.0</td>\n",
              "      <td>1997-02-28</td>\n",
              "      <td>1997</td>\n",
              "      <td>84.0</td>\n",
              "      <td>4.0</td>\n",
              "      <td>0.0</td>\n",
              "      <td>0.0</td>\n",
              "      <td>1.0</td>\n",
              "      <td>0.0</td>\n",
              "      <td>N</td>\n",
              "      <td>Y</td>\n",
              "      <td>28-Feb-99</td>\n",
              "      <td>P I F</td>\n",
              "      <td>60000.00</td>\n",
              "      <td>1</td>\n",
              "    </tr>\n",
              "    <tr>\n",
              "      <th>1</th>\n",
              "      <td>IN</td>\n",
              "      <td>722410.0</td>\n",
              "      <td>1997-02-28</td>\n",
              "      <td>1997</td>\n",
              "      <td>60.0</td>\n",
              "      <td>2.0</td>\n",
              "      <td>0.0</td>\n",
              "      <td>0.0</td>\n",
              "      <td>1.0</td>\n",
              "      <td>0.0</td>\n",
              "      <td>N</td>\n",
              "      <td>Y</td>\n",
              "      <td>31-May-97</td>\n",
              "      <td>P I F</td>\n",
              "      <td>40000.00</td>\n",
              "      <td>1</td>\n",
              "    </tr>\n",
              "    <tr>\n",
              "      <th>2</th>\n",
              "      <td>IN</td>\n",
              "      <td>621210.0</td>\n",
              "      <td>1997-02-28</td>\n",
              "      <td>1997</td>\n",
              "      <td>180.0</td>\n",
              "      <td>7.0</td>\n",
              "      <td>0.0</td>\n",
              "      <td>0.0</td>\n",
              "      <td>1.0</td>\n",
              "      <td>0.0</td>\n",
              "      <td>N</td>\n",
              "      <td>N</td>\n",
              "      <td>31-Dec-97</td>\n",
              "      <td>P I F</td>\n",
              "      <td>287000.00</td>\n",
              "      <td>0</td>\n",
              "    </tr>\n",
              "    <tr>\n",
              "      <th>3</th>\n",
              "      <td>OK</td>\n",
              "      <td>0.0</td>\n",
              "      <td>1997-02-28</td>\n",
              "      <td>1997</td>\n",
              "      <td>60.0</td>\n",
              "      <td>2.0</td>\n",
              "      <td>0.0</td>\n",
              "      <td>0.0</td>\n",
              "      <td>1.0</td>\n",
              "      <td>0.0</td>\n",
              "      <td>N</td>\n",
              "      <td>Y</td>\n",
              "      <td>30-Jun-97</td>\n",
              "      <td>P I F</td>\n",
              "      <td>35000.00</td>\n",
              "      <td>0</td>\n",
              "    </tr>\n",
              "    <tr>\n",
              "      <th>4</th>\n",
              "      <td>FL</td>\n",
              "      <td>0.0</td>\n",
              "      <td>1997-02-28</td>\n",
              "      <td>1997</td>\n",
              "      <td>240.0</td>\n",
              "      <td>14.0</td>\n",
              "      <td>7.0</td>\n",
              "      <td>7.0</td>\n",
              "      <td>1.0</td>\n",
              "      <td>0.0</td>\n",
              "      <td>N</td>\n",
              "      <td>N</td>\n",
              "      <td>14-May-97</td>\n",
              "      <td>P I F</td>\n",
              "      <td>229000.00</td>\n",
              "      <td>0</td>\n",
              "    </tr>\n",
              "  </tbody>\n",
              "</table>\n",
              "</div>\n",
              "      <button class=\"colab-df-convert\" onclick=\"convertToInteractive('df-d47d52bc-1ede-459f-bbb5-bcb3da9704e9')\"\n",
              "              title=\"Convert this dataframe to an interactive table.\"\n",
              "              style=\"display:none;\">\n",
              "        \n",
              "  <svg xmlns=\"http://www.w3.org/2000/svg\" height=\"24px\"viewBox=\"0 0 24 24\"\n",
              "       width=\"24px\">\n",
              "    <path d=\"M0 0h24v24H0V0z\" fill=\"none\"/>\n",
              "    <path d=\"M18.56 5.44l.94 2.06.94-2.06 2.06-.94-2.06-.94-.94-2.06-.94 2.06-2.06.94zm-11 1L8.5 8.5l.94-2.06 2.06-.94-2.06-.94L8.5 2.5l-.94 2.06-2.06.94zm10 10l.94 2.06.94-2.06 2.06-.94-2.06-.94-.94-2.06-.94 2.06-2.06.94z\"/><path d=\"M17.41 7.96l-1.37-1.37c-.4-.4-.92-.59-1.43-.59-.52 0-1.04.2-1.43.59L10.3 9.45l-7.72 7.72c-.78.78-.78 2.05 0 2.83L4 21.41c.39.39.9.59 1.41.59.51 0 1.02-.2 1.41-.59l7.78-7.78 2.81-2.81c.8-.78.8-2.07 0-2.86zM5.41 20L4 18.59l7.72-7.72 1.47 1.35L5.41 20z\"/>\n",
              "  </svg>\n",
              "      </button>\n",
              "      \n",
              "  <style>\n",
              "    .colab-df-container {\n",
              "      display:flex;\n",
              "      flex-wrap:wrap;\n",
              "      gap: 12px;\n",
              "    }\n",
              "\n",
              "    .colab-df-convert {\n",
              "      background-color: #E8F0FE;\n",
              "      border: none;\n",
              "      border-radius: 50%;\n",
              "      cursor: pointer;\n",
              "      display: none;\n",
              "      fill: #1967D2;\n",
              "      height: 32px;\n",
              "      padding: 0 0 0 0;\n",
              "      width: 32px;\n",
              "    }\n",
              "\n",
              "    .colab-df-convert:hover {\n",
              "      background-color: #E2EBFA;\n",
              "      box-shadow: 0px 1px 2px rgba(60, 64, 67, 0.3), 0px 1px 3px 1px rgba(60, 64, 67, 0.15);\n",
              "      fill: #174EA6;\n",
              "    }\n",
              "\n",
              "    [theme=dark] .colab-df-convert {\n",
              "      background-color: #3B4455;\n",
              "      fill: #D2E3FC;\n",
              "    }\n",
              "\n",
              "    [theme=dark] .colab-df-convert:hover {\n",
              "      background-color: #434B5C;\n",
              "      box-shadow: 0px 1px 3px 1px rgba(0, 0, 0, 0.15);\n",
              "      filter: drop-shadow(0px 1px 2px rgba(0, 0, 0, 0.3));\n",
              "      fill: #FFFFFF;\n",
              "    }\n",
              "  </style>\n",
              "\n",
              "      <script>\n",
              "        const buttonEl =\n",
              "          document.querySelector('#df-d47d52bc-1ede-459f-bbb5-bcb3da9704e9 button.colab-df-convert');\n",
              "        buttonEl.style.display =\n",
              "          google.colab.kernel.accessAllowed ? 'block' : 'none';\n",
              "\n",
              "        async function convertToInteractive(key) {\n",
              "          const element = document.querySelector('#df-d47d52bc-1ede-459f-bbb5-bcb3da9704e9');\n",
              "          const dataTable =\n",
              "            await google.colab.kernel.invokeFunction('convertToInteractive',\n",
              "                                                     [key], {});\n",
              "          if (!dataTable) return;\n",
              "\n",
              "          const docLinkHtml = 'Like what you see? Visit the ' +\n",
              "            '<a target=\"_blank\" href=https://colab.research.google.com/notebooks/data_table.ipynb>data table notebook</a>'\n",
              "            + ' to learn more about interactive tables.';\n",
              "          element.innerHTML = '';\n",
              "          dataTable['output_type'] = 'display_data';\n",
              "          await google.colab.output.renderOutput(dataTable, element);\n",
              "          const docLink = document.createElement('div');\n",
              "          docLink.innerHTML = docLinkHtml;\n",
              "          element.appendChild(docLink);\n",
              "        }\n",
              "      </script>\n",
              "    </div>\n",
              "  </div>\n",
              "  "
            ]
          },
          "metadata": {},
          "execution_count": 25
        }
      ],
      "source": [
        "df.head()"
      ]
    },
    {
      "cell_type": "code",
      "execution_count": 26,
      "metadata": {
        "id": "VqWnBI0r_q8r"
      },
      "outputs": [],
      "source": [
        "df.MIS_Status = np.where(df.MIS_Status == 'P I F', 1, 0)"
      ]
    },
    {
      "cell_type": "code",
      "execution_count": 27,
      "metadata": {
        "colab": {
          "base_uri": "https://localhost:8080/",
          "height": 250
        },
        "id": "Qkrip68HBKh_",
        "outputId": "b7229a64-8363-4764-ab3e-10213cd1acff"
      },
      "outputs": [
        {
          "output_type": "execute_result",
          "data": {
            "text/plain": [
              "  State     NAICS ApprovalDate  ApprovalFY   Term  NoEmp  CreateJob  \\\n",
              "0    IN  451120.0   1997-02-28        1997   84.0    4.0        0.0   \n",
              "1    IN  722410.0   1997-02-28        1997   60.0    2.0        0.0   \n",
              "2    IN  621210.0   1997-02-28        1997  180.0    7.0        0.0   \n",
              "3    OK       0.0   1997-02-28        1997   60.0    2.0        0.0   \n",
              "4    FL       0.0   1997-02-28        1997  240.0   14.0        7.0   \n",
              "\n",
              "   RetainedJob  FranchiseCode  UrbanRural RevLineCr LowDoc DisbursementDate  \\\n",
              "0          0.0            1.0         0.0         N      Y        28-Feb-99   \n",
              "1          0.0            1.0         0.0         N      Y        31-May-97   \n",
              "2          0.0            1.0         0.0         N      N        31-Dec-97   \n",
              "3          0.0            1.0         0.0         N      Y        30-Jun-97   \n",
              "4          7.0            1.0         0.0         N      N        14-May-97   \n",
              "\n",
              "   MIS_Status     GrAppv  IsNewBusiness  \n",
              "0           1   60000.00              1  \n",
              "1           1   40000.00              1  \n",
              "2           1  287000.00              0  \n",
              "3           1   35000.00              0  \n",
              "4           1  229000.00              0  "
            ],
            "text/html": [
              "\n",
              "  <div id=\"df-21d63ef2-3a06-488e-a318-3e3779785b9d\">\n",
              "    <div class=\"colab-df-container\">\n",
              "      <div>\n",
              "<style scoped>\n",
              "    .dataframe tbody tr th:only-of-type {\n",
              "        vertical-align: middle;\n",
              "    }\n",
              "\n",
              "    .dataframe tbody tr th {\n",
              "        vertical-align: top;\n",
              "    }\n",
              "\n",
              "    .dataframe thead th {\n",
              "        text-align: right;\n",
              "    }\n",
              "</style>\n",
              "<table border=\"1\" class=\"dataframe\">\n",
              "  <thead>\n",
              "    <tr style=\"text-align: right;\">\n",
              "      <th></th>\n",
              "      <th>State</th>\n",
              "      <th>NAICS</th>\n",
              "      <th>ApprovalDate</th>\n",
              "      <th>ApprovalFY</th>\n",
              "      <th>Term</th>\n",
              "      <th>NoEmp</th>\n",
              "      <th>CreateJob</th>\n",
              "      <th>RetainedJob</th>\n",
              "      <th>FranchiseCode</th>\n",
              "      <th>UrbanRural</th>\n",
              "      <th>RevLineCr</th>\n",
              "      <th>LowDoc</th>\n",
              "      <th>DisbursementDate</th>\n",
              "      <th>MIS_Status</th>\n",
              "      <th>GrAppv</th>\n",
              "      <th>IsNewBusiness</th>\n",
              "    </tr>\n",
              "  </thead>\n",
              "  <tbody>\n",
              "    <tr>\n",
              "      <th>0</th>\n",
              "      <td>IN</td>\n",
              "      <td>451120.0</td>\n",
              "      <td>1997-02-28</td>\n",
              "      <td>1997</td>\n",
              "      <td>84.0</td>\n",
              "      <td>4.0</td>\n",
              "      <td>0.0</td>\n",
              "      <td>0.0</td>\n",
              "      <td>1.0</td>\n",
              "      <td>0.0</td>\n",
              "      <td>N</td>\n",
              "      <td>Y</td>\n",
              "      <td>28-Feb-99</td>\n",
              "      <td>1</td>\n",
              "      <td>60000.00</td>\n",
              "      <td>1</td>\n",
              "    </tr>\n",
              "    <tr>\n",
              "      <th>1</th>\n",
              "      <td>IN</td>\n",
              "      <td>722410.0</td>\n",
              "      <td>1997-02-28</td>\n",
              "      <td>1997</td>\n",
              "      <td>60.0</td>\n",
              "      <td>2.0</td>\n",
              "      <td>0.0</td>\n",
              "      <td>0.0</td>\n",
              "      <td>1.0</td>\n",
              "      <td>0.0</td>\n",
              "      <td>N</td>\n",
              "      <td>Y</td>\n",
              "      <td>31-May-97</td>\n",
              "      <td>1</td>\n",
              "      <td>40000.00</td>\n",
              "      <td>1</td>\n",
              "    </tr>\n",
              "    <tr>\n",
              "      <th>2</th>\n",
              "      <td>IN</td>\n",
              "      <td>621210.0</td>\n",
              "      <td>1997-02-28</td>\n",
              "      <td>1997</td>\n",
              "      <td>180.0</td>\n",
              "      <td>7.0</td>\n",
              "      <td>0.0</td>\n",
              "      <td>0.0</td>\n",
              "      <td>1.0</td>\n",
              "      <td>0.0</td>\n",
              "      <td>N</td>\n",
              "      <td>N</td>\n",
              "      <td>31-Dec-97</td>\n",
              "      <td>1</td>\n",
              "      <td>287000.00</td>\n",
              "      <td>0</td>\n",
              "    </tr>\n",
              "    <tr>\n",
              "      <th>3</th>\n",
              "      <td>OK</td>\n",
              "      <td>0.0</td>\n",
              "      <td>1997-02-28</td>\n",
              "      <td>1997</td>\n",
              "      <td>60.0</td>\n",
              "      <td>2.0</td>\n",
              "      <td>0.0</td>\n",
              "      <td>0.0</td>\n",
              "      <td>1.0</td>\n",
              "      <td>0.0</td>\n",
              "      <td>N</td>\n",
              "      <td>Y</td>\n",
              "      <td>30-Jun-97</td>\n",
              "      <td>1</td>\n",
              "      <td>35000.00</td>\n",
              "      <td>0</td>\n",
              "    </tr>\n",
              "    <tr>\n",
              "      <th>4</th>\n",
              "      <td>FL</td>\n",
              "      <td>0.0</td>\n",
              "      <td>1997-02-28</td>\n",
              "      <td>1997</td>\n",
              "      <td>240.0</td>\n",
              "      <td>14.0</td>\n",
              "      <td>7.0</td>\n",
              "      <td>7.0</td>\n",
              "      <td>1.0</td>\n",
              "      <td>0.0</td>\n",
              "      <td>N</td>\n",
              "      <td>N</td>\n",
              "      <td>14-May-97</td>\n",
              "      <td>1</td>\n",
              "      <td>229000.00</td>\n",
              "      <td>0</td>\n",
              "    </tr>\n",
              "  </tbody>\n",
              "</table>\n",
              "</div>\n",
              "      <button class=\"colab-df-convert\" onclick=\"convertToInteractive('df-21d63ef2-3a06-488e-a318-3e3779785b9d')\"\n",
              "              title=\"Convert this dataframe to an interactive table.\"\n",
              "              style=\"display:none;\">\n",
              "        \n",
              "  <svg xmlns=\"http://www.w3.org/2000/svg\" height=\"24px\"viewBox=\"0 0 24 24\"\n",
              "       width=\"24px\">\n",
              "    <path d=\"M0 0h24v24H0V0z\" fill=\"none\"/>\n",
              "    <path d=\"M18.56 5.44l.94 2.06.94-2.06 2.06-.94-2.06-.94-.94-2.06-.94 2.06-2.06.94zm-11 1L8.5 8.5l.94-2.06 2.06-.94-2.06-.94L8.5 2.5l-.94 2.06-2.06.94zm10 10l.94 2.06.94-2.06 2.06-.94-2.06-.94-.94-2.06-.94 2.06-2.06.94z\"/><path d=\"M17.41 7.96l-1.37-1.37c-.4-.4-.92-.59-1.43-.59-.52 0-1.04.2-1.43.59L10.3 9.45l-7.72 7.72c-.78.78-.78 2.05 0 2.83L4 21.41c.39.39.9.59 1.41.59.51 0 1.02-.2 1.41-.59l7.78-7.78 2.81-2.81c.8-.78.8-2.07 0-2.86zM5.41 20L4 18.59l7.72-7.72 1.47 1.35L5.41 20z\"/>\n",
              "  </svg>\n",
              "      </button>\n",
              "      \n",
              "  <style>\n",
              "    .colab-df-container {\n",
              "      display:flex;\n",
              "      flex-wrap:wrap;\n",
              "      gap: 12px;\n",
              "    }\n",
              "\n",
              "    .colab-df-convert {\n",
              "      background-color: #E8F0FE;\n",
              "      border: none;\n",
              "      border-radius: 50%;\n",
              "      cursor: pointer;\n",
              "      display: none;\n",
              "      fill: #1967D2;\n",
              "      height: 32px;\n",
              "      padding: 0 0 0 0;\n",
              "      width: 32px;\n",
              "    }\n",
              "\n",
              "    .colab-df-convert:hover {\n",
              "      background-color: #E2EBFA;\n",
              "      box-shadow: 0px 1px 2px rgba(60, 64, 67, 0.3), 0px 1px 3px 1px rgba(60, 64, 67, 0.15);\n",
              "      fill: #174EA6;\n",
              "    }\n",
              "\n",
              "    [theme=dark] .colab-df-convert {\n",
              "      background-color: #3B4455;\n",
              "      fill: #D2E3FC;\n",
              "    }\n",
              "\n",
              "    [theme=dark] .colab-df-convert:hover {\n",
              "      background-color: #434B5C;\n",
              "      box-shadow: 0px 1px 3px 1px rgba(0, 0, 0, 0.15);\n",
              "      filter: drop-shadow(0px 1px 2px rgba(0, 0, 0, 0.3));\n",
              "      fill: #FFFFFF;\n",
              "    }\n",
              "  </style>\n",
              "\n",
              "      <script>\n",
              "        const buttonEl =\n",
              "          document.querySelector('#df-21d63ef2-3a06-488e-a318-3e3779785b9d button.colab-df-convert');\n",
              "        buttonEl.style.display =\n",
              "          google.colab.kernel.accessAllowed ? 'block' : 'none';\n",
              "\n",
              "        async function convertToInteractive(key) {\n",
              "          const element = document.querySelector('#df-21d63ef2-3a06-488e-a318-3e3779785b9d');\n",
              "          const dataTable =\n",
              "            await google.colab.kernel.invokeFunction('convertToInteractive',\n",
              "                                                     [key], {});\n",
              "          if (!dataTable) return;\n",
              "\n",
              "          const docLinkHtml = 'Like what you see? Visit the ' +\n",
              "            '<a target=\"_blank\" href=https://colab.research.google.com/notebooks/data_table.ipynb>data table notebook</a>'\n",
              "            + ' to learn more about interactive tables.';\n",
              "          element.innerHTML = '';\n",
              "          dataTable['output_type'] = 'display_data';\n",
              "          await google.colab.output.renderOutput(dataTable, element);\n",
              "          const docLink = document.createElement('div');\n",
              "          docLink.innerHTML = docLinkHtml;\n",
              "          element.appendChild(docLink);\n",
              "        }\n",
              "      </script>\n",
              "    </div>\n",
              "  </div>\n",
              "  "
            ]
          },
          "metadata": {},
          "execution_count": 27
        }
      ],
      "source": [
        "df.head()"
      ]
    },
    {
      "cell_type": "code",
      "execution_count": 28,
      "metadata": {
        "colab": {
          "base_uri": "https://localhost:8080/"
        },
        "id": "kFlCQ4Pz7wXb",
        "outputId": "d56a7157-3c0f-474d-b76c-d45f75559b49"
      },
      "outputs": [
        {
          "output_type": "execute_result",
          "data": {
            "text/plain": [
              "array([0., 1., 2.])"
            ]
          },
          "metadata": {},
          "execution_count": 28
        }
      ],
      "source": [
        "df['UrbanRural'].unique()"
      ]
    },
    {
      "cell_type": "code",
      "execution_count": 29,
      "metadata": {
        "id": "TMd7aS78KCSs"
      },
      "outputs": [],
      "source": [
        "df['UrbanRural'] = df['UrbanRural'].astype(int)"
      ]
    },
    {
      "cell_type": "code",
      "execution_count": 30,
      "metadata": {
        "colab": {
          "base_uri": "https://localhost:8080/"
        },
        "id": "a3Jk0DeiAu9c",
        "outputId": "eda3e15e-6413-4e98-f2f8-e32560c2a14a"
      },
      "outputs": [
        {
          "output_type": "stream",
          "name": "stdout",
          "text": [
            "0 5158\n",
            "1 8032\n",
            "2 2286\n"
          ]
        }
      ],
      "source": [
        "for x in df['UrbanRural'].unique():\n",
        "    print(x, sum(df['UrbanRural'] == x))"
      ]
    },
    {
      "cell_type": "code",
      "execution_count": 31,
      "metadata": {
        "colab": {
          "base_uri": "https://localhost:8080/"
        },
        "id": "W5jTRsT-45Mt",
        "outputId": "b21d3c17-64f9-4295-c81e-393f196af8a1"
      },
      "outputs": [
        {
          "output_type": "execute_result",
          "data": {
            "text/plain": [
              "array(['N', '0', 'Y', 'T', '`', ','], dtype=object)"
            ]
          },
          "metadata": {},
          "execution_count": 31
        }
      ],
      "source": [
        "df['RevLineCr'].unique()"
      ]
    },
    {
      "cell_type": "code",
      "execution_count": 32,
      "metadata": {
        "colab": {
          "base_uri": "https://localhost:8080/"
        },
        "id": "M0jrIv9f45Mt",
        "outputId": "e3f6c9a1-0baf-4ca6-82fc-b43442d9ec94"
      },
      "outputs": [
        {
          "output_type": "execute_result",
          "data": {
            "text/plain": [
              "array(['Y', 'N', 'C'], dtype=object)"
            ]
          },
          "metadata": {},
          "execution_count": 32
        }
      ],
      "source": [
        "df['LowDoc'].unique()"
      ]
    },
    {
      "cell_type": "code",
      "execution_count": 33,
      "metadata": {
        "id": "V3d9D0Zg45Mt"
      },
      "outputs": [],
      "source": [
        "df = df[(df['RevLineCr'] == 'Y') | (df['RevLineCr'] == 'N')] \n",
        "df = df[(df['LowDoc'] == 'Y') | (df['LowDoc'] == 'N')]\n",
        "\n",
        "df['RevLineCr'] = np.where(df['RevLineCr'] == 'Y', 1, 0)\n",
        "df['LowDoc'] = np.where(df['LowDoc'] == 'Y', 1, 0)"
      ]
    },
    {
      "cell_type": "code",
      "execution_count": 34,
      "metadata": {
        "colab": {
          "base_uri": "https://localhost:8080/"
        },
        "id": "i_xPUJ-e45Mu",
        "outputId": "a8d3edb6-423b-40d8-bbec-fe4e02f92538"
      },
      "outputs": [
        {
          "output_type": "execute_result",
          "data": {
            "text/plain": [
              "dtype('<M8[ns]')"
            ]
          },
          "metadata": {},
          "execution_count": 34
        }
      ],
      "source": [
        "df['ApprovalDate'].dtype"
      ]
    },
    {
      "cell_type": "code",
      "execution_count": 35,
      "metadata": {
        "colab": {
          "base_uri": "https://localhost:8080/"
        },
        "id": "nEl2e89Y45Mu",
        "outputId": "9e0127e3-d221-4f3c-a8f9-770c6f2e4967"
      },
      "outputs": [
        {
          "output_type": "execute_result",
          "data": {
            "text/plain": [
              "dtype('O')"
            ]
          },
          "metadata": {},
          "execution_count": 35
        }
      ],
      "source": [
        "df['DisbursementDate'].dtype"
      ]
    },
    {
      "cell_type": "code",
      "execution_count": 36,
      "metadata": {
        "id": "lM8grQ7Q45Mu"
      },
      "outputs": [],
      "source": [
        "df['DisbursementDate'] = pd.to_datetime(df['DisbursementDate'])\n",
        "df['DisbursementTime'] = df['DisbursementDate'] - df['ApprovalDate']\n",
        "df['DisbursementTime'] = df['DisbursementTime'].astype(str)\n",
        "df['DisbursementTime'] = df['DisbursementTime'].str.replace(' days', '')"
      ]
    },
    {
      "cell_type": "code",
      "execution_count": 37,
      "metadata": {
        "colab": {
          "base_uri": "https://localhost:8080/"
        },
        "id": "w-u0NmW-45Mu",
        "outputId": "c083c434-0ecd-48d2-dc01-ff213773a4ce"
      },
      "outputs": [
        {
          "output_type": "execute_result",
          "data": {
            "text/plain": [
              "array(['730', '92', '306', '122', '75', '50', '487', '153', '61', '360',\n",
              "       '275', '52', '292', '214', '457', '184', '396', '82', '21', '320',\n",
              "       '113', '245', '14', '31', '220', '5', '411', '103', '439', '89',\n",
              "       '1918', '201', '55', '348', '143', '71', '74', '125', '19', '257',\n",
              "       '104', '163', '883', '58', '11', '852', '503', '761', '35', '1131',\n",
              "       '96', '33', '794', '1095', '486', '696', '87', '18', '110', '77',\n",
              "       '15', '742', '130', '99', '37', '1375', '305', '63', '62', '29',\n",
              "       '24', '106', '20', '13', '85', '493', '399', '430', '34', '454',\n",
              "       '46', '1627', '746', '255', '1231', '9', '36', '216', '26', '205',\n",
              "       '263', '45', '196', '179', '118', '171', '100', '1389', '264',\n",
              "       '48', '27', '1295', '242', '38', '182', '415', '16', '107', '78',\n",
              "       '-44', '408', '10', '284', '188', '1124', '557', '175', '17',\n",
              "       '169', '25', '57', '119', '23', '211', '30', '1762', '150', '121',\n",
              "       '59', '44', '133', '70', '67', '28', '318', '80', '42', '40',\n",
              "       '135', '51', '47', '228', '76', '494', '32', '475', '383', '198',\n",
              "       '0', '39', '2', '848', '149', '134', '164', '979', '1338', '73',\n",
              "       '56', '112', '963', '12', '438', '448', '484', '4', '49', '272',\n",
              "       '858', '7', '185', '53', '941', '43', '402', '8', '920', '423',\n",
              "       '1', '142', '638', '576', '485', '6', '65', '64', '3', '972',\n",
              "       '637', '151', '81', '22', '303', '324', '868', '2217', '41', '278',\n",
              "       '1211', '83', '449', '2090', '88', '180', '344', '412', '132',\n",
              "       '102', '162', '101', '1198', '678', '210', '192', '98', '280',\n",
              "       '190', '308', '551', '1429', '60', '422', '152', '787', '575',\n",
              "       '86', '66', '95', '392', '1306', '79', '837', '137', '2039', '652',\n",
              "       '548', '1569', '197', '302', '68', '156', '407', '451', '54',\n",
              "       '483', '114', '470', '241', '72', '131', '128', '97', '273', '270',\n",
              "       '799', '354', '617', '140', '1153', '472', '147', '225', '890',\n",
              "       '435', '288', '84', '479', '910', '229', '105', '726', '69', '93',\n",
              "       '146', '285', '234', '349', '421', '117', '208', '301', '544',\n",
              "       '-5', '332', '1499', '250', '127', '155', '240', '154', '287',\n",
              "       '111', '90', '380', '116', '315', '1607', '145', '252', '391',\n",
              "       '209', '321', '141', '148', '187', '384', '725', '939', '200',\n",
              "       '345', '842', '1121', '330', '482', '115', '176', '401', '356',\n",
              "       '195', '269', '331', '416', '239', '1115', '1730', '781', '933',\n",
              "       '604', '139', '381', '359', '504', '481', '1110', '300', '908',\n",
              "       '390', '235', '314', '370', '543', '165', '1107', '926', '405',\n",
              "       '193', '202', '436', '433', '724', '1103', '373', '251', '650',\n",
              "       '161', '922', '665', '312', '496', '810', '232', '464', '178',\n",
              "       '311', '414', '281', '921', '160', '1101', '238', '450', '1286',\n",
              "       '313', '299', '1100', '766', '335', '279', '705', '158', '177',\n",
              "       '2245', '207', '480', '268', '603', '186', '916', '94', '367',\n",
              "       '937', '222', '702', '664', '194', '244', '581', '124', '998',\n",
              "       '404', '123', '558', '633', '511', '341', '389', '91', '358',\n",
              "       '183', '677', '912', '1120', '293', '1028', '420', '297', '1119',\n",
              "       '267', '662', '539', '520', '265', '1117', '1025', '219', '290',\n",
              "       '386', '569', '203', '323', '262', '749', '1114', '445', '656',\n",
              "       '444', '230', '477', '129', '291', '109', '382', '720', '204',\n",
              "       '366', '174', '1892', '355', '338', '296', '564', '168', '258',\n",
              "       '469', '841', '246', '538', '326', '619', '649', '218', '772',\n",
              "       '173', '385', '426', '691', '406', '253', '618', '740', '221',\n",
              "       '364', '616', '1450', '523', '309', '189', '217', '248', '567',\n",
              "       '172', '325', '247', '932', '369', '598', '126', '1130', '902',\n",
              "       '157', '718', '233', '215', '307', '427', '1449', '871', '1129',\n",
              "       '322', '429', '1494', '671', '537', '1128', '398', '213', '659',\n",
              "       '476', '644', '237', '550', '397', '474', '394', '881', '393',\n",
              "       '181', '931', '870', '1123', '351', '825', '413', '717', '167',\n",
              "       '352', '552', '108', '231', '565', '206', '362', '136', '259',\n",
              "       '900', '417', '410', '869', '509', '642', '144', '243', '873',\n",
              "       '1146', '751', '1116', '170', '501', '1141', '289', '199', '260',\n",
              "       '1143', '378', '379', '1081', '1113', '227', '715', '441', '1139',\n",
              "       '226', '166', '744', '409', '835', '805', '347', '1108', '896',\n",
              "       '620', '120', '316', '712', '773', '500', '1869', '224', '1137',\n",
              "       '346', '741', '592', '223', '1136', '865', '683', '319', '707',\n",
              "       '828', '1102', '1132', '798', '1230', '728', '463', '711', '553',\n",
              "       '560', '895', '-33', '159', '925', '1155', '819', '636', '774',\n",
              "       '1138', '460', '743', '1462', '853', '377', '488', '1096', '1126',\n",
              "       '519', '286', '699', '1125', '212', '791', '851', '783', '682',\n",
              "       '605', '771', '758', '467', '789', '271', '419', '1122', '727',\n",
              "       '1241', '388', '528', '1118', '375', '893', '236', '844', '660',\n",
              "       '295', '803', '376', '801', '721', '601', '365', '466', '1112',\n",
              "       '532', '593', '767', '745', '859', '502', '867', '1109', '530',\n",
              "       '387', '561', '506', '372', '955', '256', '462', '283', '697',\n",
              "       '1105', '432', '498', '554', '827', '1104', '862', '524', '736',\n",
              "       '556', '889', '903', '796', '350', '704', '1071', '249', '491',\n",
              "       '1147', '276', '669', '337', '657', '566', '583', '489', '792',\n",
              "       '274', '138', '1127', '1369', '1313', '1525', '719', '1151',\n",
              "       '1150', '505', '562', '471', '625', '541', '935', '1424', '815',\n",
              "       '334', '266', '913', '547', '535', '455', '1248', '698', '882',\n",
              "       '533', '1156', '1142', '608', '776', '578', '517', '1278', '333',\n",
              "       '589', '670', '802', '1106', '1135', '942', '343', '647', '1216',\n",
              "       '546', '304', '1134', '516', '1520', '577', '363', '1399', '1099',\n",
              "       '849', '606', '1307', '531', '2098', '1098', '518', '453', '1914',\n",
              "       '790', '456', '545', '403', '971', '1246', '1398', '452', '788',\n",
              "       '879', '909', '2005', '361', '1518', '756', '877', '1913', '817',\n",
              "       '514', '1182', '-274', '357', '507', '328', '597', '327', '492',\n",
              "       '254', '753', '692', '838', '1022', '748', '191', '534', '654',\n",
              "       '906', '723', '775', '653', '298', '623', '663', '418', '813',\n",
              "       '722', '1534', '526', '395', '1015', '446', '936', '510', '540',\n",
              "       '1178', '447', '525', '-9', '1164', '478', '812', '1513', '904'],\n",
              "      dtype=object)"
            ]
          },
          "metadata": {},
          "execution_count": 37
        }
      ],
      "source": [
        "df['DisbursementTime'].unique()"
      ]
    },
    {
      "cell_type": "code",
      "execution_count": 38,
      "metadata": {
        "id": "uXnIwpTy45Mu"
      },
      "outputs": [],
      "source": [
        "df['DisbursementTime'] = df['DisbursementTime'].astype(int)"
      ]
    },
    {
      "cell_type": "code",
      "execution_count": 39,
      "metadata": {
        "colab": {
          "base_uri": "https://localhost:8080/"
        },
        "id": "eMrzdEXJ45Mv",
        "outputId": "df563850-a697-4f53-a953-a7f402c7fec8"
      },
      "outputs": [
        {
          "output_type": "execute_result",
          "data": {
            "text/plain": [
              "count    12509.000000\n",
              "mean       113.399233\n",
              "std        197.913139\n",
              "min       -274.000000\n",
              "25%         28.000000\n",
              "50%         49.000000\n",
              "75%        102.000000\n",
              "max       2245.000000\n",
              "Name: DisbursementTime, dtype: float64"
            ]
          },
          "metadata": {},
          "execution_count": 39
        }
      ],
      "source": [
        "df['DisbursementTime'].describe()"
      ]
    },
    {
      "cell_type": "code",
      "execution_count": 40,
      "metadata": {
        "colab": {
          "base_uri": "https://localhost:8080/"
        },
        "id": "1Odc78Xo45Mv",
        "outputId": "c1e12f56-a733-4078-a364-2342acd9815f"
      },
      "outputs": [
        {
          "output_type": "execute_result",
          "data": {
            "text/plain": [
              "6"
            ]
          },
          "metadata": {},
          "execution_count": 40
        }
      ],
      "source": [
        "sum(df['DisbursementTime'] < 0)"
      ]
    },
    {
      "cell_type": "code",
      "execution_count": 41,
      "metadata": {
        "id": "4sJxLnRa45Mv"
      },
      "outputs": [],
      "source": [
        "df = df[~(df['DisbursementTime'] < 0)]"
      ]
    },
    {
      "cell_type": "code",
      "execution_count": 42,
      "metadata": {
        "colab": {
          "base_uri": "https://localhost:8080/",
          "height": 270
        },
        "id": "-c5t7_PY45Mv",
        "outputId": "3d00480b-058e-4961-eb6e-3ff6128de79e"
      },
      "outputs": [
        {
          "output_type": "execute_result",
          "data": {
            "text/plain": [
              "  State     NAICS ApprovalDate  ApprovalFY   Term  NoEmp  CreateJob  \\\n",
              "0    IN  451120.0   1997-02-28        1997   84.0    4.0        0.0   \n",
              "1    IN  722410.0   1997-02-28        1997   60.0    2.0        0.0   \n",
              "2    IN  621210.0   1997-02-28        1997  180.0    7.0        0.0   \n",
              "3    OK       0.0   1997-02-28        1997   60.0    2.0        0.0   \n",
              "4    FL       0.0   1997-02-28        1997  240.0   14.0        7.0   \n",
              "\n",
              "   RetainedJob  FranchiseCode  UrbanRural  RevLineCr  LowDoc DisbursementDate  \\\n",
              "0          0.0            1.0           0          0       1       1999-02-28   \n",
              "1          0.0            1.0           0          0       1       1997-05-31   \n",
              "2          0.0            1.0           0          0       0       1997-12-31   \n",
              "3          0.0            1.0           0          0       1       1997-06-30   \n",
              "4          7.0            1.0           0          0       0       1997-05-14   \n",
              "\n",
              "   MIS_Status     GrAppv  IsNewBusiness  DisbursementTime  \n",
              "0           1   60000.00              1               730  \n",
              "1           1   40000.00              1                92  \n",
              "2           1  287000.00              0               306  \n",
              "3           1   35000.00              0               122  \n",
              "4           1  229000.00              0                75  "
            ],
            "text/html": [
              "\n",
              "  <div id=\"df-d9940dca-d6b7-449e-a15b-a3bf573332e8\">\n",
              "    <div class=\"colab-df-container\">\n",
              "      <div>\n",
              "<style scoped>\n",
              "    .dataframe tbody tr th:only-of-type {\n",
              "        vertical-align: middle;\n",
              "    }\n",
              "\n",
              "    .dataframe tbody tr th {\n",
              "        vertical-align: top;\n",
              "    }\n",
              "\n",
              "    .dataframe thead th {\n",
              "        text-align: right;\n",
              "    }\n",
              "</style>\n",
              "<table border=\"1\" class=\"dataframe\">\n",
              "  <thead>\n",
              "    <tr style=\"text-align: right;\">\n",
              "      <th></th>\n",
              "      <th>State</th>\n",
              "      <th>NAICS</th>\n",
              "      <th>ApprovalDate</th>\n",
              "      <th>ApprovalFY</th>\n",
              "      <th>Term</th>\n",
              "      <th>NoEmp</th>\n",
              "      <th>CreateJob</th>\n",
              "      <th>RetainedJob</th>\n",
              "      <th>FranchiseCode</th>\n",
              "      <th>UrbanRural</th>\n",
              "      <th>RevLineCr</th>\n",
              "      <th>LowDoc</th>\n",
              "      <th>DisbursementDate</th>\n",
              "      <th>MIS_Status</th>\n",
              "      <th>GrAppv</th>\n",
              "      <th>IsNewBusiness</th>\n",
              "      <th>DisbursementTime</th>\n",
              "    </tr>\n",
              "  </thead>\n",
              "  <tbody>\n",
              "    <tr>\n",
              "      <th>0</th>\n",
              "      <td>IN</td>\n",
              "      <td>451120.0</td>\n",
              "      <td>1997-02-28</td>\n",
              "      <td>1997</td>\n",
              "      <td>84.0</td>\n",
              "      <td>4.0</td>\n",
              "      <td>0.0</td>\n",
              "      <td>0.0</td>\n",
              "      <td>1.0</td>\n",
              "      <td>0</td>\n",
              "      <td>0</td>\n",
              "      <td>1</td>\n",
              "      <td>1999-02-28</td>\n",
              "      <td>1</td>\n",
              "      <td>60000.00</td>\n",
              "      <td>1</td>\n",
              "      <td>730</td>\n",
              "    </tr>\n",
              "    <tr>\n",
              "      <th>1</th>\n",
              "      <td>IN</td>\n",
              "      <td>722410.0</td>\n",
              "      <td>1997-02-28</td>\n",
              "      <td>1997</td>\n",
              "      <td>60.0</td>\n",
              "      <td>2.0</td>\n",
              "      <td>0.0</td>\n",
              "      <td>0.0</td>\n",
              "      <td>1.0</td>\n",
              "      <td>0</td>\n",
              "      <td>0</td>\n",
              "      <td>1</td>\n",
              "      <td>1997-05-31</td>\n",
              "      <td>1</td>\n",
              "      <td>40000.00</td>\n",
              "      <td>1</td>\n",
              "      <td>92</td>\n",
              "    </tr>\n",
              "    <tr>\n",
              "      <th>2</th>\n",
              "      <td>IN</td>\n",
              "      <td>621210.0</td>\n",
              "      <td>1997-02-28</td>\n",
              "      <td>1997</td>\n",
              "      <td>180.0</td>\n",
              "      <td>7.0</td>\n",
              "      <td>0.0</td>\n",
              "      <td>0.0</td>\n",
              "      <td>1.0</td>\n",
              "      <td>0</td>\n",
              "      <td>0</td>\n",
              "      <td>0</td>\n",
              "      <td>1997-12-31</td>\n",
              "      <td>1</td>\n",
              "      <td>287000.00</td>\n",
              "      <td>0</td>\n",
              "      <td>306</td>\n",
              "    </tr>\n",
              "    <tr>\n",
              "      <th>3</th>\n",
              "      <td>OK</td>\n",
              "      <td>0.0</td>\n",
              "      <td>1997-02-28</td>\n",
              "      <td>1997</td>\n",
              "      <td>60.0</td>\n",
              "      <td>2.0</td>\n",
              "      <td>0.0</td>\n",
              "      <td>0.0</td>\n",
              "      <td>1.0</td>\n",
              "      <td>0</td>\n",
              "      <td>0</td>\n",
              "      <td>1</td>\n",
              "      <td>1997-06-30</td>\n",
              "      <td>1</td>\n",
              "      <td>35000.00</td>\n",
              "      <td>0</td>\n",
              "      <td>122</td>\n",
              "    </tr>\n",
              "    <tr>\n",
              "      <th>4</th>\n",
              "      <td>FL</td>\n",
              "      <td>0.0</td>\n",
              "      <td>1997-02-28</td>\n",
              "      <td>1997</td>\n",
              "      <td>240.0</td>\n",
              "      <td>14.0</td>\n",
              "      <td>7.0</td>\n",
              "      <td>7.0</td>\n",
              "      <td>1.0</td>\n",
              "      <td>0</td>\n",
              "      <td>0</td>\n",
              "      <td>0</td>\n",
              "      <td>1997-05-14</td>\n",
              "      <td>1</td>\n",
              "      <td>229000.00</td>\n",
              "      <td>0</td>\n",
              "      <td>75</td>\n",
              "    </tr>\n",
              "  </tbody>\n",
              "</table>\n",
              "</div>\n",
              "      <button class=\"colab-df-convert\" onclick=\"convertToInteractive('df-d9940dca-d6b7-449e-a15b-a3bf573332e8')\"\n",
              "              title=\"Convert this dataframe to an interactive table.\"\n",
              "              style=\"display:none;\">\n",
              "        \n",
              "  <svg xmlns=\"http://www.w3.org/2000/svg\" height=\"24px\"viewBox=\"0 0 24 24\"\n",
              "       width=\"24px\">\n",
              "    <path d=\"M0 0h24v24H0V0z\" fill=\"none\"/>\n",
              "    <path d=\"M18.56 5.44l.94 2.06.94-2.06 2.06-.94-2.06-.94-.94-2.06-.94 2.06-2.06.94zm-11 1L8.5 8.5l.94-2.06 2.06-.94-2.06-.94L8.5 2.5l-.94 2.06-2.06.94zm10 10l.94 2.06.94-2.06 2.06-.94-2.06-.94-.94-2.06-.94 2.06-2.06.94z\"/><path d=\"M17.41 7.96l-1.37-1.37c-.4-.4-.92-.59-1.43-.59-.52 0-1.04.2-1.43.59L10.3 9.45l-7.72 7.72c-.78.78-.78 2.05 0 2.83L4 21.41c.39.39.9.59 1.41.59.51 0 1.02-.2 1.41-.59l7.78-7.78 2.81-2.81c.8-.78.8-2.07 0-2.86zM5.41 20L4 18.59l7.72-7.72 1.47 1.35L5.41 20z\"/>\n",
              "  </svg>\n",
              "      </button>\n",
              "      \n",
              "  <style>\n",
              "    .colab-df-container {\n",
              "      display:flex;\n",
              "      flex-wrap:wrap;\n",
              "      gap: 12px;\n",
              "    }\n",
              "\n",
              "    .colab-df-convert {\n",
              "      background-color: #E8F0FE;\n",
              "      border: none;\n",
              "      border-radius: 50%;\n",
              "      cursor: pointer;\n",
              "      display: none;\n",
              "      fill: #1967D2;\n",
              "      height: 32px;\n",
              "      padding: 0 0 0 0;\n",
              "      width: 32px;\n",
              "    }\n",
              "\n",
              "    .colab-df-convert:hover {\n",
              "      background-color: #E2EBFA;\n",
              "      box-shadow: 0px 1px 2px rgba(60, 64, 67, 0.3), 0px 1px 3px 1px rgba(60, 64, 67, 0.15);\n",
              "      fill: #174EA6;\n",
              "    }\n",
              "\n",
              "    [theme=dark] .colab-df-convert {\n",
              "      background-color: #3B4455;\n",
              "      fill: #D2E3FC;\n",
              "    }\n",
              "\n",
              "    [theme=dark] .colab-df-convert:hover {\n",
              "      background-color: #434B5C;\n",
              "      box-shadow: 0px 1px 3px 1px rgba(0, 0, 0, 0.15);\n",
              "      filter: drop-shadow(0px 1px 2px rgba(0, 0, 0, 0.3));\n",
              "      fill: #FFFFFF;\n",
              "    }\n",
              "  </style>\n",
              "\n",
              "      <script>\n",
              "        const buttonEl =\n",
              "          document.querySelector('#df-d9940dca-d6b7-449e-a15b-a3bf573332e8 button.colab-df-convert');\n",
              "        buttonEl.style.display =\n",
              "          google.colab.kernel.accessAllowed ? 'block' : 'none';\n",
              "\n",
              "        async function convertToInteractive(key) {\n",
              "          const element = document.querySelector('#df-d9940dca-d6b7-449e-a15b-a3bf573332e8');\n",
              "          const dataTable =\n",
              "            await google.colab.kernel.invokeFunction('convertToInteractive',\n",
              "                                                     [key], {});\n",
              "          if (!dataTable) return;\n",
              "\n",
              "          const docLinkHtml = 'Like what you see? Visit the ' +\n",
              "            '<a target=\"_blank\" href=https://colab.research.google.com/notebooks/data_table.ipynb>data table notebook</a>'\n",
              "            + ' to learn more about interactive tables.';\n",
              "          element.innerHTML = '';\n",
              "          dataTable['output_type'] = 'display_data';\n",
              "          await google.colab.output.renderOutput(dataTable, element);\n",
              "          const docLink = document.createElement('div');\n",
              "          docLink.innerHTML = docLinkHtml;\n",
              "          element.appendChild(docLink);\n",
              "        }\n",
              "      </script>\n",
              "    </div>\n",
              "  </div>\n",
              "  "
            ]
          },
          "metadata": {},
          "execution_count": 42
        }
      ],
      "source": [
        "df.head()"
      ]
    },
    {
      "cell_type": "code",
      "execution_count": 43,
      "metadata": {
        "id": "3oosIqjW45Mv"
      },
      "outputs": [],
      "source": [
        "df.drop(columns=['State', 'ApprovalDate', 'DisbursementDate'], inplace=True, axis=1)"
      ]
    },
    {
      "cell_type": "code",
      "execution_count": 44,
      "metadata": {
        "colab": {
          "base_uri": "https://localhost:8080/"
        },
        "id": "4-I7eTfL45Mw",
        "outputId": "81691d4b-f286-411e-c35d-1b10b346c7d4"
      },
      "outputs": [
        {
          "output_type": "execute_result",
          "data": {
            "text/plain": [
              "count    12503.000000\n",
              "mean      1758.919059\n",
              "std      10326.966232\n",
              "min          0.000000\n",
              "25%          1.000000\n",
              "50%          1.000000\n",
              "75%          1.000000\n",
              "max      91283.000000\n",
              "Name: FranchiseCode, dtype: float64"
            ]
          },
          "metadata": {},
          "execution_count": 44
        }
      ],
      "source": [
        "df['FranchiseCode'].describe()"
      ]
    },
    {
      "cell_type": "code",
      "execution_count": 45,
      "metadata": {
        "id": "G5Lee6MD45Mw"
      },
      "outputs": [],
      "source": [
        "df.loc[(df['FranchiseCode'] <= 1), 'IsFranchise'] = 0\n",
        "df.loc[(df['FranchiseCode'] > 1), 'IsFranchise'] = 1\n",
        "\n",
        "df['IsFranchise'] = df['IsFranchise'].astype(int)\n",
        "df.drop(columns=['FranchiseCode'], axis=1, inplace=True)"
      ]
    },
    {
      "cell_type": "code",
      "execution_count": 46,
      "metadata": {
        "colab": {
          "base_uri": "https://localhost:8080/"
        },
        "id": "Ihm_A96p45Mw",
        "outputId": "73847f54-237c-480d-caaa-8391c7fbe2d9"
      },
      "outputs": [
        {
          "output_type": "execute_result",
          "data": {
            "text/plain": [
              "array([451120., 722410., 621210.,      0., 332721., 811118., 721310.,\n",
              "       811111., 235950., 445299., 421330., 624410., 722211., 451110.,\n",
              "       611110., 445310., 238140., 532490., 454210., 541611., 332996.,\n",
              "       235930., 621310., 448130., 512110., 314999., 444220., 423710.,\n",
              "       524128., 323117., 561612., 451220., 722110., 421310., 722310.,\n",
              "       713940., 541310., 331513., 541921., 541810., 561440., 453991.,\n",
              "       541613., 311320., 448140., 541110., 484121., 561450., 331521.,\n",
              "       112210., 541820., 624310., 421810., 541511., 722320., 811112.,\n",
              "       713950., 333314., 448120., 235410., 233320., 454311., 541512.,\n",
              "       541213., 561730., 621111., 444130., 333131., 541940., 235210.,\n",
              "       531390., 541350., 811121., 445110., 541519., 337110., 339999.,\n",
              "       446110., 336991., 522310., 484110., 488999., 448310., 518210.,\n",
              "       453220., 327390., 541710., 311811., 452990., 812310., 453998.,\n",
              "       541330., 321920., 453110., 451130., 421910., 333518., 511110.,\n",
              "       235110., 511210., 332322., 524210., 532120., 236118., 512131.,\n",
              "       624120., 234110., 621391., 235810., 561720., 114111., 421920.,\n",
              "       421990., 524291., 422120., 443111., 532420., 621910., 421690.,\n",
              "       422460., 443112., 541430., 611691., 541410., 422330., 441110.,\n",
              "       327991., 315212., 561431., 422410., 323110., 422210., 531210.,\n",
              "       421450., 441310., 621112., 812112., 711510., 611420., 811113.,\n",
              "       421620., 325998., 421940., 513322., 421440., 484210., 335999.,\n",
              "       561990., 422990., 453930., 531320., 561439., 315211., 326191.,\n",
              "       235310., 424490., 445291., 443120., 339116., 424320., 541211.,\n",
              "       235610., 325411., 488510., 325412., 561310., 562910., 541214.,\n",
              "       621340., 315231., 448210., 453310., 421610., 445120., 233210.,\n",
              "       442210., 334290., 811420., 339950., 332214., 524298., 561621.,\n",
              "       928120., 512210., 531312., 448190., 621320., 541620., 336312.,\n",
              "       446120., 523930., 422690., 442299., 323113., 335312., 561790.,\n",
              "       447110., 332312., 541990., 611430., 332710., 561510., 235710.,\n",
              "       421510., 561740., 423940., 235990., 621511., 485320., 235510.,\n",
              "       315991., 541618., 238190., 326199., 424990., 532230., 442110.,\n",
              "       454390., 541612., 446191., 812320., 424470., 811192., 315233.,\n",
              "       337122., 238390., 541219., 221210., 325211., 238320., 484220.,\n",
              "       611620., 811411., 451211., 423690., 238210., 492110., 511120.,\n",
              "       812199., 423930., 611519., 722213., 238220., 336412., 441320.,\n",
              "       332510., 811310., 561320., 335929., 812990., 236115., 332722.,\n",
              "       621399., 221310., 484230., 421460., 446130., 621999., 424410.,\n",
              "       811212., 311920., 423220., 561499., 113110., 488410., 445210.,\n",
              "       453920., 541860., 532412., 453210., 238330., 238990., 238310.,\n",
              "       333512., 561622., 446199., 532292., 237110., 236220., 488190.,\n",
              "       323119., 441222., 238910., 561710., 541199., 713930., 238110.,\n",
              "       333295., 422130., 321999., 423990., 621498., 333613., 115210.,\n",
              "       327212., 337127., 327112., 423620., 551112., 113310., 541370.,\n",
              "       322222., 423210., 234120., 492210., 517910., 713910., 445292.,\n",
              "       333999., 517212., 424930., 339115., 541890., 721110., 713990.,\n",
              "       423810., 333292., 811198., 541690., 423910., 423330., 711410.,\n",
              "       334413., 423830., 441120., 314129., 324121., 812910., 237990.,\n",
              "       812111., 332999., 335122., 541840., 621610., 421110., 451140.,\n",
              "       812210., 423860., 332919., 493110., 421830., 424210., 238350.,\n",
              "       334412., 532210., 811412., 237210., 453910., 811122., 611610.,\n",
              "       333923., 337212., 562212., 623210., 332911., 541922., 323111.,\n",
              "       323122., 532111., 327320., 512220., 611511., 335991., 423450.,\n",
              "       333515., 531311., 423610., 454111., 423440., 711320., 423110.,\n",
              "       611710., 236116., 444110., 561421., 541614., 422320., 424330.,\n",
              "       541513., 323114., 424110., 812191., 112320., 333513., 332321.,\n",
              "       518112., 483211., 424690., 315999., 441221., 423120., 561611.,\n",
              "       422450., 532310., 447190., 811219., 561110., 235520., 811490.,\n",
              "       711110., 512240., 333415., 621330., 316110., 624190., 922160.,\n",
              "       315299., 541870., 532291., 517310., 238290., 541320., 334513.,\n",
              "       522390., 423820., 311999., 332311., 441229., 444190., 423920.,\n",
              "       337214., 813910., 333132., 424310., 811213., 488991., 326150.,\n",
              "       448110., 327125., 337124., 339914., 321911., 333120., 611699.,\n",
              "       115115., 524113., 441210., 448150., 335211., 311330., 112920.,\n",
              "       812113., 517410., 524114., 423430., 323115., 235920., 621512.,\n",
              "       424120., 315234., 485991., 454110., 311611., 541360., 491110.,\n",
              "       422490., 327215., 422930., 814110., 325510., 321992., 532299.,\n",
              "       334220., 424720., 337125., 312111., 812921., 331111., 561599.,\n",
              "       313113., 811191., 562991., 561492., 452110., 313311., 424950.,\n",
              "       722212., 713110., 561210., 311919., 926140., 333220., 327211.,\n",
              "       115310., 311520., 423730., 517110., 424610., 334310., 325222.,\n",
              "       235420., 332117., 422610., 711120., 332913., 336370., 334416.,\n",
              "       422420., 561410., 336510., 423720., 332212., 238160., 315228.,\n",
              "       425120., 424820., 423310., 321918., 334419., 112310., 311822.,\n",
              "       424480., 314110., 722330., 511130., 711310., 333112., 339911.,\n",
              "       339920., 212112., 323121., 541490., 562119., 333315., 332813.,\n",
              "       522320., 337121., 424430., 512230., 325612., 423850., 562998.,\n",
              "       336212., 514199., 511199., 334512., 541191., 333311., 333313.,\n",
              "       541380., 238150., 311812., 623110., 485510., 312120., 333511.,\n",
              "       325910., 336350., 423390., 237310., 424460., 313312., 488490.,\n",
              "       332812., 424420., 517211., 444120., 339113., 423420., 316213.,\n",
              "       541850., 334517., 444210., 518111., 493190., 488119., 236117.,\n",
              "       322223., 811211., 112111., 522298., 331491., 445230., 423460.,\n",
              "       452111., 541720., 327332., 562111., 334111., 333997., 333514.,\n",
              "       316219., 331492., 484122., 485113., 326111., 454319., 333319.,\n",
              "       333921., 522292., 316993., 336612., 423510., 422340., 561520.,\n",
              "       325992., 485410., 487110., 448320., 422810., 922130., 488330.,\n",
              "       423130., 335931., 422310., 321912., 514210., 424340., 424920.,\n",
              "       721214., 711211., 333414., 238340., 336211., 333992., 238130.,\n",
              "       339991., 623312., 421430., 532220., 621493., 213111., 314121.,\n",
              "       334612., 333210., 322211., 339932., 237130., 238120., 611692.,\n",
              "       333111., 711219., 423740., 339992., 212321., 311911., 511140.,\n",
              "       541340., 111998., 514191., 711130., 321991., 423840., 512191.,\n",
              "       311612., 516110., 624229., 333618., 339931., 322121., 114112.,\n",
              "       333291., 523999., 515210., 311412., 421930., 337211., 531190.,\n",
              "       333411., 311421., 333993., 322233., 451212., 541420., 236210.,\n",
              "       812922., 493120., 336111., 721199., 421860., 541910., 213112.,\n",
              "       424450., 454312., 336399., 611512., 334515., 325413., 336611.,\n",
              "       332111., 315291., 561920., 515120., 325991., 334511., 336321.,\n",
              "       333293., 921130., 334418., 312112., 481211., 713290., 332994.,\n",
              "       327331., 519190., 115112., 337129., 327121., 326130., 212399.,\n",
              "       332618., 337215., 314912., 512120., 512199., 321214., 523110.,\n",
              "       488390., 541930., 454113., 721211., 114210., 313222., 335121.,\n",
              "       333924., 331221., 312130., 531120., 532411., 336214., 721191.,\n",
              "       238170., 445220., 322231., 333911., 523120., 513310., 311821.,\n",
              "       333912., 327910., 316999., 334119., 524127., 211111., 422820.,\n",
              "       323112., 523920., 325611., 926150., 334613., 326113., 327999.,\n",
              "       423140., 622310., 423490., 311512., 522220., 337920., 333312.,\n",
              "       562920., 423320., 311941., 561330., 485310., 424130., 452112.,\n",
              "       336413., 311111., 334112., 442291., 424710., 562219., 611630.,\n",
              "       623990., 321114., 422430., 336999., 333298., 513390., 483111.,\n",
              "       333611., 335314., 339114., 337910., 813920., 332323., 336411.,\n",
              "       812331., 443130., 331524., 531110., 115114., 326291., 923130.,\n",
              "       424810., 485210., 324122., 525910., 561910., 333922., 323116.,\n",
              "       424590., 561422., 621420., 486210., 315292., 314911., 711212.,\n",
              "       333294., 332431., 335129., 926110., 325620., 115113., 322213.,\n",
              "       316214., 334417., 332112., 533110., 624110., 327111., 311712.,\n",
              "       316992., 712190., 331511., 424910., 325311., 522210., 325191.,\n",
              "       512290., 221122., 339993., 524126., 326212., 312113., 485999.,\n",
              "       712130., 522291., 423410., 421740., 813410., 313320., 235910.,\n",
              "       811430., 336391., 331222., 336112., 921190., 334518., 713120.,\n",
              "       311991., 487210., 424440., 531130., 525930., 334411., 513120.,\n",
              "       332439., 525990., 422940.])"
            ]
          },
          "metadata": {},
          "execution_count": 46
        }
      ],
      "source": [
        "df['NAICS'].unique()"
      ]
    },
    {
      "cell_type": "code",
      "execution_count": 47,
      "metadata": {
        "id": "jZOaqQEX45Mw"
      },
      "outputs": [],
      "source": [
        "df.drop(columns=['NAICS'], inplace=True)"
      ]
    },
    {
      "cell_type": "code",
      "execution_count": 48,
      "metadata": {
        "colab": {
          "base_uri": "https://localhost:8080/"
        },
        "id": "Hz5XskAx45Mw",
        "outputId": "784e0aec-1c40-4dba-ceaa-0946cd1f0d65"
      },
      "outputs": [
        {
          "output_type": "execute_result",
          "data": {
            "text/plain": [
              "ApprovalFY            int64\n",
              "Term                float64\n",
              "NoEmp               float64\n",
              "CreateJob           float64\n",
              "RetainedJob         float64\n",
              "UrbanRural            int64\n",
              "RevLineCr             int64\n",
              "LowDoc                int64\n",
              "MIS_Status            int64\n",
              "GrAppv               object\n",
              "IsNewBusiness         int64\n",
              "DisbursementTime      int64\n",
              "IsFranchise           int64\n",
              "dtype: object"
            ]
          },
          "metadata": {},
          "execution_count": 48
        }
      ],
      "source": [
        "df.dtypes\n"
      ]
    },
    {
      "cell_type": "code",
      "execution_count": 49,
      "metadata": {
        "id": "ysNXMnLu45Mx"
      },
      "outputs": [],
      "source": [
        "df['GrAppv'] = df['GrAppv'].astype(float)"
      ]
    },
    {
      "cell_type": "code",
      "execution_count": 50,
      "metadata": {
        "colab": {
          "base_uri": "https://localhost:8080/",
          "height": 206
        },
        "id": "ZUvnp7Ve45Mx",
        "outputId": "96f0c10b-6b79-470d-9938-af7ea4406b5d"
      },
      "outputs": [
        {
          "output_type": "execute_result",
          "data": {
            "text/plain": [
              "   ApprovalFY   Term  NoEmp  CreateJob  RetainedJob  UrbanRural  RevLineCr  \\\n",
              "0        1997   84.0    4.0        0.0          0.0           0          0   \n",
              "1        1997   60.0    2.0        0.0          0.0           0          0   \n",
              "2        1997  180.0    7.0        0.0          0.0           0          0   \n",
              "3        1997   60.0    2.0        0.0          0.0           0          0   \n",
              "4        1997  240.0   14.0        7.0          7.0           0          0   \n",
              "\n",
              "   LowDoc  MIS_Status    GrAppv  IsNewBusiness  DisbursementTime  IsFranchise  \n",
              "0       1           1   60000.0              1               730            0  \n",
              "1       1           1   40000.0              1                92            0  \n",
              "2       0           1  287000.0              0               306            0  \n",
              "3       1           1   35000.0              0               122            0  \n",
              "4       0           1  229000.0              0                75            0  "
            ],
            "text/html": [
              "\n",
              "  <div id=\"df-6a3a794a-9205-4ae6-96a0-fc0a175c90d6\">\n",
              "    <div class=\"colab-df-container\">\n",
              "      <div>\n",
              "<style scoped>\n",
              "    .dataframe tbody tr th:only-of-type {\n",
              "        vertical-align: middle;\n",
              "    }\n",
              "\n",
              "    .dataframe tbody tr th {\n",
              "        vertical-align: top;\n",
              "    }\n",
              "\n",
              "    .dataframe thead th {\n",
              "        text-align: right;\n",
              "    }\n",
              "</style>\n",
              "<table border=\"1\" class=\"dataframe\">\n",
              "  <thead>\n",
              "    <tr style=\"text-align: right;\">\n",
              "      <th></th>\n",
              "      <th>ApprovalFY</th>\n",
              "      <th>Term</th>\n",
              "      <th>NoEmp</th>\n",
              "      <th>CreateJob</th>\n",
              "      <th>RetainedJob</th>\n",
              "      <th>UrbanRural</th>\n",
              "      <th>RevLineCr</th>\n",
              "      <th>LowDoc</th>\n",
              "      <th>MIS_Status</th>\n",
              "      <th>GrAppv</th>\n",
              "      <th>IsNewBusiness</th>\n",
              "      <th>DisbursementTime</th>\n",
              "      <th>IsFranchise</th>\n",
              "    </tr>\n",
              "  </thead>\n",
              "  <tbody>\n",
              "    <tr>\n",
              "      <th>0</th>\n",
              "      <td>1997</td>\n",
              "      <td>84.0</td>\n",
              "      <td>4.0</td>\n",
              "      <td>0.0</td>\n",
              "      <td>0.0</td>\n",
              "      <td>0</td>\n",
              "      <td>0</td>\n",
              "      <td>1</td>\n",
              "      <td>1</td>\n",
              "      <td>60000.0</td>\n",
              "      <td>1</td>\n",
              "      <td>730</td>\n",
              "      <td>0</td>\n",
              "    </tr>\n",
              "    <tr>\n",
              "      <th>1</th>\n",
              "      <td>1997</td>\n",
              "      <td>60.0</td>\n",
              "      <td>2.0</td>\n",
              "      <td>0.0</td>\n",
              "      <td>0.0</td>\n",
              "      <td>0</td>\n",
              "      <td>0</td>\n",
              "      <td>1</td>\n",
              "      <td>1</td>\n",
              "      <td>40000.0</td>\n",
              "      <td>1</td>\n",
              "      <td>92</td>\n",
              "      <td>0</td>\n",
              "    </tr>\n",
              "    <tr>\n",
              "      <th>2</th>\n",
              "      <td>1997</td>\n",
              "      <td>180.0</td>\n",
              "      <td>7.0</td>\n",
              "      <td>0.0</td>\n",
              "      <td>0.0</td>\n",
              "      <td>0</td>\n",
              "      <td>0</td>\n",
              "      <td>0</td>\n",
              "      <td>1</td>\n",
              "      <td>287000.0</td>\n",
              "      <td>0</td>\n",
              "      <td>306</td>\n",
              "      <td>0</td>\n",
              "    </tr>\n",
              "    <tr>\n",
              "      <th>3</th>\n",
              "      <td>1997</td>\n",
              "      <td>60.0</td>\n",
              "      <td>2.0</td>\n",
              "      <td>0.0</td>\n",
              "      <td>0.0</td>\n",
              "      <td>0</td>\n",
              "      <td>0</td>\n",
              "      <td>1</td>\n",
              "      <td>1</td>\n",
              "      <td>35000.0</td>\n",
              "      <td>0</td>\n",
              "      <td>122</td>\n",
              "      <td>0</td>\n",
              "    </tr>\n",
              "    <tr>\n",
              "      <th>4</th>\n",
              "      <td>1997</td>\n",
              "      <td>240.0</td>\n",
              "      <td>14.0</td>\n",
              "      <td>7.0</td>\n",
              "      <td>7.0</td>\n",
              "      <td>0</td>\n",
              "      <td>0</td>\n",
              "      <td>0</td>\n",
              "      <td>1</td>\n",
              "      <td>229000.0</td>\n",
              "      <td>0</td>\n",
              "      <td>75</td>\n",
              "      <td>0</td>\n",
              "    </tr>\n",
              "  </tbody>\n",
              "</table>\n",
              "</div>\n",
              "      <button class=\"colab-df-convert\" onclick=\"convertToInteractive('df-6a3a794a-9205-4ae6-96a0-fc0a175c90d6')\"\n",
              "              title=\"Convert this dataframe to an interactive table.\"\n",
              "              style=\"display:none;\">\n",
              "        \n",
              "  <svg xmlns=\"http://www.w3.org/2000/svg\" height=\"24px\"viewBox=\"0 0 24 24\"\n",
              "       width=\"24px\">\n",
              "    <path d=\"M0 0h24v24H0V0z\" fill=\"none\"/>\n",
              "    <path d=\"M18.56 5.44l.94 2.06.94-2.06 2.06-.94-2.06-.94-.94-2.06-.94 2.06-2.06.94zm-11 1L8.5 8.5l.94-2.06 2.06-.94-2.06-.94L8.5 2.5l-.94 2.06-2.06.94zm10 10l.94 2.06.94-2.06 2.06-.94-2.06-.94-.94-2.06-.94 2.06-2.06.94z\"/><path d=\"M17.41 7.96l-1.37-1.37c-.4-.4-.92-.59-1.43-.59-.52 0-1.04.2-1.43.59L10.3 9.45l-7.72 7.72c-.78.78-.78 2.05 0 2.83L4 21.41c.39.39.9.59 1.41.59.51 0 1.02-.2 1.41-.59l7.78-7.78 2.81-2.81c.8-.78.8-2.07 0-2.86zM5.41 20L4 18.59l7.72-7.72 1.47 1.35L5.41 20z\"/>\n",
              "  </svg>\n",
              "      </button>\n",
              "      \n",
              "  <style>\n",
              "    .colab-df-container {\n",
              "      display:flex;\n",
              "      flex-wrap:wrap;\n",
              "      gap: 12px;\n",
              "    }\n",
              "\n",
              "    .colab-df-convert {\n",
              "      background-color: #E8F0FE;\n",
              "      border: none;\n",
              "      border-radius: 50%;\n",
              "      cursor: pointer;\n",
              "      display: none;\n",
              "      fill: #1967D2;\n",
              "      height: 32px;\n",
              "      padding: 0 0 0 0;\n",
              "      width: 32px;\n",
              "    }\n",
              "\n",
              "    .colab-df-convert:hover {\n",
              "      background-color: #E2EBFA;\n",
              "      box-shadow: 0px 1px 2px rgba(60, 64, 67, 0.3), 0px 1px 3px 1px rgba(60, 64, 67, 0.15);\n",
              "      fill: #174EA6;\n",
              "    }\n",
              "\n",
              "    [theme=dark] .colab-df-convert {\n",
              "      background-color: #3B4455;\n",
              "      fill: #D2E3FC;\n",
              "    }\n",
              "\n",
              "    [theme=dark] .colab-df-convert:hover {\n",
              "      background-color: #434B5C;\n",
              "      box-shadow: 0px 1px 3px 1px rgba(0, 0, 0, 0.15);\n",
              "      filter: drop-shadow(0px 1px 2px rgba(0, 0, 0, 0.3));\n",
              "      fill: #FFFFFF;\n",
              "    }\n",
              "  </style>\n",
              "\n",
              "      <script>\n",
              "        const buttonEl =\n",
              "          document.querySelector('#df-6a3a794a-9205-4ae6-96a0-fc0a175c90d6 button.colab-df-convert');\n",
              "        buttonEl.style.display =\n",
              "          google.colab.kernel.accessAllowed ? 'block' : 'none';\n",
              "\n",
              "        async function convertToInteractive(key) {\n",
              "          const element = document.querySelector('#df-6a3a794a-9205-4ae6-96a0-fc0a175c90d6');\n",
              "          const dataTable =\n",
              "            await google.colab.kernel.invokeFunction('convertToInteractive',\n",
              "                                                     [key], {});\n",
              "          if (!dataTable) return;\n",
              "\n",
              "          const docLinkHtml = 'Like what you see? Visit the ' +\n",
              "            '<a target=\"_blank\" href=https://colab.research.google.com/notebooks/data_table.ipynb>data table notebook</a>'\n",
              "            + ' to learn more about interactive tables.';\n",
              "          element.innerHTML = '';\n",
              "          dataTable['output_type'] = 'display_data';\n",
              "          await google.colab.output.renderOutput(dataTable, element);\n",
              "          const docLink = document.createElement('div');\n",
              "          docLink.innerHTML = docLinkHtml;\n",
              "          element.appendChild(docLink);\n",
              "        }\n",
              "      </script>\n",
              "    </div>\n",
              "  </div>\n",
              "  "
            ]
          },
          "metadata": {},
          "execution_count": 50
        }
      ],
      "source": [
        "df.head()"
      ]
    },
    {
      "cell_type": "code",
      "execution_count": 51,
      "metadata": {
        "colab": {
          "base_uri": "https://localhost:8080/"
        },
        "id": "wjiQEtzv45Mx",
        "outputId": "f23ad2fa-5bb5-4db0-c9b6-e1455192cdf9"
      },
      "outputs": [
        {
          "output_type": "execute_result",
          "data": {
            "text/plain": [
              "array([0, 1, 2])"
            ]
          },
          "metadata": {},
          "execution_count": 51
        }
      ],
      "source": [
        "df.UrbanRural.unique()"
      ]
    },
    {
      "cell_type": "code",
      "execution_count": 52,
      "metadata": {
        "colab": {
          "base_uri": "https://localhost:8080/"
        },
        "id": "EnseIAkIJhCi",
        "outputId": "812f1ac7-f551-493d-fa11-cdb704b6c8d3"
      },
      "outputs": [
        {
          "output_type": "execute_result",
          "data": {
            "text/plain": [
              "dtype('int64')"
            ]
          },
          "metadata": {},
          "execution_count": 52
        }
      ],
      "source": [
        "df.UrbanRural.dtypes"
      ]
    },
    {
      "cell_type": "code",
      "execution_count": 53,
      "metadata": {
        "colab": {
          "base_uri": "https://localhost:8080/"
        },
        "id": "36TQqPwe45Mx",
        "outputId": "41cb74d6-d635-42e5-9e95-5ca9fb53951e"
      },
      "outputs": [
        {
          "output_type": "execute_result",
          "data": {
            "text/plain": [
              "array([0, 1])"
            ]
          },
          "metadata": {},
          "execution_count": 53
        }
      ],
      "source": [
        "df['RevLineCr'].unique()"
      ]
    },
    {
      "cell_type": "code",
      "execution_count": 54,
      "metadata": {
        "colab": {
          "base_uri": "https://localhost:8080/",
          "height": 250
        },
        "id": "6aTCIaz645My",
        "outputId": "c5d7b8d9-272b-4f2a-87ca-a59ec9b70a77"
      },
      "outputs": [
        {
          "output_type": "execute_result",
          "data": {
            "text/plain": [
              "   ApprovalFY   Term  NoEmp  CreateJob  RetainedJob  RevLineCr  LowDoc  \\\n",
              "0        1997   84.0    4.0        0.0          0.0          0       1   \n",
              "1        1997   60.0    2.0        0.0          0.0          0       1   \n",
              "2        1997  180.0    7.0        0.0          0.0          0       0   \n",
              "3        1997   60.0    2.0        0.0          0.0          0       1   \n",
              "4        1997  240.0   14.0        7.0          7.0          0       0   \n",
              "\n",
              "   MIS_Status    GrAppv  IsNewBusiness  DisbursementTime  IsFranchise  \\\n",
              "0           1   60000.0              1               730            0   \n",
              "1           1   40000.0              1                92            0   \n",
              "2           1  287000.0              0               306            0   \n",
              "3           1   35000.0              0               122            0   \n",
              "4           1  229000.0              0                75            0   \n",
              "\n",
              "   UrbanRural_0  UrbanRural_1  UrbanRural_2  \n",
              "0             1             0             0  \n",
              "1             1             0             0  \n",
              "2             1             0             0  \n",
              "3             1             0             0  \n",
              "4             1             0             0  "
            ],
            "text/html": [
              "\n",
              "  <div id=\"df-2f9c5e8a-6a67-4381-9f37-e86812abe238\">\n",
              "    <div class=\"colab-df-container\">\n",
              "      <div>\n",
              "<style scoped>\n",
              "    .dataframe tbody tr th:only-of-type {\n",
              "        vertical-align: middle;\n",
              "    }\n",
              "\n",
              "    .dataframe tbody tr th {\n",
              "        vertical-align: top;\n",
              "    }\n",
              "\n",
              "    .dataframe thead th {\n",
              "        text-align: right;\n",
              "    }\n",
              "</style>\n",
              "<table border=\"1\" class=\"dataframe\">\n",
              "  <thead>\n",
              "    <tr style=\"text-align: right;\">\n",
              "      <th></th>\n",
              "      <th>ApprovalFY</th>\n",
              "      <th>Term</th>\n",
              "      <th>NoEmp</th>\n",
              "      <th>CreateJob</th>\n",
              "      <th>RetainedJob</th>\n",
              "      <th>RevLineCr</th>\n",
              "      <th>LowDoc</th>\n",
              "      <th>MIS_Status</th>\n",
              "      <th>GrAppv</th>\n",
              "      <th>IsNewBusiness</th>\n",
              "      <th>DisbursementTime</th>\n",
              "      <th>IsFranchise</th>\n",
              "      <th>UrbanRural_0</th>\n",
              "      <th>UrbanRural_1</th>\n",
              "      <th>UrbanRural_2</th>\n",
              "    </tr>\n",
              "  </thead>\n",
              "  <tbody>\n",
              "    <tr>\n",
              "      <th>0</th>\n",
              "      <td>1997</td>\n",
              "      <td>84.0</td>\n",
              "      <td>4.0</td>\n",
              "      <td>0.0</td>\n",
              "      <td>0.0</td>\n",
              "      <td>0</td>\n",
              "      <td>1</td>\n",
              "      <td>1</td>\n",
              "      <td>60000.0</td>\n",
              "      <td>1</td>\n",
              "      <td>730</td>\n",
              "      <td>0</td>\n",
              "      <td>1</td>\n",
              "      <td>0</td>\n",
              "      <td>0</td>\n",
              "    </tr>\n",
              "    <tr>\n",
              "      <th>1</th>\n",
              "      <td>1997</td>\n",
              "      <td>60.0</td>\n",
              "      <td>2.0</td>\n",
              "      <td>0.0</td>\n",
              "      <td>0.0</td>\n",
              "      <td>0</td>\n",
              "      <td>1</td>\n",
              "      <td>1</td>\n",
              "      <td>40000.0</td>\n",
              "      <td>1</td>\n",
              "      <td>92</td>\n",
              "      <td>0</td>\n",
              "      <td>1</td>\n",
              "      <td>0</td>\n",
              "      <td>0</td>\n",
              "    </tr>\n",
              "    <tr>\n",
              "      <th>2</th>\n",
              "      <td>1997</td>\n",
              "      <td>180.0</td>\n",
              "      <td>7.0</td>\n",
              "      <td>0.0</td>\n",
              "      <td>0.0</td>\n",
              "      <td>0</td>\n",
              "      <td>0</td>\n",
              "      <td>1</td>\n",
              "      <td>287000.0</td>\n",
              "      <td>0</td>\n",
              "      <td>306</td>\n",
              "      <td>0</td>\n",
              "      <td>1</td>\n",
              "      <td>0</td>\n",
              "      <td>0</td>\n",
              "    </tr>\n",
              "    <tr>\n",
              "      <th>3</th>\n",
              "      <td>1997</td>\n",
              "      <td>60.0</td>\n",
              "      <td>2.0</td>\n",
              "      <td>0.0</td>\n",
              "      <td>0.0</td>\n",
              "      <td>0</td>\n",
              "      <td>1</td>\n",
              "      <td>1</td>\n",
              "      <td>35000.0</td>\n",
              "      <td>0</td>\n",
              "      <td>122</td>\n",
              "      <td>0</td>\n",
              "      <td>1</td>\n",
              "      <td>0</td>\n",
              "      <td>0</td>\n",
              "    </tr>\n",
              "    <tr>\n",
              "      <th>4</th>\n",
              "      <td>1997</td>\n",
              "      <td>240.0</td>\n",
              "      <td>14.0</td>\n",
              "      <td>7.0</td>\n",
              "      <td>7.0</td>\n",
              "      <td>0</td>\n",
              "      <td>0</td>\n",
              "      <td>1</td>\n",
              "      <td>229000.0</td>\n",
              "      <td>0</td>\n",
              "      <td>75</td>\n",
              "      <td>0</td>\n",
              "      <td>1</td>\n",
              "      <td>0</td>\n",
              "      <td>0</td>\n",
              "    </tr>\n",
              "  </tbody>\n",
              "</table>\n",
              "</div>\n",
              "      <button class=\"colab-df-convert\" onclick=\"convertToInteractive('df-2f9c5e8a-6a67-4381-9f37-e86812abe238')\"\n",
              "              title=\"Convert this dataframe to an interactive table.\"\n",
              "              style=\"display:none;\">\n",
              "        \n",
              "  <svg xmlns=\"http://www.w3.org/2000/svg\" height=\"24px\"viewBox=\"0 0 24 24\"\n",
              "       width=\"24px\">\n",
              "    <path d=\"M0 0h24v24H0V0z\" fill=\"none\"/>\n",
              "    <path d=\"M18.56 5.44l.94 2.06.94-2.06 2.06-.94-2.06-.94-.94-2.06-.94 2.06-2.06.94zm-11 1L8.5 8.5l.94-2.06 2.06-.94-2.06-.94L8.5 2.5l-.94 2.06-2.06.94zm10 10l.94 2.06.94-2.06 2.06-.94-2.06-.94-.94-2.06-.94 2.06-2.06.94z\"/><path d=\"M17.41 7.96l-1.37-1.37c-.4-.4-.92-.59-1.43-.59-.52 0-1.04.2-1.43.59L10.3 9.45l-7.72 7.72c-.78.78-.78 2.05 0 2.83L4 21.41c.39.39.9.59 1.41.59.51 0 1.02-.2 1.41-.59l7.78-7.78 2.81-2.81c.8-.78.8-2.07 0-2.86zM5.41 20L4 18.59l7.72-7.72 1.47 1.35L5.41 20z\"/>\n",
              "  </svg>\n",
              "      </button>\n",
              "      \n",
              "  <style>\n",
              "    .colab-df-container {\n",
              "      display:flex;\n",
              "      flex-wrap:wrap;\n",
              "      gap: 12px;\n",
              "    }\n",
              "\n",
              "    .colab-df-convert {\n",
              "      background-color: #E8F0FE;\n",
              "      border: none;\n",
              "      border-radius: 50%;\n",
              "      cursor: pointer;\n",
              "      display: none;\n",
              "      fill: #1967D2;\n",
              "      height: 32px;\n",
              "      padding: 0 0 0 0;\n",
              "      width: 32px;\n",
              "    }\n",
              "\n",
              "    .colab-df-convert:hover {\n",
              "      background-color: #E2EBFA;\n",
              "      box-shadow: 0px 1px 2px rgba(60, 64, 67, 0.3), 0px 1px 3px 1px rgba(60, 64, 67, 0.15);\n",
              "      fill: #174EA6;\n",
              "    }\n",
              "\n",
              "    [theme=dark] .colab-df-convert {\n",
              "      background-color: #3B4455;\n",
              "      fill: #D2E3FC;\n",
              "    }\n",
              "\n",
              "    [theme=dark] .colab-df-convert:hover {\n",
              "      background-color: #434B5C;\n",
              "      box-shadow: 0px 1px 3px 1px rgba(0, 0, 0, 0.15);\n",
              "      filter: drop-shadow(0px 1px 2px rgba(0, 0, 0, 0.3));\n",
              "      fill: #FFFFFF;\n",
              "    }\n",
              "  </style>\n",
              "\n",
              "      <script>\n",
              "        const buttonEl =\n",
              "          document.querySelector('#df-2f9c5e8a-6a67-4381-9f37-e86812abe238 button.colab-df-convert');\n",
              "        buttonEl.style.display =\n",
              "          google.colab.kernel.accessAllowed ? 'block' : 'none';\n",
              "\n",
              "        async function convertToInteractive(key) {\n",
              "          const element = document.querySelector('#df-2f9c5e8a-6a67-4381-9f37-e86812abe238');\n",
              "          const dataTable =\n",
              "            await google.colab.kernel.invokeFunction('convertToInteractive',\n",
              "                                                     [key], {});\n",
              "          if (!dataTable) return;\n",
              "\n",
              "          const docLinkHtml = 'Like what you see? Visit the ' +\n",
              "            '<a target=\"_blank\" href=https://colab.research.google.com/notebooks/data_table.ipynb>data table notebook</a>'\n",
              "            + ' to learn more about interactive tables.';\n",
              "          element.innerHTML = '';\n",
              "          dataTable['output_type'] = 'display_data';\n",
              "          await google.colab.output.renderOutput(dataTable, element);\n",
              "          const docLink = document.createElement('div');\n",
              "          docLink.innerHTML = docLinkHtml;\n",
              "          element.appendChild(docLink);\n",
              "        }\n",
              "      </script>\n",
              "    </div>\n",
              "  </div>\n",
              "  "
            ]
          },
          "metadata": {},
          "execution_count": 54
        }
      ],
      "source": [
        "df = pd.get_dummies(df, columns=['UrbanRural'])\n",
        "df.head()"
      ]
    },
    {
      "cell_type": "code",
      "execution_count": 55,
      "metadata": {
        "colab": {
          "base_uri": "https://localhost:8080/",
          "height": 498
        },
        "id": "9z1Y9qqO45My",
        "outputId": "331dd078-8e88-4d75-b693-1b13668f5d45"
      },
      "outputs": [
        {
          "output_type": "display_data",
          "data": {
            "text/plain": [
              "<Figure size 1000x500 with 2 Axes>"
            ],
            "image/png": "[encoded data removed]"
          },
          "metadata": {}
        }
      ],
      "source": [
        "cor_fig, cor_ax = plt.subplots(figsize=(10, 5))\n",
        "corr_matrix = df.corr()\n",
        "cor_ax = sns.heatmap(corr_matrix, annot=True)\n",
        "plt.xticks(rotation=30, horizontalalignment='right', fontsize=8)\n",
        "plt.yticks(fontsize=8)\n",
        "\n",
        "plt.show()"
      ]
    },
    {
      "cell_type": "code",
      "execution_count": 56,
      "metadata": {
        "id": "nnigQlNE45My"
      },
      "outputs": [],
      "source": [
        "df.drop(labels='UrbanRural_2', axis=1, inplace=True)"
      ]
    },
    {
      "cell_type": "code",
      "execution_count": 57,
      "metadata": {
        "colab": {
          "base_uri": "https://localhost:8080/",
          "height": 206
        },
        "id": "sdhzfMxH45My",
        "outputId": "b040417c-8339-452b-e4d8-598c830f8975"
      },
      "outputs": [
        {
          "output_type": "execute_result",
          "data": {
            "text/plain": [
              "   ApprovalFY   Term  NoEmp  CreateJob  RetainedJob  RevLineCr  LowDoc  \\\n",
              "0        1997   84.0    4.0        0.0          0.0          0       1   \n",
              "1        1997   60.0    2.0        0.0          0.0          0       1   \n",
              "2        1997  180.0    7.0        0.0          0.0          0       0   \n",
              "3        1997   60.0    2.0        0.0          0.0          0       1   \n",
              "4        1997  240.0   14.0        7.0          7.0          0       0   \n",
              "\n",
              "   MIS_Status    GrAppv  IsNewBusiness  DisbursementTime  IsFranchise  \\\n",
              "0           1   60000.0              1               730            0   \n",
              "1           1   40000.0              1                92            0   \n",
              "2           1  287000.0              0               306            0   \n",
              "3           1   35000.0              0               122            0   \n",
              "4           1  229000.0              0                75            0   \n",
              "\n",
              "   UrbanRural_0  UrbanRural_1  \n",
              "0             1             0  \n",
              "1             1             0  \n",
              "2             1             0  \n",
              "3             1             0  \n",
              "4             1             0  "
            ],
            "text/html": [
              "\n",
              "  <div id=\"df-757dbe27-1fc2-4950-9b40-afb82cc9ded1\">\n",
              "    <div class=\"colab-df-container\">\n",
              "      <div>\n",
              "<style scoped>\n",
              "    .dataframe tbody tr th:only-of-type {\n",
              "        vertical-align: middle;\n",
              "    }\n",
              "\n",
              "    .dataframe tbody tr th {\n",
              "        vertical-align: top;\n",
              "    }\n",
              "\n",
              "    .dataframe thead th {\n",
              "        text-align: right;\n",
              "    }\n",
              "</style>\n",
              "<table border=\"1\" class=\"dataframe\">\n",
              "  <thead>\n",
              "    <tr style=\"text-align: right;\">\n",
              "      <th></th>\n",
              "      <th>ApprovalFY</th>\n",
              "      <th>Term</th>\n",
              "      <th>NoEmp</th>\n",
              "      <th>CreateJob</th>\n",
              "      <th>RetainedJob</th>\n",
              "      <th>RevLineCr</th>\n",
              "      <th>LowDoc</th>\n",
              "      <th>MIS_Status</th>\n",
              "      <th>GrAppv</th>\n",
              "      <th>IsNewBusiness</th>\n",
              "      <th>DisbursementTime</th>\n",
              "      <th>IsFranchise</th>\n",
              "      <th>UrbanRural_0</th>\n",
              "      <th>UrbanRural_1</th>\n",
              "    </tr>\n",
              "  </thead>\n",
              "  <tbody>\n",
              "    <tr>\n",
              "      <th>0</th>\n",
              "      <td>1997</td>\n",
              "      <td>84.0</td>\n",
              "      <td>4.0</td>\n",
              "      <td>0.0</td>\n",
              "      <td>0.0</td>\n",
              "      <td>0</td>\n",
              "      <td>1</td>\n",
              "      <td>1</td>\n",
              "      <td>60000.0</td>\n",
              "      <td>1</td>\n",
              "      <td>730</td>\n",
              "      <td>0</td>\n",
              "      <td>1</td>\n",
              "      <td>0</td>\n",
              "    </tr>\n",
              "    <tr>\n",
              "      <th>1</th>\n",
              "      <td>1997</td>\n",
              "      <td>60.0</td>\n",
              "      <td>2.0</td>\n",
              "      <td>0.0</td>\n",
              "      <td>0.0</td>\n",
              "      <td>0</td>\n",
              "      <td>1</td>\n",
              "      <td>1</td>\n",
              "      <td>40000.0</td>\n",
              "      <td>1</td>\n",
              "      <td>92</td>\n",
              "      <td>0</td>\n",
              "      <td>1</td>\n",
              "      <td>0</td>\n",
              "    </tr>\n",
              "    <tr>\n",
              "      <th>2</th>\n",
              "      <td>1997</td>\n",
              "      <td>180.0</td>\n",
              "      <td>7.0</td>\n",
              "      <td>0.0</td>\n",
              "      <td>0.0</td>\n",
              "      <td>0</td>\n",
              "      <td>0</td>\n",
              "      <td>1</td>\n",
              "      <td>287000.0</td>\n",
              "      <td>0</td>\n",
              "      <td>306</td>\n",
              "      <td>0</td>\n",
              "      <td>1</td>\n",
              "      <td>0</td>\n",
              "    </tr>\n",
              "    <tr>\n",
              "      <th>3</th>\n",
              "      <td>1997</td>\n",
              "      <td>60.0</td>\n",
              "      <td>2.0</td>\n",
              "      <td>0.0</td>\n",
              "      <td>0.0</td>\n",
              "      <td>0</td>\n",
              "      <td>1</td>\n",
              "      <td>1</td>\n",
              "      <td>35000.0</td>\n",
              "      <td>0</td>\n",
              "      <td>122</td>\n",
              "      <td>0</td>\n",
              "      <td>1</td>\n",
              "      <td>0</td>\n",
              "    </tr>\n",
              "    <tr>\n",
              "      <th>4</th>\n",
              "      <td>1997</td>\n",
              "      <td>240.0</td>\n",
              "      <td>14.0</td>\n",
              "      <td>7.0</td>\n",
              "      <td>7.0</td>\n",
              "      <td>0</td>\n",
              "      <td>0</td>\n",
              "      <td>1</td>\n",
              "      <td>229000.0</td>\n",
              "      <td>0</td>\n",
              "      <td>75</td>\n",
              "      <td>0</td>\n",
              "      <td>1</td>\n",
              "      <td>0</td>\n",
              "    </tr>\n",
              "  </tbody>\n",
              "</table>\n",
              "</div>\n",
              "      <button class=\"colab-df-convert\" onclick=\"convertToInteractive('df-757dbe27-1fc2-4950-9b40-afb82cc9ded1')\"\n",
              "              title=\"Convert this dataframe to an interactive table.\"\n",
              "              style=\"display:none;\">\n",
              "        \n",
              "  <svg xmlns=\"http://www.w3.org/2000/svg\" height=\"24px\"viewBox=\"0 0 24 24\"\n",
              "       width=\"24px\">\n",
              "    <path d=\"M0 0h24v24H0V0z\" fill=\"none\"/>\n",
              "    <path d=\"M18.56 5.44l.94 2.06.94-2.06 2.06-.94-2.06-.94-.94-2.06-.94 2.06-2.06.94zm-11 1L8.5 8.5l.94-2.06 2.06-.94-2.06-.94L8.5 2.5l-.94 2.06-2.06.94zm10 10l.94 2.06.94-2.06 2.06-.94-2.06-.94-.94-2.06-.94 2.06-2.06.94z\"/><path d=\"M17.41 7.96l-1.37-1.37c-.4-.4-.92-.59-1.43-.59-.52 0-1.04.2-1.43.59L10.3 9.45l-7.72 7.72c-.78.78-.78 2.05 0 2.83L4 21.41c.39.39.9.59 1.41.59.51 0 1.02-.2 1.41-.59l7.78-7.78 2.81-2.81c.8-.78.8-2.07 0-2.86zM5.41 20L4 18.59l7.72-7.72 1.47 1.35L5.41 20z\"/>\n",
              "  </svg>\n",
              "      </button>\n",
              "      \n",
              "  <style>\n",
              "    .colab-df-container {\n",
              "      display:flex;\n",
              "      flex-wrap:wrap;\n",
              "      gap: 12px;\n",
              "    }\n",
              "\n",
              "    .colab-df-convert {\n",
              "      background-color: #E8F0FE;\n",
              "      border: none;\n",
              "      border-radius: 50%;\n",
              "      cursor: pointer;\n",
              "      display: none;\n",
              "      fill: #1967D2;\n",
              "      height: 32px;\n",
              "      padding: 0 0 0 0;\n",
              "      width: 32px;\n",
              "    }\n",
              "\n",
              "    .colab-df-convert:hover {\n",
              "      background-color: #E2EBFA;\n",
              "      box-shadow: 0px 1px 2px rgba(60, 64, 67, 0.3), 0px 1px 3px 1px rgba(60, 64, 67, 0.15);\n",
              "      fill: #174EA6;\n",
              "    }\n",
              "\n",
              "    [theme=dark] .colab-df-convert {\n",
              "      background-color: #3B4455;\n",
              "      fill: #D2E3FC;\n",
              "    }\n",
              "\n",
              "    [theme=dark] .colab-df-convert:hover {\n",
              "      background-color: #434B5C;\n",
              "      box-shadow: 0px 1px 3px 1px rgba(0, 0, 0, 0.15);\n",
              "      filter: drop-shadow(0px 1px 2px rgba(0, 0, 0, 0.3));\n",
              "      fill: #FFFFFF;\n",
              "    }\n",
              "  </style>\n",
              "\n",
              "      <script>\n",
              "        const buttonEl =\n",
              "          document.querySelector('#df-757dbe27-1fc2-4950-9b40-afb82cc9ded1 button.colab-df-convert');\n",
              "        buttonEl.style.display =\n",
              "          google.colab.kernel.accessAllowed ? 'block' : 'none';\n",
              "\n",
              "        async function convertToInteractive(key) {\n",
              "          const element = document.querySelector('#df-757dbe27-1fc2-4950-9b40-afb82cc9ded1');\n",
              "          const dataTable =\n",
              "            await google.colab.kernel.invokeFunction('convertToInteractive',\n",
              "                                                     [key], {});\n",
              "          if (!dataTable) return;\n",
              "\n",
              "          const docLinkHtml = 'Like what you see? Visit the ' +\n",
              "            '<a target=\"_blank\" href=https://colab.research.google.com/notebooks/data_table.ipynb>data table notebook</a>'\n",
              "            + ' to learn more about interactive tables.';\n",
              "          element.innerHTML = '';\n",
              "          dataTable['output_type'] = 'display_data';\n",
              "          await google.colab.output.renderOutput(dataTable, element);\n",
              "          const docLink = document.createElement('div');\n",
              "          docLink.innerHTML = docLinkHtml;\n",
              "          element.appendChild(docLink);\n",
              "        }\n",
              "      </script>\n",
              "    </div>\n",
              "  </div>\n",
              "  "
            ]
          },
          "metadata": {},
          "execution_count": 57
        }
      ],
      "source": [
        "df.head()"
      ]
    },
    {
      "cell_type": "code",
      "execution_count": 58,
      "metadata": {
        "id": "tAvx_Oi-45My"
      },
      "outputs": [],
      "source": [
        "X = df.drop(columns='MIS_Status', axis=1)\n",
        "y = df['MIS_Status']\n",
        "\n",
        "scale = StandardScaler()\n",
        "X_s = scale.fit_transform(X)"
      ]
    },
    {
      "cell_type": "code",
      "execution_count": 59,
      "metadata": {
        "id": "285AL89D45My"
      },
      "outputs": [],
      "source": [
        "X_train, X_test, y_train, y_test = train_test_split(X_s, y, test_size=0.3)"
      ]
    },
    {
      "cell_type": "code",
      "execution_count": 60,
      "metadata": {
        "colab": {
          "base_uri": "https://localhost:8080/"
        },
        "id": "hR4Mjv3Z45Mz",
        "outputId": "829cdb45-f742-42a3-ac21-939b6cacf147"
      },
      "outputs": [
        {
          "output_type": "stream",
          "name": "stdout",
          "text": [
            "(8752, 13) (3751, 13)\n"
          ]
        }
      ],
      "source": [
        "print(X_train.shape, X_test.shape)"
      ]
    },
    {
      "cell_type": "code",
      "execution_count": 96,
      "metadata": {
        "colab": {
          "base_uri": "https://localhost:8080/"
        },
        "id": "cLr42-LD45Mz",
        "outputId": "7214b55b-2507-415e-ae02-ade5ca5a74cf"
      },
      "outputs": [
        {
          "output_type": "stream",
          "name": "stdout",
          "text": [
            "              precision    recall  f1-score   support\n",
            "\n",
            "           0       0.70      0.50      0.58       672\n",
            "           1       0.90      0.95      0.92      3079\n",
            "\n",
            "    accuracy                           0.87      3751\n",
            "   macro avg       0.80      0.73      0.75      3751\n",
            "weighted avg       0.86      0.87      0.86      3751\n",
            "\n"
          ]
        },
        {
          "output_type": "stream",
          "name": "stderr",
          "text": [
            "/usr/local/lib/python3.9/dist-packages/sklearn/linear_model/_logistic.py:1173: FutureWarning: `penalty='none'`has been deprecated in 1.2 and will be removed in 1.4. To keep the past behaviour, set `penalty=None`.\n",
            "  warnings.warn(\n"
          ]
        }
      ],
      "source": [
        "lr = LogisticRegression(penalty='none', \n",
        "                        max_iter=10000,\n",
        "                        random_state=123)\n",
        "\n",
        "lr.fit(X_train, y_train)\n",
        "y_lr_pred = lr.predict(X_test)\n",
        "\n",
        "print(classification_report(y_test, y_lr_pred))"
      ]
    },
    {
      "cell_type": "code",
      "execution_count": 62,
      "metadata": {
        "colab": {
          "base_uri": "https://localhost:8080/"
        },
        "id": "M4UiBm5h45Mz",
        "outputId": "893981bb-3c40-47dd-ab79-7b382aed0375"
      },
      "outputs": [
        {
          "output_type": "stream",
          "name": "stdout",
          "text": [
            "              precision    recall  f1-score   support\n",
            "\n",
            "           0       0.70      0.50      0.58       672\n",
            "           1       0.90      0.95      0.92      3079\n",
            "\n",
            "    accuracy                           0.87      3751\n",
            "   macro avg       0.80      0.73      0.75      3751\n",
            "weighted avg       0.86      0.87      0.86      3751\n",
            "\n"
          ]
        }
      ],
      "source": [
        "lr2 = LogisticRegression(penalty='l2', \n",
        "                        max_iter=10000,\n",
        "                        random_state=123)\n",
        "\n",
        "lr2.fit(X_train, y_train)\n",
        "y_lr2_pred = lr2.predict(X_test)\n",
        "\n",
        "print(classification_report(y_test, y_lr2_pred))"
      ]
    },
    {
      "cell_type": "code",
      "execution_count": 63,
      "metadata": {
        "colab": {
          "base_uri": "https://localhost:8080/"
        },
        "id": "ne_8SEiWEvn5",
        "outputId": "3fc01d42-22bd-4de3-9133-fb3e19d62348"
      },
      "outputs": [
        {
          "output_type": "execute_result",
          "data": {
            "text/plain": [
              "(8752, 13)"
            ]
          },
          "metadata": {},
          "execution_count": 63
        }
      ],
      "source": [
        "X_train.shape"
      ]
    },
    {
      "cell_type": "code",
      "execution_count": 64,
      "metadata": {
        "colab": {
          "base_uri": "https://localhost:8080/"
        },
        "id": "e2KnzGro45Mz",
        "outputId": "efcfc41d-03be-4a7d-abd8-bc2ee0f815aa"
      },
      "outputs": [
        {
          "output_type": "execute_result",
          "data": {
            "text/plain": [
              "(3751, 2)"
            ]
          },
          "metadata": {},
          "execution_count": 64
        }
      ],
      "source": [
        "pca = PCA(n_components=2)\n",
        "X_train_pca = pca.fit_transform(X_train)\n",
        "X_test_pca = pca.fit_transform(X_test)\n",
        "\n",
        "X_test_pca.shape"
      ]
    },
    {
      "cell_type": "code",
      "execution_count": 65,
      "metadata": {
        "colab": {
          "base_uri": "https://localhost:8080/"
        },
        "id": "klo-Jkuc45Mz",
        "outputId": "a5b1b064-1d84-40e3-9cbc-732999e16e0c"
      },
      "outputs": [
        {
          "output_type": "execute_result",
          "data": {
            "text/plain": [
              "array([ 5.76264367, -1.53500231, -1.65863665, ..., -1.96329929,\n",
              "        3.58170717, -1.45457604])"
            ]
          },
          "metadata": {},
          "execution_count": 65
        }
      ],
      "source": [
        "X_test_pca[:,0]"
      ]
    },
    {
      "cell_type": "code",
      "execution_count": 66,
      "metadata": {
        "colab": {
          "base_uri": "https://localhost:8080/"
        },
        "id": "pSt-N9dq45Mz",
        "outputId": "178f0b65-8612-4fed-e857-c478cf0191ff"
      },
      "outputs": [
        {
          "output_type": "execute_result",
          "data": {
            "text/plain": [
              "11921    1\n",
              "8479     1\n",
              "11511    1\n",
              "12051    1\n",
              "3621     0\n",
              "        ..\n",
              "3732     1\n",
              "12754    0\n",
              "9128     0\n",
              "4823     1\n",
              "5366     1\n",
              "Name: MIS_Status, Length: 3751, dtype: int64"
            ]
          },
          "metadata": {},
          "execution_count": 66
        }
      ],
      "source": [
        "y_test"
      ]
    },
    {
      "cell_type": "code",
      "execution_count": 67,
      "metadata": {
        "colab": {
          "base_uri": "https://localhost:8080/",
          "height": 447
        },
        "id": "tL5IQbha45M0",
        "outputId": "940437e3-576f-482a-a1a9-ed008d35cb89"
      },
      "outputs": [
        {
          "output_type": "execute_result",
          "data": {
            "text/plain": [
              "<matplotlib.collections.PathCollection at 0x7f9dfdcde5b0>"
            ]
          },
          "metadata": {},
          "execution_count": 67
        },
        {
          "output_type": "display_data",
          "data": {
            "text/plain": [
              "<Figure size 640x480 with 1 Axes>"
            ],
            "image/png": "[encoded data removed]"
          },
          "metadata": {}
        }
      ],
      "source": [
        "plt.scatter(X_test_pca[:,0], X_test_pca[:,1], c=y_test)"
      ]
    },
    {
      "cell_type": "code",
      "execution_count": 68,
      "metadata": {
        "id": "Al1qgup045M0"
      },
      "outputs": [],
      "source": [
        "pca_2d_points_train = list(zip(X_train_pca[:,0], X_train_pca[:,1]))\n",
        "pca_2d_points_test = list(zip(X_test_pca[:,0], X_test_pca[:,1]))"
      ]
    },
    {
      "cell_type": "code",
      "execution_count": 69,
      "metadata": {
        "colab": {
          "base_uri": "https://localhost:8080/",
          "height": 74
        },
        "id": "TSEbBFoX45M0",
        "outputId": "78cdf6f8-f392-4dc7-dcad-30307517480e"
      },
      "outputs": [
        {
          "output_type": "execute_result",
          "data": {
            "text/plain": [
              "KNeighborsClassifier(n_neighbors=3)"
            ],
            "text/html": [
              "<style>#sk-container-id-1 {color: black;background-color: white;}#sk-container-id-1 pre{padding: 0;}#sk-container-id-1 div.sk-toggleable {background-color: white;}#sk-container-id-1 label.sk-toggleable__label {cursor: pointer;display: block;width: 100%;margin-bottom: 0;padding: 0.3em;box-sizing: border-box;text-align: center;}#sk-container-id-1 label.sk-toggleable__label-arrow:before {content: \"▸\";float: left;margin-right: 0.25em;color: #696969;}#sk-container-id-1 label.sk-toggleable__label-arrow:hover:before {color: black;}#sk-container-id-1 div.sk-estimator:hover label.sk-toggleable__label-arrow:before {color: black;}#sk-container-id-1 div.sk-toggleable__content {max-height: 0;max-width: 0;overflow: hidden;text-align: left;background-color: #f0f8ff;}#sk-container-id-1 div.sk-toggleable__content pre {margin: 0.2em;color: black;border-radius: 0.25em;background-color: #f0f8ff;}#sk-container-id-1 input.sk-toggleable__control:checked~div.sk-toggleable__content {max-height: 200px;max-width: 100%;overflow: auto;}#sk-container-id-1 input.sk-toggleable__control:checked~label.sk-toggleable__label-arrow:before {content: \"▾\";}#sk-container-id-1 div.sk-estimator input.sk-toggleable__control:checked~label.sk-toggleable__label {background-color: #d4ebff;}#sk-container-id-1 div.sk-label input.sk-toggleable__control:checked~label.sk-toggleable__label {background-color: #d4ebff;}#sk-container-id-1 input.sk-hidden--visually {border: 0;clip: rect(1px 1px 1px 1px);clip: rect(1px, 1px, 1px, 1px);height: 1px;margin: -1px;overflow: hidden;padding: 0;position: absolute;width: 1px;}#sk-container-id-1 div.sk-estimator {font-family: monospace;background-color: #f0f8ff;border: 1px dotted black;border-radius: 0.25em;box-sizing: border-box;margin-bottom: 0.5em;}#sk-container-id-1 div.sk-estimator:hover {background-color: #d4ebff;}#sk-container-id-1 div.sk-parallel-item::after {content: \"\";width: 100%;border-bottom: 1px solid gray;flex-grow: 1;}#sk-container-id-1 div.sk-label:hover label.sk-toggleable__label {background-color: #d4ebff;}#sk-container-id-1 div.sk-serial::before {content: \"\";position: absolute;border-left: 1px solid gray;box-sizing: border-box;top: 0;bottom: 0;left: 50%;z-index: 0;}#sk-container-id-1 div.sk-serial {display: flex;flex-direction: column;align-items: center;background-color: white;padding-right: 0.2em;padding-left: 0.2em;position: relative;}#sk-container-id-1 div.sk-item {position: relative;z-index: 1;}#sk-container-id-1 div.sk-parallel {display: flex;align-items: stretch;justify-content: center;background-color: white;position: relative;}#sk-container-id-1 div.sk-item::before, #sk-container-id-1 div.sk-parallel-item::before {content: \"\";position: absolute;border-left: 1px solid gray;box-sizing: border-box;top: 0;bottom: 0;left: 50%;z-index: -1;}#sk-container-id-1 div.sk-parallel-item {display: flex;flex-direction: column;z-index: 1;position: relative;background-color: white;}#sk-container-id-1 div.sk-parallel-item:first-child::after {align-self: flex-end;width: 50%;}#sk-container-id-1 div.sk-parallel-item:last-child::after {align-self: flex-start;width: 50%;}#sk-container-id-1 div.sk-parallel-item:only-child::after {width: 0;}#sk-container-id-1 div.sk-dashed-wrapped {border: 1px dashed gray;margin: 0 0.4em 0.5em 0.4em;box-sizing: border-box;padding-bottom: 0.4em;background-color: white;}#sk-container-id-1 div.sk-label label {font-family: monospace;font-weight: bold;display: inline-block;line-height: 1.2em;}#sk-container-id-1 div.sk-label-container {text-align: center;}#sk-container-id-1 div.sk-container {/* jupyter's `normalize.less` sets `[hidden] { display: none; }` but bootstrap.min.css set `[hidden] { display: none !important; }` so we also need the `!important` here to be able to override the default hidden behavior on the sphinx rendered scikit-learn.org. See: https://github.com/scikit-learn/scikit-learn/issues/21755 */display: inline-block !important;position: relative;}#sk-container-id-1 div.sk-text-repr-fallback {display: none;}</style><div id=\"sk-container-id-1\" class=\"sk-top-container\"><div class=\"sk-text-repr-fallback\"><pre>KNeighborsClassifier(n_neighbors=3)</pre><b>In a Jupyter environment, please rerun this cell to show the HTML representation or trust the notebook. <br />On GitHub, the HTML representation is unable to render, please try loading this page with nbviewer.org.</b></div><div class=\"sk-container\" hidden><div class=\"sk-item\"><div class=\"sk-estimator sk-toggleable\"><input class=\"sk-toggleable__control sk-hidden--visually\" id=\"sk-estimator-id-1\" type=\"checkbox\" checked><label for=\"sk-estimator-id-1\" class=\"sk-toggleable__label sk-toggleable__label-arrow\">KNeighborsClassifier</label><div class=\"sk-toggleable__content\"><pre>KNeighborsClassifier(n_neighbors=3)</pre></div></div></div></div></div>"
            ]
          },
          "metadata": {},
          "execution_count": 69
        }
      ],
      "source": [
        "knn = KNeighborsClassifier(n_neighbors=3)\n",
        "\n",
        "knn.fit(pca_2d_points_train, y_train)"
      ]
    },
    {
      "cell_type": "code",
      "execution_count": 70,
      "metadata": {
        "colab": {
          "base_uri": "https://localhost:8080/"
        },
        "id": "3ygU0oq445M0",
        "outputId": "76817a50-2553-4801-fe54-5316681b3610"
      },
      "outputs": [
        {
          "output_type": "execute_result",
          "data": {
            "text/plain": [
              "0.7613969608104505"
            ]
          },
          "metadata": {},
          "execution_count": 70
        }
      ],
      "source": [
        "knn.score(pca_2d_points_test, y_test)"
      ]
    },
    {
      "cell_type": "code",
      "execution_count": 71,
      "metadata": {
        "colab": {
          "base_uri": "https://localhost:8080/",
          "height": 117
        },
        "id": "BHh7UzHK45M1",
        "outputId": "2ad3b82b-8245-4a45-8592-7527cc88c2de"
      },
      "outputs": [
        {
          "output_type": "execute_result",
          "data": {
            "text/plain": [
              "GridSearchCV(cv=10, estimator=KNeighborsClassifier(),\n",
              "             param_grid={'n_neighbors': array([ 1,  2,  3,  4,  5,  6,  7,  8,  9, 10, 11, 12, 13, 14])})"
            ],
            "text/html": [
              "<style>#sk-container-id-2 {color: black;background-color: white;}#sk-container-id-2 pre{padding: 0;}#sk-container-id-2 div.sk-toggleable {background-color: white;}#sk-container-id-2 label.sk-toggleable__label {cursor: pointer;display: block;width: 100%;margin-bottom: 0;padding: 0.3em;box-sizing: border-box;text-align: center;}#sk-container-id-2 label.sk-toggleable__label-arrow:before {content: \"▸\";float: left;margin-right: 0.25em;color: #696969;}#sk-container-id-2 label.sk-toggleable__label-arrow:hover:before {color: black;}#sk-container-id-2 div.sk-estimator:hover label.sk-toggleable__label-arrow:before {color: black;}#sk-container-id-2 div.sk-toggleable__content {max-height: 0;max-width: 0;overflow: hidden;text-align: left;background-color: #f0f8ff;}#sk-container-id-2 div.sk-toggleable__content pre {margin: 0.2em;color: black;border-radius: 0.25em;background-color: #f0f8ff;}#sk-container-id-2 input.sk-toggleable__control:checked~div.sk-toggleable__content {max-height: 200px;max-width: 100%;overflow: auto;}#sk-container-id-2 input.sk-toggleable__control:checked~label.sk-toggleable__label-arrow:before {content: \"▾\";}#sk-container-id-2 div.sk-estimator input.sk-toggleable__control:checked~label.sk-toggleable__label {background-color: #d4ebff;}#sk-container-id-2 div.sk-label input.sk-toggleable__control:checked~label.sk-toggleable__label {background-color: #d4ebff;}#sk-container-id-2 input.sk-hidden--visually {border: 0;clip: rect(1px 1px 1px 1px);clip: rect(1px, 1px, 1px, 1px);height: 1px;margin: -1px;overflow: hidden;padding: 0;position: absolute;width: 1px;}#sk-container-id-2 div.sk-estimator {font-family: monospace;background-color: #f0f8ff;border: 1px dotted black;border-radius: 0.25em;box-sizing: border-box;margin-bottom: 0.5em;}#sk-container-id-2 div.sk-estimator:hover {background-color: #d4ebff;}#sk-container-id-2 div.sk-parallel-item::after {content: \"\";width: 100%;border-bottom: 1px solid gray;flex-grow: 1;}#sk-container-id-2 div.sk-label:hover label.sk-toggleable__label {background-color: #d4ebff;}#sk-container-id-2 div.sk-serial::before {content: \"\";position: absolute;border-left: 1px solid gray;box-sizing: border-box;top: 0;bottom: 0;left: 50%;z-index: 0;}#sk-container-id-2 div.sk-serial {display: flex;flex-direction: column;align-items: center;background-color: white;padding-right: 0.2em;padding-left: 0.2em;position: relative;}#sk-container-id-2 div.sk-item {position: relative;z-index: 1;}#sk-container-id-2 div.sk-parallel {display: flex;align-items: stretch;justify-content: center;background-color: white;position: relative;}#sk-container-id-2 div.sk-item::before, #sk-container-id-2 div.sk-parallel-item::before {content: \"\";position: absolute;border-left: 1px solid gray;box-sizing: border-box;top: 0;bottom: 0;left: 50%;z-index: -1;}#sk-container-id-2 div.sk-parallel-item {display: flex;flex-direction: column;z-index: 1;position: relative;background-color: white;}#sk-container-id-2 div.sk-parallel-item:first-child::after {align-self: flex-end;width: 50%;}#sk-container-id-2 div.sk-parallel-item:last-child::after {align-self: flex-start;width: 50%;}#sk-container-id-2 div.sk-parallel-item:only-child::after {width: 0;}#sk-container-id-2 div.sk-dashed-wrapped {border: 1px dashed gray;margin: 0 0.4em 0.5em 0.4em;box-sizing: border-box;padding-bottom: 0.4em;background-color: white;}#sk-container-id-2 div.sk-label label {font-family: monospace;font-weight: bold;display: inline-block;line-height: 1.2em;}#sk-container-id-2 div.sk-label-container {text-align: center;}#sk-container-id-2 div.sk-container {/* jupyter's `normalize.less` sets `[hidden] { display: none; }` but bootstrap.min.css set `[hidden] { display: none !important; }` so we also need the `!important` here to be able to override the default hidden behavior on the sphinx rendered scikit-learn.org. See: https://github.com/scikit-learn/scikit-learn/issues/21755 */display: inline-block !important;position: relative;}#sk-container-id-2 div.sk-text-repr-fallback {display: none;}</style><div id=\"sk-container-id-2\" class=\"sk-top-container\"><div class=\"sk-text-repr-fallback\"><pre>GridSearchCV(cv=10, estimator=KNeighborsClassifier(),\n",
              "             param_grid={&#x27;n_neighbors&#x27;: array([ 1,  2,  3,  4,  5,  6,  7,  8,  9, 10, 11, 12, 13, 14])})</pre><b>In a Jupyter environment, please rerun this cell to show the HTML representation or trust the notebook. <br />On GitHub, the HTML representation is unable to render, please try loading this page with nbviewer.org.</b></div><div class=\"sk-container\" hidden><div class=\"sk-item sk-dashed-wrapped\"><div class=\"sk-label-container\"><div class=\"sk-label sk-toggleable\"><input class=\"sk-toggleable__control sk-hidden--visually\" id=\"sk-estimator-id-2\" type=\"checkbox\" ><label for=\"sk-estimator-id-2\" class=\"sk-toggleable__label sk-toggleable__label-arrow\">GridSearchCV</label><div class=\"sk-toggleable__content\"><pre>GridSearchCV(cv=10, estimator=KNeighborsClassifier(),\n",
              "             param_grid={&#x27;n_neighbors&#x27;: array([ 1,  2,  3,  4,  5,  6,  7,  8,  9, 10, 11, 12, 13, 14])})</pre></div></div></div><div class=\"sk-parallel\"><div class=\"sk-parallel-item\"><div class=\"sk-item\"><div class=\"sk-label-container\"><div class=\"sk-label sk-toggleable\"><input class=\"sk-toggleable__control sk-hidden--visually\" id=\"sk-estimator-id-3\" type=\"checkbox\" ><label for=\"sk-estimator-id-3\" class=\"sk-toggleable__label sk-toggleable__label-arrow\">estimator: KNeighborsClassifier</label><div class=\"sk-toggleable__content\"><pre>KNeighborsClassifier()</pre></div></div></div><div class=\"sk-serial\"><div class=\"sk-item\"><div class=\"sk-estimator sk-toggleable\"><input class=\"sk-toggleable__control sk-hidden--visually\" id=\"sk-estimator-id-4\" type=\"checkbox\" ><label for=\"sk-estimator-id-4\" class=\"sk-toggleable__label sk-toggleable__label-arrow\">KNeighborsClassifier</label><div class=\"sk-toggleable__content\"><pre>KNeighborsClassifier()</pre></div></div></div></div></div></div></div></div></div></div>"
            ]
          },
          "metadata": {},
          "execution_count": 71
        }
      ],
      "source": [
        "knn2_pca = KNeighborsClassifier()\n",
        "param_grid = {'n_neighbors': np.arange(1, 15)}\n",
        "knn2_pca_gscv = GridSearchCV(knn2_pca, param_grid, cv=10)\n",
        "knn2_pca_gscv.fit(pca_2d_points_train, y_train)"
      ]
    },
    {
      "cell_type": "code",
      "execution_count": 72,
      "metadata": {
        "colab": {
          "base_uri": "https://localhost:8080/"
        },
        "id": "Z5Ny9z0745M1",
        "outputId": "096f2c79-6ca1-449b-ef94-90a45999291d"
      },
      "outputs": [
        {
          "output_type": "execute_result",
          "data": {
            "text/plain": [
              "14"
            ]
          },
          "metadata": {},
          "execution_count": 72
        }
      ],
      "source": [
        "knn2_pca_best_n = [*knn2_pca_gscv.best_params_.values()][0]\n",
        "knn2_pca_best_n"
      ]
    },
    {
      "cell_type": "code",
      "execution_count": 73,
      "metadata": {
        "colab": {
          "base_uri": "https://localhost:8080/"
        },
        "id": "lf1XJMS045M1",
        "outputId": "8d647497-9030-46d2-bac7-b48ed783619a"
      },
      "outputs": [
        {
          "output_type": "execute_result",
          "data": {
            "text/plain": [
              "0.7792588643028526"
            ]
          },
          "metadata": {},
          "execution_count": 73
        }
      ],
      "source": [
        "knn_pca_best = KNeighborsClassifier(n_neighbors=knn2_pca_best_n)\n",
        "knn_pca_best.fit(pca_2d_points_train, y_train)\n",
        "knn_pca_best.score(pca_2d_points_test, y_test)"
      ]
    },
    {
      "cell_type": "code",
      "execution_count": 74,
      "metadata": {
        "colab": {
          "base_uri": "https://localhost:8080/",
          "height": 117
        },
        "id": "VLkq4U7WGB5J",
        "outputId": "e88bb492-b789-46cb-9391-c8cd05f02dfa"
      },
      "outputs": [
        {
          "output_type": "execute_result",
          "data": {
            "text/plain": [
              "GridSearchCV(cv=10, estimator=KNeighborsClassifier(),\n",
              "             param_grid={'n_neighbors': array([ 1,  2,  3,  4,  5,  6,  7,  8,  9, 10, 11, 12, 13, 14])})"
            ],
            "text/html": [
              "<style>#sk-container-id-3 {color: black;background-color: white;}#sk-container-id-3 pre{padding: 0;}#sk-container-id-3 div.sk-toggleable {background-color: white;}#sk-container-id-3 label.sk-toggleable__label {cursor: pointer;display: block;width: 100%;margin-bottom: 0;padding: 0.3em;box-sizing: border-box;text-align: center;}#sk-container-id-3 label.sk-toggleable__label-arrow:before {content: \"▸\";float: left;margin-right: 0.25em;color: #696969;}#sk-container-id-3 label.sk-toggleable__label-arrow:hover:before {color: black;}#sk-container-id-3 div.sk-estimator:hover label.sk-toggleable__label-arrow:before {color: black;}#sk-container-id-3 div.sk-toggleable__content {max-height: 0;max-width: 0;overflow: hidden;text-align: left;background-color: #f0f8ff;}#sk-container-id-3 div.sk-toggleable__content pre {margin: 0.2em;color: black;border-radius: 0.25em;background-color: #f0f8ff;}#sk-container-id-3 input.sk-toggleable__control:checked~div.sk-toggleable__content {max-height: 200px;max-width: 100%;overflow: auto;}#sk-container-id-3 input.sk-toggleable__control:checked~label.sk-toggleable__label-arrow:before {content: \"▾\";}#sk-container-id-3 div.sk-estimator input.sk-toggleable__control:checked~label.sk-toggleable__label {background-color: #d4ebff;}#sk-container-id-3 div.sk-label input.sk-toggleable__control:checked~label.sk-toggleable__label {background-color: #d4ebff;}#sk-container-id-3 input.sk-hidden--visually {border: 0;clip: rect(1px 1px 1px 1px);clip: rect(1px, 1px, 1px, 1px);height: 1px;margin: -1px;overflow: hidden;padding: 0;position: absolute;width: 1px;}#sk-container-id-3 div.sk-estimator {font-family: monospace;background-color: #f0f8ff;border: 1px dotted black;border-radius: 0.25em;box-sizing: border-box;margin-bottom: 0.5em;}#sk-container-id-3 div.sk-estimator:hover {background-color: #d4ebff;}#sk-container-id-3 div.sk-parallel-item::after {content: \"\";width: 100%;border-bottom: 1px solid gray;flex-grow: 1;}#sk-container-id-3 div.sk-label:hover label.sk-toggleable__label {background-color: #d4ebff;}#sk-container-id-3 div.sk-serial::before {content: \"\";position: absolute;border-left: 1px solid gray;box-sizing: border-box;top: 0;bottom: 0;left: 50%;z-index: 0;}#sk-container-id-3 div.sk-serial {display: flex;flex-direction: column;align-items: center;background-color: white;padding-right: 0.2em;padding-left: 0.2em;position: relative;}#sk-container-id-3 div.sk-item {position: relative;z-index: 1;}#sk-container-id-3 div.sk-parallel {display: flex;align-items: stretch;justify-content: center;background-color: white;position: relative;}#sk-container-id-3 div.sk-item::before, #sk-container-id-3 div.sk-parallel-item::before {content: \"\";position: absolute;border-left: 1px solid gray;box-sizing: border-box;top: 0;bottom: 0;left: 50%;z-index: -1;}#sk-container-id-3 div.sk-parallel-item {display: flex;flex-direction: column;z-index: 1;position: relative;background-color: white;}#sk-container-id-3 div.sk-parallel-item:first-child::after {align-self: flex-end;width: 50%;}#sk-container-id-3 div.sk-parallel-item:last-child::after {align-self: flex-start;width: 50%;}#sk-container-id-3 div.sk-parallel-item:only-child::after {width: 0;}#sk-container-id-3 div.sk-dashed-wrapped {border: 1px dashed gray;margin: 0 0.4em 0.5em 0.4em;box-sizing: border-box;padding-bottom: 0.4em;background-color: white;}#sk-container-id-3 div.sk-label label {font-family: monospace;font-weight: bold;display: inline-block;line-height: 1.2em;}#sk-container-id-3 div.sk-label-container {text-align: center;}#sk-container-id-3 div.sk-container {/* jupyter's `normalize.less` sets `[hidden] { display: none; }` but bootstrap.min.css set `[hidden] { display: none !important; }` so we also need the `!important` here to be able to override the default hidden behavior on the sphinx rendered scikit-learn.org. See: https://github.com/scikit-learn/scikit-learn/issues/21755 */display: inline-block !important;position: relative;}#sk-container-id-3 div.sk-text-repr-fallback {display: none;}</style><div id=\"sk-container-id-3\" class=\"sk-top-container\"><div class=\"sk-text-repr-fallback\"><pre>GridSearchCV(cv=10, estimator=KNeighborsClassifier(),\n",
              "             param_grid={&#x27;n_neighbors&#x27;: array([ 1,  2,  3,  4,  5,  6,  7,  8,  9, 10, 11, 12, 13, 14])})</pre><b>In a Jupyter environment, please rerun this cell to show the HTML representation or trust the notebook. <br />On GitHub, the HTML representation is unable to render, please try loading this page with nbviewer.org.</b></div><div class=\"sk-container\" hidden><div class=\"sk-item sk-dashed-wrapped\"><div class=\"sk-label-container\"><div class=\"sk-label sk-toggleable\"><input class=\"sk-toggleable__control sk-hidden--visually\" id=\"sk-estimator-id-5\" type=\"checkbox\" ><label for=\"sk-estimator-id-5\" class=\"sk-toggleable__label sk-toggleable__label-arrow\">GridSearchCV</label><div class=\"sk-toggleable__content\"><pre>GridSearchCV(cv=10, estimator=KNeighborsClassifier(),\n",
              "             param_grid={&#x27;n_neighbors&#x27;: array([ 1,  2,  3,  4,  5,  6,  7,  8,  9, 10, 11, 12, 13, 14])})</pre></div></div></div><div class=\"sk-parallel\"><div class=\"sk-parallel-item\"><div class=\"sk-item\"><div class=\"sk-label-container\"><div class=\"sk-label sk-toggleable\"><input class=\"sk-toggleable__control sk-hidden--visually\" id=\"sk-estimator-id-6\" type=\"checkbox\" ><label for=\"sk-estimator-id-6\" class=\"sk-toggleable__label sk-toggleable__label-arrow\">estimator: KNeighborsClassifier</label><div class=\"sk-toggleable__content\"><pre>KNeighborsClassifier()</pre></div></div></div><div class=\"sk-serial\"><div class=\"sk-item\"><div class=\"sk-estimator sk-toggleable\"><input class=\"sk-toggleable__control sk-hidden--visually\" id=\"sk-estimator-id-7\" type=\"checkbox\" ><label for=\"sk-estimator-id-7\" class=\"sk-toggleable__label sk-toggleable__label-arrow\">KNeighborsClassifier</label><div class=\"sk-toggleable__content\"><pre>KNeighborsClassifier()</pre></div></div></div></div></div></div></div></div></div></div>"
            ]
          },
          "metadata": {},
          "execution_count": 74
        }
      ],
      "source": [
        "knn2 = KNeighborsClassifier()\n",
        "param_grid = {'n_neighbors': np.arange(1, 15)}\n",
        "knn2_gscv = GridSearchCV(knn2, param_grid, cv=10)\n",
        "knn2_gscv.fit(X_train, y_train)"
      ]
    },
    {
      "cell_type": "code",
      "execution_count": 75,
      "metadata": {
        "id": "vF4X4Q9SGrW2",
        "colab": {
          "base_uri": "https://localhost:8080/"
        },
        "outputId": "746a34bc-465c-445c-a988-7bc3da6226b8"
      },
      "outputs": [
        {
          "output_type": "execute_result",
          "data": {
            "text/plain": [
              "5"
            ]
          },
          "metadata": {},
          "execution_count": 75
        }
      ],
      "source": [
        "knn2_best_n = [*knn2_gscv.best_params_.values()][0]\n",
        "knn2_best_n"
      ]
    },
    {
      "cell_type": "code",
      "execution_count": 94,
      "metadata": {
        "id": "99ljnVvr9U5_",
        "colab": {
          "base_uri": "https://localhost:8080/",
          "height": 74
        },
        "outputId": "9c0617a5-7196-4d55-8406-623a9d610bf3"
      },
      "outputs": [
        {
          "output_type": "execute_result",
          "data": {
            "text/plain": [
              "KNeighborsClassifier()"
            ],
            "text/html": [
              "<style>#sk-container-id-6 {color: black;background-color: white;}#sk-container-id-6 pre{padding: 0;}#sk-container-id-6 div.sk-toggleable {background-color: white;}#sk-container-id-6 label.sk-toggleable__label {cursor: pointer;display: block;width: 100%;margin-bottom: 0;padding: 0.3em;box-sizing: border-box;text-align: center;}#sk-container-id-6 label.sk-toggleable__label-arrow:before {content: \"▸\";float: left;margin-right: 0.25em;color: #696969;}#sk-container-id-6 label.sk-toggleable__label-arrow:hover:before {color: black;}#sk-container-id-6 div.sk-estimator:hover label.sk-toggleable__label-arrow:before {color: black;}#sk-container-id-6 div.sk-toggleable__content {max-height: 0;max-width: 0;overflow: hidden;text-align: left;background-color: #f0f8ff;}#sk-container-id-6 div.sk-toggleable__content pre {margin: 0.2em;color: black;border-radius: 0.25em;background-color: #f0f8ff;}#sk-container-id-6 input.sk-toggleable__control:checked~div.sk-toggleable__content {max-height: 200px;max-width: 100%;overflow: auto;}#sk-container-id-6 input.sk-toggleable__control:checked~label.sk-toggleable__label-arrow:before {content: \"▾\";}#sk-container-id-6 div.sk-estimator input.sk-toggleable__control:checked~label.sk-toggleable__label {background-color: #d4ebff;}#sk-container-id-6 div.sk-label input.sk-toggleable__control:checked~label.sk-toggleable__label {background-color: #d4ebff;}#sk-container-id-6 input.sk-hidden--visually {border: 0;clip: rect(1px 1px 1px 1px);clip: rect(1px, 1px, 1px, 1px);height: 1px;margin: -1px;overflow: hidden;padding: 0;position: absolute;width: 1px;}#sk-container-id-6 div.sk-estimator {font-family: monospace;background-color: #f0f8ff;border: 1px dotted black;border-radius: 0.25em;box-sizing: border-box;margin-bottom: 0.5em;}#sk-container-id-6 div.sk-estimator:hover {background-color: #d4ebff;}#sk-container-id-6 div.sk-parallel-item::after {content: \"\";width: 100%;border-bottom: 1px solid gray;flex-grow: 1;}#sk-container-id-6 div.sk-label:hover label.sk-toggleable__label {background-color: #d4ebff;}#sk-container-id-6 div.sk-serial::before {content: \"\";position: absolute;border-left: 1px solid gray;box-sizing: border-box;top: 0;bottom: 0;left: 50%;z-index: 0;}#sk-container-id-6 div.sk-serial {display: flex;flex-direction: column;align-items: center;background-color: white;padding-right: 0.2em;padding-left: 0.2em;position: relative;}#sk-container-id-6 div.sk-item {position: relative;z-index: 1;}#sk-container-id-6 div.sk-parallel {display: flex;align-items: stretch;justify-content: center;background-color: white;position: relative;}#sk-container-id-6 div.sk-item::before, #sk-container-id-6 div.sk-parallel-item::before {content: \"\";position: absolute;border-left: 1px solid gray;box-sizing: border-box;top: 0;bottom: 0;left: 50%;z-index: -1;}#sk-container-id-6 div.sk-parallel-item {display: flex;flex-direction: column;z-index: 1;position: relative;background-color: white;}#sk-container-id-6 div.sk-parallel-item:first-child::after {align-self: flex-end;width: 50%;}#sk-container-id-6 div.sk-parallel-item:last-child::after {align-self: flex-start;width: 50%;}#sk-container-id-6 div.sk-parallel-item:only-child::after {width: 0;}#sk-container-id-6 div.sk-dashed-wrapped {border: 1px dashed gray;margin: 0 0.4em 0.5em 0.4em;box-sizing: border-box;padding-bottom: 0.4em;background-color: white;}#sk-container-id-6 div.sk-label label {font-family: monospace;font-weight: bold;display: inline-block;line-height: 1.2em;}#sk-container-id-6 div.sk-label-container {text-align: center;}#sk-container-id-6 div.sk-container {/* jupyter's `normalize.less` sets `[hidden] { display: none; }` but bootstrap.min.css set `[hidden] { display: none !important; }` so we also need the `!important` here to be able to override the default hidden behavior on the sphinx rendered scikit-learn.org. See: https://github.com/scikit-learn/scikit-learn/issues/21755 */display: inline-block !important;position: relative;}#sk-container-id-6 div.sk-text-repr-fallback {display: none;}</style><div id=\"sk-container-id-6\" class=\"sk-top-container\"><div class=\"sk-text-repr-fallback\"><pre>KNeighborsClassifier()</pre><b>In a Jupyter environment, please rerun this cell to show the HTML representation or trust the notebook. <br />On GitHub, the HTML representation is unable to render, please try loading this page with nbviewer.org.</b></div><div class=\"sk-container\" hidden><div class=\"sk-item\"><div class=\"sk-estimator sk-toggleable\"><input class=\"sk-toggleable__control sk-hidden--visually\" id=\"sk-estimator-id-10\" type=\"checkbox\" checked><label for=\"sk-estimator-id-10\" class=\"sk-toggleable__label sk-toggleable__label-arrow\">KNeighborsClassifier</label><div class=\"sk-toggleable__content\"><pre>KNeighborsClassifier()</pre></div></div></div></div></div>"
            ]
          },
          "metadata": {},
          "execution_count": 94
        }
      ],
      "source": [
        "knn_best = KNeighborsClassifier(n_neighbors=knn2_best_n)\n",
        "\n",
        "knn_best.fit(X_train, y_train)"
      ]
    },
    {
      "cell_type": "code",
      "execution_count": 77,
      "metadata": {
        "id": "j6bqxhu8-RWb",
        "colab": {
          "base_uri": "https://localhost:8080/"
        },
        "outputId": "f4e4ceee-08c4-46e2-d3e6-aaca7f01fbc5"
      },
      "outputs": [
        {
          "output_type": "execute_result",
          "data": {
            "text/plain": [
              "0.9165555851772861"
            ]
          },
          "metadata": {},
          "execution_count": 77
        }
      ],
      "source": [
        "knn_best.score(X_test, y_test)"
      ]
    },
    {
      "cell_type": "code",
      "execution_count": 97,
      "metadata": {
        "id": "9epnOlfd45M2",
        "colab": {
          "base_uri": "https://localhost:8080/"
        },
        "outputId": "085fcd8e-8d51-4a71-98e1-b64e9bcf4311"
      },
      "outputs": [
        {
          "output_type": "stream",
          "name": "stdout",
          "text": [
            "              precision    recall  f1-score   support\n",
            "\n",
            "           1       0.82      1.00      0.90      3079\n",
            "\n",
            "   micro avg       0.82      1.00      0.90      3079\n",
            "   macro avg       0.82      1.00      0.90      3079\n",
            "weighted avg       0.82      1.00      0.90      3079\n",
            "\n"
          ]
        },
        {
          "output_type": "stream",
          "name": "stderr",
          "text": [
            "/usr/local/lib/python3.9/dist-packages/sklearn/linear_model/_logistic.py:1173: FutureWarning: `penalty='none'`has been deprecated in 1.2 and will be removed in 1.4. To keep the past behaviour, set `penalty=None`.\n",
            "  warnings.warn(\n"
          ]
        }
      ],
      "source": [
        "lr_pca = LogisticRegression(penalty='none',\n",
        "                            max_iter=10000,\n",
        "                            random_state=123)\n",
        "\n",
        "lr_pca.fit(X_train_pca, y_train)\n",
        "y_pca_pred = lr_pca.predict(X_test_pca)\n",
        "\n",
        "print(classification_report(y_test, y_pca_pred, labels=np.unique(y_pca_pred)))"
      ]
    },
    {
      "cell_type": "code",
      "execution_count": 79,
      "metadata": {
        "id": "UcEgFgRL45M2"
      },
      "outputs": [],
      "source": [
        "tsne = TSNE(n_components=2)\n",
        "X_train_tsne = tsne.fit_transform(X_train)\n",
        "X_test_tsne = tsne.fit_transform(X_test)"
      ]
    },
    {
      "cell_type": "code",
      "execution_count": 98,
      "metadata": {
        "id": "P5vDCN8Q45M3",
        "colab": {
          "base_uri": "https://localhost:8080/"
        },
        "outputId": "9f47ccab-2c16-4c64-93b3-bccb9706eeeb"
      },
      "outputs": [
        {
          "output_type": "stream",
          "name": "stdout",
          "text": [
            "              precision    recall  f1-score   support\n",
            "\n",
            "           1       0.82      1.00      0.90      3079\n",
            "\n",
            "   micro avg       0.82      1.00      0.90      3079\n",
            "   macro avg       0.82      1.00      0.90      3079\n",
            "weighted avg       0.82      1.00      0.90      3079\n",
            "\n"
          ]
        },
        {
          "output_type": "stream",
          "name": "stderr",
          "text": [
            "/usr/local/lib/python3.9/dist-packages/sklearn/linear_model/_logistic.py:1173: FutureWarning: `penalty='none'`has been deprecated in 1.2 and will be removed in 1.4. To keep the past behaviour, set `penalty=None`.\n",
            "  warnings.warn(\n"
          ]
        }
      ],
      "source": [
        "lr_tsne = LogisticRegression(penalty='none',\n",
        "                            max_iter=10000,\n",
        "                            random_state=123)\n",
        "lr_tsne.fit(X_train_tsne, y_train)\n",
        "y_tsne_pred = lr_tsne.predict(X_test_tsne)\n",
        "\n",
        "print(classification_report(y_test, y_tsne_pred, labels=np.unique(y_tsne_pred)))"
      ]
    },
    {
      "cell_type": "code",
      "execution_count": 90,
      "metadata": {
        "id": "oyqBSGHo45M3",
        "colab": {
          "base_uri": "https://localhost:8080/"
        },
        "outputId": "c023ff47-c12c-4ebe-86b2-c0bcde633115"
      },
      "outputs": [
        {
          "output_type": "stream",
          "name": "stdout",
          "text": [
            "ApprovalFY       : 1.58\n",
            "Term             : 2.65\n",
            "NoEmp            : 0.21\n",
            "CreateJob        : 0.08\n",
            "RetainedJob      : -0.16\n",
            "RevLineCr        : 0.26\n",
            "LowDoc           : 0.36\n",
            "MIS_Status       : -0.04\n",
            "GrAppv           : 0.20\n",
            "IsNewBusiness    : 0.47\n",
            "DisbursementTime : -0.10\n",
            "IsFranchise      : 1.27\n",
            "UrbanRural_0     : -0.16\n"
          ]
        }
      ],
      "source": [
        "imp = lr.coef_[0]\n",
        "\n",
        "for i,v in enumerate(imp):\n",
        "    print(f'{df.columns[i]:17}: {v:.2f}')"
      ]
    },
    {
      "cell_type": "code",
      "execution_count": 82,
      "metadata": {
        "id": "pSLm8ulT45M3",
        "colab": {
          "base_uri": "https://localhost:8080/"
        },
        "outputId": "3de64313-e5cf-4968-f023-9630b30fd9c2"
      },
      "outputs": [
        {
          "output_type": "stream",
          "name": "stdout",
          "text": [
            "              precision    recall  f1-score   support\n",
            "\n",
            "           0      0.857     0.872     0.864       672\n",
            "           1      0.972     0.968     0.970      3079\n",
            "\n",
            "    accuracy                          0.951      3751\n",
            "   macro avg      0.914     0.920     0.917      3751\n",
            "weighted avg      0.951     0.951     0.951      3751\n",
            "\n"
          ]
        }
      ],
      "source": [
        "xgb = XGBClassifier(random_state=123)\n",
        "\n",
        "xgb.fit(X_train, y_train)\n",
        "y_xgb_pred = xgb.predict(X_test)\n",
        "\n",
        "print(classification_report(y_test, y_xgb_pred, digits=3))"
      ]
    },
    {
      "cell_type": "code",
      "execution_count": 83,
      "metadata": {
        "id": "6-LTGeqU45M3",
        "colab": {
          "base_uri": "https://localhost:8080/"
        },
        "outputId": "4a548cb1-29e3-4ca2-c5e6-e2bf85b0d864"
      },
      "outputs": [
        {
          "output_type": "stream",
          "name": "stdout",
          "text": [
            "Term             : 0.27\n",
            "ApprovalFY       : 0.22\n",
            "UrbanRural_0     : 0.12\n",
            "LowDoc           : 0.06\n",
            "IsNewBusiness    : 0.05\n",
            "RevLineCr        : 0.05\n",
            "IsFranchise      : 0.05\n",
            "GrAppv           : 0.04\n",
            "UrbanRural_1     : 0.03\n",
            "DisbursementTime : 0.03\n",
            "RetainedJob      : 0.03\n",
            "NoEmp            : 0.02\n",
            "CreateJob        : 0.02\n"
          ]
        }
      ],
      "source": [
        "for col, imp in sorted(zip(df.drop(columns='MIS_Status', index=1).columns,\n",
        "                            xgb.feature_importances_), \n",
        "                            key=lambda x: x[1], reverse=True):\n",
        "    \n",
        "    print(f'{col:16} : {imp:.2f}')"
      ]
    },
    {
      "cell_type": "code",
      "execution_count": 84,
      "metadata": {
        "id": "_0ChDq5i45M3",
        "colab": {
          "base_uri": "https://localhost:8080/"
        },
        "outputId": "9b33e3e7-2930-459c-e2bd-820d0789e344"
      },
      "outputs": [
        {
          "output_type": "stream",
          "name": "stdout",
          "text": [
            "ApprovalFY       : 0.22\n",
            "Term             : 0.27\n",
            "NoEmp            : 0.02\n",
            "CreateJob        : 0.02\n",
            "RetainedJob      : 0.03\n",
            "RevLineCr        : 0.05\n",
            "LowDoc           : 0.06\n",
            "GrAppv           : 0.04\n",
            "IsNewBusiness    : 0.05\n",
            "DisbursementTime : 0.03\n",
            "IsFranchise      : 0.05\n",
            "UrbanRural_0     : 0.12\n",
            "UrbanRural_1     : 0.03\n"
          ]
        }
      ],
      "source": [
        "for col, imp in zip(df.drop(columns='MIS_Status', index=1).columns,\n",
        "                            xgb.feature_importances_):\n",
        "    \n",
        "    print(f'{col:16} : {imp:.2f}')"
      ]
    },
    {
      "cell_type": "code",
      "execution_count": 85,
      "metadata": {
        "id": "qCVmRh8V45M4"
      },
      "outputs": [],
      "source": [
        "X_train2 = np.delete(X_train, [2,10,11], 1)\n",
        "X_test2 = np.delete(X_test, [2,10,11], 1)"
      ]
    },
    {
      "cell_type": "code",
      "execution_count": 86,
      "metadata": {
        "id": "faLmgQoY45M4",
        "colab": {
          "base_uri": "https://localhost:8080/"
        },
        "outputId": "7aaa7709-ffdf-4014-860f-b6e7751251e2"
      },
      "outputs": [
        {
          "output_type": "stream",
          "name": "stdout",
          "text": [
            "              precision    recall  f1-score   support\n",
            "\n",
            "           0      0.858     0.875     0.867       672\n",
            "           1      0.973     0.968     0.971      3079\n",
            "\n",
            "    accuracy                          0.952      3751\n",
            "   macro avg      0.915     0.922     0.919      3751\n",
            "weighted avg      0.952     0.952     0.952      3751\n",
            "\n"
          ]
        }
      ],
      "source": [
        "xgb2 = XGBClassifier(random_state=123)\n",
        "\n",
        "xgb2.fit(X_train2, y_train)\n",
        "y_xgb2_pred = xgb2.predict(X_test2)\n",
        "\n",
        "print(classification_report(y_test, y_xgb2_pred, digits=3))"
      ]
    },
    {
      "cell_type": "code",
      "execution_count": 87,
      "metadata": {
        "id": "ynTnFz8J45M4",
        "colab": {
          "base_uri": "https://localhost:8080/"
        },
        "outputId": "d97d2e98-259b-4501-dfa6-a7c36020da13"
      },
      "outputs": [
        {
          "output_type": "stream",
          "name": "stdout",
          "text": [
            "[[ 588   84]\n",
            " [  97 2982]]\n"
          ]
        }
      ],
      "source": [
        "print(confusion_matrix(y_test, y_xgb2_pred))"
      ]
    },
    {
      "cell_type": "code",
      "execution_count": 87,
      "metadata": {
        "id": "fVt4g7P445M4"
      },
      "outputs": [],
      "source": []
    },
    {
      "cell_type": "code",
      "execution_count": 99,
      "metadata": {
        "id": "PFJXYuCL45M4",
        "colab": {
          "base_uri": "https://localhost:8080/"
        },
        "outputId": "511a1c5c-efcf-4541-8e19-0207e499ee3b"
      },
      "outputs": [
        {
          "output_type": "stream",
          "name": "stdout",
          "text": [
            "              precision    recall  f1-score   support\n",
            "\n",
            "           0      0.415     0.728     0.529       383\n",
            "           1      0.966     0.883     0.923      3368\n",
            "\n",
            "    accuracy                          0.868      3751\n",
            "   macro avg      0.691     0.806     0.726      3751\n",
            "weighted avg      0.910     0.868     0.883      3751\n",
            "\n"
          ]
        }
      ],
      "source": [
        "m_svm = svm.LinearSVC(dual=False)\n",
        "m_svm.fit(X_train2, y_train)\n",
        "y_svm_pred = m_svm.predict(X_test2)\n",
        "\n",
        "print(classification_report(y_svm_pred, y_test, digits=3))"
      ]
    }
  ],
  "metadata": {
    "colab": {
      "provenance": []
    },
    "kernelspec": {
      "display_name": "Python 3",
      "name": "python3"
    },
    "language_info": {
      "codemirror_mode": {
        "name": "ipython",
        "version": 3
      },
      "file_extension": ".py",
      "mimetype": "text/x-python",
      "name": "python",
      "nbconvert_exporter": "python",
      "pygments_lexer": "ipython3",
      "version": "3.11.1"
    }
  },
  "nbformat": 4,
  "nbformat_minor": 0
}